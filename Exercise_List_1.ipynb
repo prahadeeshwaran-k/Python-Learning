{
  "nbformat": 4,
  "nbformat_minor": 0,
  "metadata": {
    "colab": {
      "name": "Exercise-List.1.ipynb",
      "provenance": [],
      "collapsed_sections": [],
      "authorship_tag": "ABX9TyPR++b5PL+oA5FS7rwU4qxx",
      "include_colab_link": true
    },
    "kernelspec": {
      "name": "python3",
      "display_name": "Python 3"
    },
    "language_info": {
      "name": "python"
    }
  },
  "cells": [
    {
      "cell_type": "markdown",
      "metadata": {
        "id": "view-in-github",
        "colab_type": "text"
      },
      "source": [
        "<a href=\"https://colab.research.google.com/github/prahadeeshwaran-k/Python-Learning/blob/main/Exercise_List_1.ipynb\" target=\"_parent\"><img src=\"https://colab.research.google.com/assets/colab-badge.svg\" alt=\"Open In Colab\"/></a>"
      ]
    },
    {
      "cell_type": "markdown",
      "metadata": {
        "id": "8d9ytkXvFk5I"
      },
      "source": [
        "**List Basics**"
      ]
    },
    {
      "cell_type": "code",
      "metadata": {
        "colab": {
          "base_uri": "https://localhost:8080/"
        },
        "id": "y0OHIBiNFo3L",
        "outputId": "215e7274-b125-4d4b-96bb-3dc10223e3d3"
      },
      "source": [
        "Basic_list = [\"person1\",\"person2\",\"person3\",\"person4\"]\n",
        "print(Basic_list)"
      ],
      "execution_count": null,
      "outputs": [
        {
          "output_type": "stream",
          "name": "stdout",
          "text": [
            "['person1', 'person2', 'person3', 'person4']\n"
          ]
        }
      ]
    },
    {
      "cell_type": "markdown",
      "metadata": {
        "id": "Gcz2hkzlG1pU"
      },
      "source": [
        "**Create and print**"
      ]
    },
    {
      "cell_type": "code",
      "metadata": {
        "id": "PVU1N2bGG_xF"
      },
      "source": [
        "Mylist=[\"gaurav\",\"prahadeesh\",\"kishor\"]\n",
        "print(Mylist)"
      ],
      "execution_count": null,
      "outputs": []
    },
    {
      "cell_type": "markdown",
      "metadata": {
        "id": "njxKhR2iHnnL"
      },
      "source": [
        "**List is allow to duplicate**"
      ]
    },
    {
      "cell_type": "code",
      "metadata": {
        "colab": {
          "base_uri": "https://localhost:8080/"
        },
        "id": "PgMOh2jDH7lk",
        "outputId": "360bbac0-6ef4-4ea5-ce0e-b04e84c0b431"
      },
      "source": [
        "Mylistdup=[\"gaurav\",\"gaurav\",\"prahadeesh\",\"kishor\",\"kishor\"]\n",
        "print(Mylistdup)"
      ],
      "execution_count": null,
      "outputs": [
        {
          "output_type": "stream",
          "name": "stdout",
          "text": [
            "['gaurav', 'gaurav', 'prahadeesh', 'kishor', 'kishor']\n"
          ]
        }
      ]
    },
    {
      "cell_type": "markdown",
      "metadata": {
        "id": "NhS6y3ddIVEd"
      },
      "source": [
        "**To find the length of the list using pre bild function len()**"
      ]
    },
    {
      "cell_type": "code",
      "metadata": {
        "colab": {
          "base_uri": "https://localhost:8080/"
        },
        "id": "OXnkSi_gIfRF",
        "outputId": "d258e0e3-3743-4fa7-8bd9-3355974e893d"
      },
      "source": [
        "Mylistdup=[\"gaurav\",\"gaurav\",\"prahadeesh\",\"kishor\",\"kishor\",]\n",
        "print(len(Mylistdup))"
      ],
      "execution_count": null,
      "outputs": [
        {
          "output_type": "stream",
          "name": "stdout",
          "text": [
            "7\n"
          ]
        }
      ]
    },
    {
      "cell_type": "markdown",
      "metadata": {
        "id": "n6qouGnWIw-i"
      },
      "source": [
        "**List can use multitype data**"
      ]
    },
    {
      "cell_type": "code",
      "metadata": {
        "id": "6Wrlcir4I2MS",
        "colab": {
          "base_uri": "https://localhost:8080/"
        },
        "outputId": "13bf4096-5811-4e3c-f6e7-a5ea25d002f9"
      },
      "source": [
        "list1 =[\"gaurav\",\"Bala\",\"kishor\"]\n",
        "list2 =[132,4634,556.3]\n",
        "list3 =[True,False,False,True]\n",
        "# multitype data\n",
        "list4 =[\"hello\",123,True]\n",
        "print(list1)\n",
        "print(list2)\n",
        "print(list3)\n",
        "print(list4)"
      ],
      "execution_count": null,
      "outputs": [
        {
          "output_type": "stream",
          "name": "stdout",
          "text": [
            "['gaurav', 'Bala', 'kishor']\n",
            "[132, 4634, 556.3]\n",
            "[True, False, False, True]\n",
            "['hello', 123, True]\n"
          ]
        }
      ]
    },
    {
      "cell_type": "markdown",
      "source": [
        "**To find a Data type of a list**"
      ],
      "metadata": {
        "id": "J_91FjCXGxfK"
      }
    },
    {
      "cell_type": "code",
      "source": [
        "list1 =[\"gaurav\",\"Bala\",\"kishor\"]\n",
        "print(type(list1))"
      ],
      "metadata": {
        "colab": {
          "base_uri": "https://localhost:8080/"
        },
        "id": "FTtDnSSkHbG9",
        "outputId": "555c7c90-c87b-43c1-abfd-d15e3da2515f"
      },
      "execution_count": null,
      "outputs": [
        {
          "output_type": "stream",
          "name": "stdout",
          "text": [
            "<class 'list'>\n"
          ]
        }
      ]
    },
    {
      "cell_type": "markdown",
      "source": [
        "**Range of Index in the list Access**"
      ],
      "metadata": {
        "id": "dNEosYf9I_nT"
      }
    },
    {
      "cell_type": "code",
      "metadata": {
        "id": "rjNhvB2lMCpW"
      },
      "source": [
        "# Print Indexing one\n",
        "listtemp = [\"gaurav\",\"prahadeesh\",\"kishor\",\"Dhanush\",\"Sankar\",\"Hari\"]\n",
        "print(listtemp[0])"
      ],
      "execution_count": null,
      "outputs": []
    },
    {
      "cell_type": "code",
      "source": [
        "# Print Indexing last\n",
        "listtemp = [\"gaurav\",\"prahadeesh\",\"kishor\",\"Dhanush\",\"Sankar\",\"Hari\"]\n",
        "print(listtemp[6])"
      ],
      "metadata": {
        "id": "ZRYOaf66JtR8"
      },
      "execution_count": null,
      "outputs": []
    },
    {
      "cell_type": "code",
      "source": [
        "# Print Indexing unknow last vaule by using negative index\n",
        "listtemp = [\"gaurav\",\"prahadeesh\",\"kishor\",\"Dhanush\",\"Sankar\",\"Hari\"]\n",
        "print(listtemp[-1])"
      ],
      "metadata": {
        "id": "xoY7ZDqrJ0Ga"
      },
      "execution_count": null,
      "outputs": []
    },
    {
      "cell_type": "code",
      "metadata": {
        "colab": {
          "base_uri": "https://localhost:8080/",
          "height": 35
        },
        "id": "jWZQMNEObpDh",
        "outputId": "c1891394-cb02-46d4-bb40-83b0444c858a"
      },
      "source": [
        "# Print Indexing another form of negative index\n",
        "a = 'qwer'\n",
        "a[len(a) - 2]"
      ],
      "execution_count": null,
      "outputs": [
        {
          "output_type": "execute_result",
          "data": {
            "application/vnd.google.colaboratory.intrinsic+json": {
              "type": "string"
            },
            "text/plain": [
              "'e'"
            ]
          },
          "metadata": {},
          "execution_count": 11
        }
      ]
    },
    {
      "cell_type": "code",
      "source": [
        "# Print Indexing limited range\n",
        "listtemp = [\"gaurav\",\"prahadeesh\",\"kishor\",\"Dhanush\",\"Sankar\",\"Hari\"]\n",
        "print(listtemp[1:4])"
      ],
      "metadata": {
        "id": "xbJ4RyJFJ24r"
      },
      "execution_count": null,
      "outputs": []
    },
    {
      "cell_type": "code",
      "source": [
        "# Print Indexing starting to limited range\n",
        "listtemp = [\"gaurav\",\"prahadeesh\",\"kishor\",\"Dhanush\",\"Sankar\",\"Hari\"]\n",
        "print(listtemp[:5])"
      ],
      "metadata": {
        "id": "n3-xHpObJ-tY"
      },
      "execution_count": null,
      "outputs": []
    },
    {
      "cell_type": "code",
      "source": [
        "# Print Indexing starting to unknow ending\n",
        "listtemp = [\"gaurav\",\"prahadeesh\",\"kishor\",\"Dhanush\",\"Sankar\",\"Hari\"]\n",
        "print(listtemp[0:])"
      ],
      "metadata": {
        "id": "MaFo2vvhKH7O"
      },
      "execution_count": null,
      "outputs": []
    },
    {
      "cell_type": "code",
      "source": [
        "# Print Indexing  using negative\n",
        "listtemp = [\"gaurav\",\"prahadeesh\",\"kishor\",\"Dhanush\",\"Sankar\",\"Hari\"]\n",
        "print(listtemp[-3:-1])"
      ],
      "metadata": {
        "colab": {
          "base_uri": "https://localhost:8080/"
        },
        "id": "XAIhPYkMKYdi",
        "outputId": "b7aef955-459f-47af-a7d9-6f4bad7d8bac"
      },
      "execution_count": null,
      "outputs": [
        {
          "output_type": "stream",
          "name": "stdout",
          "text": [
            "['Dhanush', 'Sankar']\n"
          ]
        }
      ]
    },
    {
      "cell_type": "markdown",
      "source": [
        "**Cheak the number or str in the list using conditional**"
      ],
      "metadata": {
        "id": "lTD1Hn5MOqQo"
      }
    },
    {
      "cell_type": "code",
      "source": [
        "list1 = [1,2,3,4,5,6,7,8,9,0]\n",
        "if 4 in list1:\n",
        "  print(\"Yes, 4 in the list\")"
      ],
      "metadata": {
        "colab": {
          "base_uri": "https://localhost:8080/"
        },
        "id": "4thVEQh1OFXn",
        "outputId": "cc01c0f5-e6ec-4301-8c58-414b3cfba181"
      },
      "execution_count": null,
      "outputs": [
        {
          "output_type": "stream",
          "name": "stdout",
          "text": [
            "Yes, 4 in the list\n"
          ]
        }
      ]
    },
    {
      "cell_type": "code",
      "metadata": {
        "colab": {
          "base_uri": "https://localhost:8080/"
        },
        "id": "AoyNqbScfGjq",
        "outputId": "dcd8b359-41d0-485b-e2ee-de6075e3922f"
      },
      "source": [
        " \n",
        "global_list =[12,]\n",
        "for i in range(5):\n",
        "  Myinput = input()\n",
        "  global_list.append(Myinput)\n",
        "print(global_list)  \n",
        "\n"
      ],
      "execution_count": null,
      "outputs": [
        {
          "output_type": "stream",
          "name": "stdout",
          "text": [
            "1\n",
            "2\n",
            "3\n",
            "4\n",
            "5\n",
            "[12, '1', '2', '3', '4', '5']\n"
          ]
        }
      ]
    },
    {
      "cell_type": "code",
      "metadata": {
        "colab": {
          "base_uri": "https://localhost:8080/"
        },
        "id": "etKDstcirgE1",
        "outputId": "b9ca9921-ea2b-4544-e508-2f9da290649a"
      },
      "source": [
        "Mylist=[\"qqwert\",\"wertytw\",\"123454321\"]\n",
        "lenofstr = len(Mylist)\n",
        "for index in range(lenofstr):\n",
        "  if(Mylist[index][0] == Mylist[index][-1] and len(Mylist[index]) >= 2):\n",
        "    print(Mylist[index])\n",
        "    \n",
        "    "
      ],
      "execution_count": null,
      "outputs": [
        {
          "output_type": "stream",
          "name": "stdout",
          "text": [
            "wertytw\n",
            "123454321\n"
          ]
        }
      ]
    },
    {
      "cell_type": "code",
      "source": [
        "list_mod = [123,\"hello\",\"new\"]"
      ],
      "metadata": {
        "id": "poRnPl4Q4ojc"
      },
      "execution_count": null,
      "outputs": []
    }
  ]
}