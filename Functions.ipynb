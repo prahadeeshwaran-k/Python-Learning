{
  "nbformat": 4,
  "nbformat_minor": 0,
  "metadata": {
    "colab": {
      "name": "Functions.ipynb",
      "provenance": [],
      "authorship_tag": "ABX9TyMqcauAXhSl3nM1p35JPA2o",
      "include_colab_link": true
    },
    "kernelspec": {
      "name": "python3",
      "display_name": "Python 3"
    },
    "language_info": {
      "name": "python"
    }
  },
  "cells": [
    {
      "cell_type": "markdown",
      "metadata": {
        "id": "view-in-github",
        "colab_type": "text"
      },
      "source": [
        "<a href=\"https://colab.research.google.com/github/prahadeeshwaran-k/Python-Learning/blob/main/Functions.ipynb\" target=\"_parent\"><img src=\"https://colab.research.google.com/assets/colab-badge.svg\" alt=\"Open In Colab\"/></a>"
      ]
    },
    {
      "cell_type": "markdown",
      "source": [
        "**To call a function, use the function name followed by parenthesis:**"
      ],
      "metadata": {
        "id": "Bnvq9cpzHRBJ"
      }
    },
    {
      "cell_type": "code",
      "source": [
        "def my_function():{\n",
        "    print(\"hello worlld form function\")\n",
        "}\n",
        "\n",
        "my_function()"
      ],
      "metadata": {
        "colab": {
          "base_uri": "https://localhost:8080/"
        },
        "id": "_JNk_BK5HVqq",
        "outputId": "61f8b376-4ce6-418f-ba70-3841d5ba264a"
      },
      "execution_count": null,
      "outputs": [
        {
          "output_type": "stream",
          "name": "stdout",
          "text": [
            "hello worlld form function\n"
          ]
        }
      ]
    },
    {
      "cell_type": "markdown",
      "source": [
        "**Information can be passed into functions as arguments.**"
      ],
      "metadata": {
        "id": "_8ruwHsaIDSw"
      }
    },
    {
      "cell_type": "code",
      "source": [
        "def my_function(arguments1):{\n",
        "    print(\"hello \"+ arguments1)\n",
        "}\n",
        "\n",
        "my_function(\"prahadeeshwaran\")\n",
        "my_function(\"tony stark\")"
      ],
      "metadata": {
        "colab": {
          "base_uri": "https://localhost:8080/"
        },
        "id": "zXcr8GVxICm8",
        "outputId": "b76efcab-f22e-4274-8a6e-95fe5a5fb717"
      },
      "execution_count": null,
      "outputs": [
        {
          "output_type": "stream",
          "name": "stdout",
          "text": [
            "hello prahadeeshwaran\n",
            "hello tony stark\n"
          ]
        }
      ]
    },
    {
      "cell_type": "markdown",
      "source": [
        "**This function expects 2 arguments, and gets 2 arguments:**"
      ],
      "metadata": {
        "id": "q03yHwJvIxaY"
      }
    },
    {
      "cell_type": "code",
      "source": [
        "def my_function(arguments1, arguments2):{\n",
        "    print(arguments1 + \" \" + arguments2)\n",
        "}\n",
        "\n",
        "my_function(\"tony\",\"stark\")\n",
        "my_function(\"THOR\",\"ODINSON\")"
      ],
      "metadata": {
        "colab": {
          "base_uri": "https://localhost:8080/"
        },
        "id": "kSRBZ2srIzpk",
        "outputId": "1feeb197-1521-4f31-80a1-d37aaaa4cd78"
      },
      "execution_count": null,
      "outputs": [
        {
          "output_type": "stream",
          "name": "stdout",
          "text": [
            "tony stark\n",
            "THOR ODINSON\n"
          ]
        }
      ]
    },
    {
      "cell_type": "markdown",
      "source": [
        "**If the number of arguments is unknown, add a * before the parameter name:**"
      ],
      "metadata": {
        "id": "6d5PdmDnTWSA"
      }
    },
    {
      "cell_type": "code",
      "source": [
        "def my_function(*Avengers):{\n",
        "    print(\"my favourt Avenger is \"+ Avengers[1] )\n",
        "}\n",
        "\n",
        "my_function(\"Caption America\",\"Tony Stark\",\"thor\",\"hulk\",)"
      ],
      "metadata": {
        "colab": {
          "base_uri": "https://localhost:8080/"
        },
        "id": "erWt-7ZJTnRj",
        "outputId": "0d61b056-74de-4fd5-a0a4-33a4c0bb43a5"
      },
      "execution_count": null,
      "outputs": [
        {
          "output_type": "stream",
          "name": "stdout",
          "text": [
            "my favourt Avenger is Tony Stark\n"
          ]
        }
      ]
    },
    {
      "cell_type": "markdown",
      "source": [
        "**You can also send arguments with the key = value syntax.\n",
        "This way the order of the arguments does not matter.**"
      ],
      "metadata": {
        "id": "12Qw98CxVTQl"
      }
    },
    {
      "cell_type": "code",
      "source": [
        "def my_function(name1,name2,name3):{\n",
        "    print(name1,name2,name3)\n",
        "}\n",
        "my_function(name1=\"caption\",name2=\"tony\",name3=\"peter parker\")"
      ],
      "metadata": {
        "colab": {
          "base_uri": "https://localhost:8080/"
        },
        "id": "J0oA-cKfVnr7",
        "outputId": "919e0f18-09c1-48a4-90c9-672cd680db23"
      },
      "execution_count": null,
      "outputs": [
        {
          "output_type": "stream",
          "name": "stdout",
          "text": [
            "caption tony peter parker\n"
          ]
        }
      ]
    },
    {
      "cell_type": "markdown",
      "source": [
        "**If we call the function without argument, it uses the default value:**"
      ],
      "metadata": {
        "id": "xoL8gUv2XY-C"
      }
    },
    {
      "cell_type": "code",
      "source": [
        "def my_function(name = \"Kumar\"):{\n",
        "    print(\"my name is :\" + name)\n",
        "}\n",
        "my_function(\"prahadeshwaran\")\n",
        "my_function()\n",
        "my_function(\"Matta bala\")"
      ],
      "metadata": {
        "colab": {
          "base_uri": "https://localhost:8080/"
        },
        "id": "SfafUladXbm6",
        "outputId": "c6c3735b-2896-4ca7-df84-8fb78f0c8e71"
      },
      "execution_count": null,
      "outputs": [
        {
          "output_type": "stream",
          "name": "stdout",
          "text": [
            "my name is :prahadeshwaran\n",
            "my name is :Kumar\n",
            "my name is :Matta bala\n"
          ]
        }
      ]
    },
    {
      "cell_type": "markdown",
      "source": [
        "**Arbitrary Keyword Arguments, **kwargs**"
      ],
      "metadata": {
        "id": "rY9UcH0D2Cjr"
      }
    },
    {
      "cell_type": "code",
      "source": [
        "def my_function(**name):{\n",
        "    print(\"my name is \"+name[\"lnam\"])\n",
        "}\n",
        "my_function(lnam=\"kumar\")"
      ],
      "metadata": {
        "colab": {
          "base_uri": "https://localhost:8080/"
        },
        "id": "1zjSSXo12OqG",
        "outputId": "96f58ba3-7fc1-40ec-b129-3cd29f31f59d"
      },
      "execution_count": 1,
      "outputs": [
        {
          "output_type": "stream",
          "name": "stdout",
          "text": [
            "my name is kumar\n"
          ]
        }
      ]
    },
    {
      "cell_type": "markdown",
      "source": [
        "**Passing a List as an Argument**"
      ],
      "metadata": {
        "id": "yBrQKfaU3STO"
      }
    },
    {
      "cell_type": "code",
      "source": [
        "def my_function(food):\n",
        "    for x in food :\n",
        "        print(x)\n",
        "\n",
        "fruits = [\"Tony\",\"Cap\",\"Thor \",\"Hulk\"]\n",
        "my_function(fruits)"
      ],
      "metadata": {
        "colab": {
          "base_uri": "https://localhost:8080/"
        },
        "id": "Ufq4jD8Q3k4R",
        "outputId": "c18f3269-6d77-4af6-8e4b-ff49b66e9fae"
      },
      "execution_count": 8,
      "outputs": [
        {
          "output_type": "stream",
          "name": "stdout",
          "text": [
            "Tony\n",
            "Cap\n",
            "Thor \n",
            "Hulk\n"
          ]
        }
      ]
    },
    {
      "cell_type": "markdown",
      "source": [
        "**To let a function return a value, use the return statement:**"
      ],
      "metadata": {
        "id": "qiQnuhjtHK8h"
      }
    },
    {
      "cell_type": "code",
      "source": [
        "def my_function(x):\n",
        "    return 5*x\n",
        " \n",
        "print(my_function(3))\n",
        "print(my_function(6))\n",
        "print(my_function(9))"
      ],
      "metadata": {
        "colab": {
          "base_uri": "https://localhost:8080/"
        },
        "id": "kvOWAY0PHOEf",
        "outputId": "a5c17438-c6af-40cc-f1c6-c1fbe9f4b0be"
      },
      "execution_count": 11,
      "outputs": [
        {
          "output_type": "stream",
          "name": "stdout",
          "text": [
            "15\n",
            "30\n",
            "45\n"
          ]
        }
      ]
    },
    {
      "cell_type": "markdown",
      "source": [
        "**function definitions cannot be empty, but if you for some reason have a function definition with no content, put in the pass statement to avoid getting an error.**"
      ],
      "metadata": {
        "id": "E_3VZTdPMXb0"
      }
    },
    {
      "cell_type": "code",
      "source": [
        "def my_function():\n",
        "    pass"
      ],
      "metadata": {
        "id": "mJnmr6_eQR91"
      },
      "execution_count": 12,
      "outputs": []
    }
  ]
}