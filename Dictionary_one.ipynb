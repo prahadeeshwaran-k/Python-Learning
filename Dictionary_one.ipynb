{
  "nbformat": 4,
  "nbformat_minor": 0,
  "metadata": {
    "colab": {
      "name": "Dictionary_one.ipynb",
      "provenance": [],
      "authorship_tag": "ABX9TyMNBE1m3SgYfUluKYNA3HWK",
      "include_colab_link": true
    },
    "kernelspec": {
      "name": "python3",
      "display_name": "Python 3"
    },
    "language_info": {
      "name": "python"
    }
  },
  "cells": [
    {
      "cell_type": "markdown",
      "metadata": {
        "id": "view-in-github",
        "colab_type": "text"
      },
      "source": [
        "<a href=\"https://colab.research.google.com/github/prahadeeshwaran-k/Python-Learning/blob/main/Dictionary_one.ipynb\" target=\"_parent\"><img src=\"https://colab.research.google.com/assets/colab-badge.svg\" alt=\"Open In Colab\"/></a>"
      ]
    },
    {
      "cell_type": "markdown",
      "source": [
        "**Create and print a dictionary**"
      ],
      "metadata": {
        "id": "_28nuEl4qWGv"
      }
    },
    {
      "cell_type": "code",
      "execution_count": 5,
      "metadata": {
        "colab": {
          "base_uri": "https://localhost:8080/"
        },
        "id": "D3xo8zK3prAD",
        "outputId": "06153966-bbd8-4ecd-fb5b-f0c56e47a243"
      },
      "outputs": [
        {
          "output_type": "stream",
          "name": "stdout",
          "text": [
            "{'name': 'Ford', 'model': 'sports', 'milage': 356, 'type': 'diesel', 'cost': '20000$'}\n"
          ]
        }
      ],
      "source": [
        "mydict = {\n",
        "    \"name\" : \"Ford\",\n",
        "    \"model\" : \"sports\",\n",
        "    \"milage\" : 356,\n",
        "    \"type\" : \"diesel\",\n",
        "    \"cost\" : \"20000$\",\n",
        "}\n",
        "print(mydict)"
      ]
    },
    {
      "cell_type": "markdown",
      "source": [
        "**Print the \"brand\" value of the dictionary**"
      ],
      "metadata": {
        "id": "0IFzjHk8tb0G"
      }
    },
    {
      "cell_type": "code",
      "source": [
        "mydict = {\n",
        "    \"name\" : \"Ford\",\n",
        "    \"model\" : \"sports\",\n",
        "    \"milage\" : 356,\n",
        "    \"type\" : \"diesel\",\n",
        "    \"cost\" : \"20000$\",\n",
        "}\n",
        "print(mydict[\"model\"])"
      ],
      "metadata": {
        "colab": {
          "base_uri": "https://localhost:8080/"
        },
        "id": "w8RWNZSCtcuS",
        "outputId": "59a2aa93-bd6a-4d8a-d5d4-46f5344092a3"
      },
      "execution_count": 6,
      "outputs": [
        {
          "output_type": "stream",
          "name": "stdout",
          "text": [
            "sports\n"
          ]
        }
      ]
    }
  ]
}