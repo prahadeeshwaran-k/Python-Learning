{
  "nbformat": 4,
  "nbformat_minor": 0,
  "metadata": {
    "colab": {
      "name": "Dictionary_one.ipynb",
      "provenance": [],
      "authorship_tag": "ABX9TyOcNTuy5rG5v2eWQ480f475",
      "include_colab_link": true
    },
    "kernelspec": {
      "name": "python3",
      "display_name": "Python 3"
    },
    "language_info": {
      "name": "python"
    }
  },
  "cells": [
    {
      "cell_type": "markdown",
      "metadata": {
        "id": "view-in-github",
        "colab_type": "text"
      },
      "source": [
        "<a href=\"https://colab.research.google.com/github/prahadeeshwaran-k/Python-Learning/blob/main/Dictionary_one.ipynb\" target=\"_parent\"><img src=\"https://colab.research.google.com/assets/colab-badge.svg\" alt=\"Open In Colab\"/></a>"
      ]
    },
    {
      "cell_type": "markdown",
      "source": [
        "**Create and print a dictionary**"
      ],
      "metadata": {
        "id": "_28nuEl4qWGv"
      }
    },
    {
      "cell_type": "code",
      "execution_count": null,
      "metadata": {
        "colab": {
          "base_uri": "https://localhost:8080/"
        },
        "id": "D3xo8zK3prAD",
        "outputId": "06153966-bbd8-4ecd-fb5b-f0c56e47a243"
      },
      "outputs": [
        {
          "output_type": "stream",
          "name": "stdout",
          "text": [
            "{'name': 'Ford', 'model': 'sports', 'milage': 356, 'type': 'diesel', 'cost': '20000$'}\n"
          ]
        }
      ],
      "source": [
        "mydict = {\n",
        "    \"name\" : \"Ford\",\n",
        "    \"model\" : \"sports\",\n",
        "    \"milage\" : 356,\n",
        "    \"type\" : \"diesel\",\n",
        "    \"cost\" : \"20000$\",\n",
        "}\n",
        "print(mydict)"
      ]
    },
    {
      "cell_type": "markdown",
      "source": [
        "**Print the \"brand\" value of the dictionary**"
      ],
      "metadata": {
        "id": "0IFzjHk8tb0G"
      }
    },
    {
      "cell_type": "code",
      "source": [
        "mydict = {\n",
        "    \"name\" : \"Ford\",\n",
        "    \"model\" : \"sports\",\n",
        "    \"milage\" : 356,\n",
        "    \"type\" : \"diesel\",\n",
        "    \"cost\" : \"20000$\",\n",
        "}\n",
        "print(mydict[\"model\"])"
      ],
      "metadata": {
        "colab": {
          "base_uri": "https://localhost:8080/"
        },
        "id": "w8RWNZSCtcuS",
        "outputId": "59a2aa93-bd6a-4d8a-d5d4-46f5344092a3"
      },
      "execution_count": null,
      "outputs": [
        {
          "output_type": "stream",
          "name": "stdout",
          "text": [
            "sports\n"
          ]
        }
      ]
    },
    {
      "cell_type": "markdown",
      "source": [
        "**Duplicate values will overwrite existing values**"
      ],
      "metadata": {
        "id": "NkIsUjEYvmT3"
      }
    },
    {
      "cell_type": "code",
      "source": [
        "mydict = {\n",
        "    \"name\" : \"Ford\",\n",
        "    \"model\" : \"sports\",\n",
        "    \"milage\" : 356,\n",
        "    \"year\" : 2017,\n",
        "    \"year\" : 2021,\n",
        "}\n",
        "print(mydict)"
      ],
      "metadata": {
        "colab": {
          "base_uri": "https://localhost:8080/"
        },
        "id": "OeuuW84Wvm_G",
        "outputId": "dad24cd3-c14a-41ad-f562-5a596fd6a253"
      },
      "execution_count": null,
      "outputs": [
        {
          "output_type": "stream",
          "name": "stdout",
          "text": [
            "{'name': 'Ford', 'model': 'sports', 'milage': 356, 'year': 2021}\n"
          ]
        }
      ]
    },
    {
      "cell_type": "markdown",
      "source": [
        "**Print the number of items in the dictionary**"
      ],
      "metadata": {
        "id": "NYZJY5iYut8y"
      }
    },
    {
      "cell_type": "code",
      "source": [
        "mydict = {\n",
        "    \"name\" : \"Ford\",\n",
        "    \"model\" : \"sports\",\n",
        "    \"milage\" : 356,\n",
        "    \"type\" : \"diesel\",\n",
        "    \"cost\" : \"20000$\",\n",
        "}\n",
        "print(len(mydict))"
      ],
      "metadata": {
        "colab": {
          "base_uri": "https://localhost:8080/"
        },
        "id": "bos56rcuuunA",
        "outputId": "64ad1bcc-229f-4d7c-e2b8-4cf83ffdac88"
      },
      "execution_count": null,
      "outputs": [
        {
          "output_type": "stream",
          "name": "stdout",
          "text": [
            "5\n"
          ]
        }
      ]
    },
    {
      "cell_type": "markdown",
      "source": [
        "**String, int, boolean, and list data types**"
      ],
      "metadata": {
        "id": "Y7FoWG31ajg7"
      }
    },
    {
      "cell_type": "code",
      "source": [
        "mydict = {\n",
        "    \"name\":\"aston martin\",\n",
        "    \"electric\":True,\n",
        "    \"year\":2021,\n",
        "    \"designer\":[\"kk karuppu\",\"matta bala\",\"kokki kumar\"]\n",
        "}\n",
        "print(mydict)"
      ],
      "metadata": {
        "colab": {
          "base_uri": "https://localhost:8080/"
        },
        "id": "vATTDgiQajOy",
        "outputId": "9e1daddf-2ab3-4877-b708-0507b993453d"
      },
      "execution_count": 2,
      "outputs": [
        {
          "output_type": "stream",
          "name": "stdout",
          "text": [
            "{'name': 'aston martin', 'electric': True, 'year': 2021, 'designer': ['kk karuppu', 'matta bala', 'kokki kumar']}\n"
          ]
        }
      ]
    },
    {
      "cell_type": "markdown",
      "source": [
        "**Print the data type of a dictionary**"
      ],
      "metadata": {
        "id": "eN91Pmf9d8DF"
      }
    },
    {
      "cell_type": "code",
      "source": [
        "mydict = {\n",
        "    \"name\":\"aston martin\",\n",
        "    \"electric\":True,\n",
        "    \"year\":2021,\n",
        "    \"designer\":[\"kk karuppu\",\"matta bala\",\"kokki kumar\"]\n",
        "}\n",
        "print(type(mydict))\n",
        "print(type(mydict['name']))\n",
        "print(type(mydict['year']))"
      ],
      "metadata": {
        "colab": {
          "base_uri": "https://localhost:8080/"
        },
        "outputId": "187f8b20-89b6-48d4-f2de-e3794a2e25ca",
        "id": "fVuigf_0eFeI"
      },
      "execution_count": 5,
      "outputs": [
        {
          "output_type": "stream",
          "name": "stdout",
          "text": [
            "<class 'dict'>\n",
            "<class 'str'>\n",
            "<class 'int'>\n"
          ]
        }
      ]
    },
    {
      "cell_type": "markdown",
      "source": [
        "**Add a new item to the original dictionary, and see that the keys list gets updated**"
      ],
      "metadata": {
        "id": "ovjjMmLbedzj"
      }
    },
    {
      "cell_type": "code",
      "source": [
        "mydict = {\n",
        "    \"name\" : \"Ford\",\n",
        "    \"model\" : \"sports\",\n",
        "    \"milage\" : 356,\n",
        "    \"type\" : \"diesel\",\n",
        "    \"cost\" : \"20000$\",\n",
        "}\n",
        "x = mydict.keys()\n",
        "print(\"before the change: \",x)\n",
        "mydict[\"door\"] = 2\n",
        "print(\"after the change: \",x) "
      ],
      "metadata": {
        "colab": {
          "base_uri": "https://localhost:8080/"
        },
        "id": "KZn13fOZef27",
        "outputId": "c7f54d79-c2d7-4641-9d56-ebefe582e032"
      },
      "execution_count": 7,
      "outputs": [
        {
          "output_type": "stream",
          "name": "stdout",
          "text": [
            "before the change  dict_keys(['name', 'model', 'milage', 'type', 'cost'])\n",
            "after the change dict_keys(['name', 'model', 'milage', 'type', 'cost', 'door'])\n"
          ]
        }
      ]
    },
    {
      "cell_type": "markdown",
      "source": [
        "**Make a change in the original dictionary, and see that the values list gets updated**"
      ],
      "metadata": {
        "id": "vEu7sGdmfr3y"
      }
    },
    {
      "cell_type": "code",
      "source": [
        "mydict = {\n",
        "    \"name\" : \"Ford\",\n",
        "    \"model\" : \"sports\",\n",
        "    \"milage\" : 356,\n",
        "    \"type\" : \"diesel\",\n",
        "    \"cost\" : \"20000$\",\n",
        "}\n",
        "print(\"before the change: \",mydict)\n",
        "mydict['name'] = \"Aston Martin\"\n",
        "print(\"before the change: \",mydict)"
      ],
      "metadata": {
        "colab": {
          "base_uri": "https://localhost:8080/"
        },
        "id": "gM87HfYIewIB",
        "outputId": "dbbe3182-00d2-4c49-fcc0-1f9648d55382"
      },
      "execution_count": 9,
      "outputs": [
        {
          "output_type": "stream",
          "name": "stdout",
          "text": [
            "{'name': 'Ford', 'model': 'sports', 'milage': 356, 'type': 'diesel', 'cost': '20000$'}\n",
            "{'name': 'Aston Martin', 'model': 'sports', 'milage': 356, 'type': 'diesel', 'cost': '20000$'}\n"
          ]
        }
      ]
    },
    {
      "cell_type": "markdown",
      "source": [
        "**Make a change in the original dictionary, and see that the items list gets updated**"
      ],
      "metadata": {
        "id": "fHuYZjvmgc4j"
      }
    },
    {
      "cell_type": "code",
      "source": [
        "mydict = {\n",
        "    \"name\" : \"Ford\",\n",
        "    \"model\" : \"sports\",\n",
        "    \"milage\" : 356,\n",
        "    \"type\" : \"diesel\",\n",
        "    \"cost\" : \"20000$\",\n",
        "}\n",
        "x = mydict.items()\n",
        "print(x)\n",
        "mydict['name'] = \"aston martin\"\n",
        "print(x)"
      ],
      "metadata": {
        "colab": {
          "base_uri": "https://localhost:8080/"
        },
        "id": "pjT1abxLgrFd",
        "outputId": "12fa8282-66d9-4dd7-d0c8-cdb284db0c4b"
      },
      "execution_count": 13,
      "outputs": [
        {
          "output_type": "stream",
          "name": "stdout",
          "text": [
            "dict_items([('name', 'Ford'), ('model', 'sports'), ('milage', 356), ('type', 'diesel'), ('cost', '20000$')])\n",
            "dict_items([('name', 'aston martin'), ('model', 'sports'), ('milage', 356), ('type', 'diesel'), ('cost', '20000$')])\n"
          ]
        }
      ]
    },
    {
      "cell_type": "markdown",
      "source": [
        "**Check if \"model\" is present in the dictionary**"
      ],
      "metadata": {
        "id": "hCQb0KHkhy5-"
      }
    },
    {
      "cell_type": "code",
      "source": [
        "mydict = {\n",
        "    \"name\" : \"Ford\",\n",
        "    \"model\" : \"sports\",\n",
        "    \"milage\" : 356,\n",
        "    \"type\" : \"diesel\",\n",
        "    \"cost\" : \"20000$\",\n",
        "}\n",
        "if \"model\" in mydict:\n",
        "    print(\"yes model is present in my dict\")"
      ],
      "metadata": {
        "colab": {
          "base_uri": "https://localhost:8080/"
        },
        "id": "HK16FluQh0I_",
        "outputId": "9a3ab7ca-34a4-4d9c-e8fc-221a49d3f498"
      },
      "execution_count": 14,
      "outputs": [
        {
          "output_type": "stream",
          "name": "stdout",
          "text": [
            "yes model is present in my dict\n"
          ]
        }
      ]
    },
    {
      "cell_type": "markdown",
      "source": [
        "**Change the \"milage\" to 123**"
      ],
      "metadata": {
        "id": "a80VrHLbiQTI"
      }
    },
    {
      "cell_type": "code",
      "source": [
        "mydict = {\n",
        "    \"name\" : \"Ford\",\n",
        "    \"model\" : \"sports\",\n",
        "    \"milage\" : 356,\n",
        "    \"type\" : \"diesel\",\n",
        "    \"cost\" : \"20000$\",\n",
        "}\n",
        "mydict[\"milage\"] = 123\n",
        "print(mydict[\"milage\"])"
      ],
      "metadata": {
        "colab": {
          "base_uri": "https://localhost:8080/"
        },
        "id": "TtWl3yooiP4E",
        "outputId": "de817a19-2281-4190-9805-6ce3807876f1"
      },
      "execution_count": 16,
      "outputs": [
        {
          "output_type": "stream",
          "name": "stdout",
          "text": [
            "123\n"
          ]
        }
      ]
    },
    {
      "cell_type": "markdown",
      "source": [
        "**Update the \"year\" of the car by using the update()**"
      ],
      "metadata": {
        "id": "xqeOZszqi4i9"
      }
    },
    {
      "cell_type": "code",
      "source": [
        "mydict = {\n",
        "    \"name\" : \"Ford\",\n",
        "    \"model\" : \"sports\",\n",
        "    \"milage\" : 356,\n",
        "    \"type\" : \"diesel\",\n",
        "    \"cost\" : \"20000$\",\n",
        "}\n",
        "mydict.update({\"cost\":\"13427$\"})\n",
        "mydict.update({\"model\":\"classic\"})\n",
        "print(mydict[\"cost\"])\n",
        "print(mydict[\"model\"])"
      ],
      "metadata": {
        "colab": {
          "base_uri": "https://localhost:8080/"
        },
        "id": "WX2UjJRKi5s_",
        "outputId": "b00aa002-2cf1-4e89-a55f-02928d68fbb5"
      },
      "execution_count": 19,
      "outputs": [
        {
          "output_type": "stream",
          "name": "stdout",
          "text": [
            "13427$\n",
            "classic\n"
          ]
        }
      ]
    },
    {
      "cell_type": "markdown",
      "source": [
        "**Adding an item to the dictionary is done by using a new index key and assigning a value to it**"
      ],
      "metadata": {
        "id": "fntY-mXWj1LY"
      }
    }
  ]
}