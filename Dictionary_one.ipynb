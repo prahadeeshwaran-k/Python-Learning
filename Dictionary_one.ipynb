{
  "nbformat": 4,
  "nbformat_minor": 0,
  "metadata": {
    "colab": {
      "name": "Dictionary_one.ipynb",
      "provenance": [],
      "collapsed_sections": [],
      "authorship_tag": "ABX9TyN457m9PK8yTK6wbLfVY061",
      "include_colab_link": true
    },
    "kernelspec": {
      "name": "python3",
      "display_name": "Python 3"
    },
    "language_info": {
      "name": "python"
    }
  },
  "cells": [
    {
      "cell_type": "markdown",
      "metadata": {
        "id": "view-in-github",
        "colab_type": "text"
      },
      "source": [
        "<a href=\"https://colab.research.google.com/github/prahadeeshwaran-k/Python-Learning/blob/main/Dictionary_one.ipynb\" target=\"_parent\"><img src=\"https://colab.research.google.com/assets/colab-badge.svg\" alt=\"Open In Colab\"/></a>"
      ]
    },
    {
      "cell_type": "markdown",
      "source": [
        "**Create and print a dictionary**"
      ],
      "metadata": {
        "id": "_28nuEl4qWGv"
      }
    },
    {
      "cell_type": "code",
      "execution_count": null,
      "metadata": {
        "colab": {
          "base_uri": "https://localhost:8080/"
        },
        "id": "D3xo8zK3prAD",
        "outputId": "06153966-bbd8-4ecd-fb5b-f0c56e47a243"
      },
      "outputs": [
        {
          "output_type": "stream",
          "name": "stdout",
          "text": [
            "{'name': 'Ford', 'model': 'sports', 'milage': 356, 'type': 'diesel', 'cost': '20000$'}\n"
          ]
        }
      ],
      "source": [
        "mydict = {\n",
        "    \"name\" : \"Ford\",\n",
        "    \"model\" : \"sports\",\n",
        "    \"milage\" : 356,\n",
        "    \"type\" : \"diesel\",\n",
        "    \"cost\" : \"20000$\",\n",
        "}\n",
        "print(mydict)"
      ]
    },
    {
      "cell_type": "markdown",
      "source": [
        "**Print the \"brand\" value of the dictionary**"
      ],
      "metadata": {
        "id": "0IFzjHk8tb0G"
      }
    },
    {
      "cell_type": "code",
      "source": [
        "mydict = {\n",
        "    \"name\" : \"Ford\",\n",
        "    \"model\" : \"sports\",\n",
        "    \"milage\" : 356,\n",
        "    \"type\" : \"diesel\",\n",
        "    \"cost\" : \"20000$\",\n",
        "}\n",
        "print(mydict[\"model\"])"
      ],
      "metadata": {
        "colab": {
          "base_uri": "https://localhost:8080/"
        },
        "id": "w8RWNZSCtcuS",
        "outputId": "59a2aa93-bd6a-4d8a-d5d4-46f5344092a3"
      },
      "execution_count": null,
      "outputs": [
        {
          "output_type": "stream",
          "name": "stdout",
          "text": [
            "sports\n"
          ]
        }
      ]
    },
    {
      "cell_type": "markdown",
      "source": [
        "**Duplicate values will overwrite existing values**"
      ],
      "metadata": {
        "id": "NkIsUjEYvmT3"
      }
    },
    {
      "cell_type": "code",
      "source": [
        "mydict = {\n",
        "    \"name\" : \"Ford\",\n",
        "    \"model\" : \"sports\",\n",
        "    \"milage\" : 356,\n",
        "    \"year\" : 2017,\n",
        "    \"year\" : 2021,\n",
        "}\n",
        "print(mydict)"
      ],
      "metadata": {
        "colab": {
          "base_uri": "https://localhost:8080/"
        },
        "id": "OeuuW84Wvm_G",
        "outputId": "dad24cd3-c14a-41ad-f562-5a596fd6a253"
      },
      "execution_count": null,
      "outputs": [
        {
          "output_type": "stream",
          "name": "stdout",
          "text": [
            "{'name': 'Ford', 'model': 'sports', 'milage': 356, 'year': 2021}\n"
          ]
        }
      ]
    },
    {
      "cell_type": "markdown",
      "source": [
        "**Print the number of items in the dictionary**"
      ],
      "metadata": {
        "id": "NYZJY5iYut8y"
      }
    },
    {
      "cell_type": "code",
      "source": [
        "mydict = {\n",
        "    \"name\" : \"Ford\",\n",
        "    \"model\" : \"sports\",\n",
        "    \"milage\" : 356,\n",
        "    \"type\" : \"diesel\",\n",
        "    \"cost\" : \"20000$\",\n",
        "}\n",
        "print(len(mydict))"
      ],
      "metadata": {
        "colab": {
          "base_uri": "https://localhost:8080/"
        },
        "id": "bos56rcuuunA",
        "outputId": "64ad1bcc-229f-4d7c-e2b8-4cf83ffdac88"
      },
      "execution_count": null,
      "outputs": [
        {
          "output_type": "stream",
          "name": "stdout",
          "text": [
            "5\n"
          ]
        }
      ]
    },
    {
      "cell_type": "markdown",
      "source": [
        "**String, int, boolean, and list data types**"
      ],
      "metadata": {
        "id": "Y7FoWG31ajg7"
      }
    },
    {
      "cell_type": "code",
      "source": [
        "mydict = {\n",
        "    \"name\":\"aston martin\",\n",
        "    \"electric\":True,\n",
        "    \"year\":2021,\n",
        "    \"designer\":[\"kk karuppu\",\"matta bala\",\"kokki kumar\"]\n",
        "}\n",
        "print(mydict)"
      ],
      "metadata": {
        "colab": {
          "base_uri": "https://localhost:8080/"
        },
        "id": "vATTDgiQajOy",
        "outputId": "9e1daddf-2ab3-4877-b708-0507b993453d"
      },
      "execution_count": null,
      "outputs": [
        {
          "output_type": "stream",
          "name": "stdout",
          "text": [
            "{'name': 'aston martin', 'electric': True, 'year': 2021, 'designer': ['kk karuppu', 'matta bala', 'kokki kumar']}\n"
          ]
        }
      ]
    },
    {
      "cell_type": "markdown",
      "source": [
        "**Print the data type of a dictionary**"
      ],
      "metadata": {
        "id": "eN91Pmf9d8DF"
      }
    },
    {
      "cell_type": "code",
      "source": [
        "mydict = {\n",
        "    \"name\":\"aston martin\",\n",
        "    \"electric\":True,\n",
        "    \"year\":2021,\n",
        "    \"designer\":[\"kk karuppu\",\"matta bala\",\"kokki kumar\"]\n",
        "}\n",
        "print(type(mydict))\n",
        "print(type(mydict['name']))\n",
        "print(type(mydict['year']))"
      ],
      "metadata": {
        "colab": {
          "base_uri": "https://localhost:8080/"
        },
        "outputId": "187f8b20-89b6-48d4-f2de-e3794a2e25ca",
        "id": "fVuigf_0eFeI"
      },
      "execution_count": null,
      "outputs": [
        {
          "output_type": "stream",
          "name": "stdout",
          "text": [
            "<class 'dict'>\n",
            "<class 'str'>\n",
            "<class 'int'>\n"
          ]
        }
      ]
    },
    {
      "cell_type": "markdown",
      "source": [
        "**Add a new item to the original dictionary, and see that the keys list gets updated**"
      ],
      "metadata": {
        "id": "ovjjMmLbedzj"
      }
    },
    {
      "cell_type": "code",
      "source": [
        "mydict = {\n",
        "    \"name\" : \"Ford\",\n",
        "    \"model\" : \"sports\",\n",
        "    \"milage\" : 356,\n",
        "    \"type\" : \"diesel\",\n",
        "    \"cost\" : \"20000$\",\n",
        "}\n",
        "x = mydict.keys()\n",
        "print(\"before the change: \",x)\n",
        "mydict[\"door\"] = 2\n",
        "print(\"after the change: \",x) "
      ],
      "metadata": {
        "colab": {
          "base_uri": "https://localhost:8080/"
        },
        "id": "KZn13fOZef27",
        "outputId": "c7f54d79-c2d7-4641-9d56-ebefe582e032"
      },
      "execution_count": null,
      "outputs": [
        {
          "output_type": "stream",
          "name": "stdout",
          "text": [
            "before the change  dict_keys(['name', 'model', 'milage', 'type', 'cost'])\n",
            "after the change dict_keys(['name', 'model', 'milage', 'type', 'cost', 'door'])\n"
          ]
        }
      ]
    },
    {
      "cell_type": "markdown",
      "source": [
        "**Make a change in the original dictionary, and see that the values list gets updated**"
      ],
      "metadata": {
        "id": "vEu7sGdmfr3y"
      }
    },
    {
      "cell_type": "code",
      "source": [
        "mydict = {\n",
        "    \"name\" : \"Ford\",\n",
        "    \"model\" : \"sports\",\n",
        "    \"milage\" : 356,\n",
        "    \"type\" : \"diesel\",\n",
        "    \"cost\" : \"20000$\",\n",
        "}\n",
        "print(\"before the change: \",mydict)\n",
        "mydict['name'] = \"Aston Martin\"\n",
        "print(\"before the change: \",mydict)"
      ],
      "metadata": {
        "colab": {
          "base_uri": "https://localhost:8080/"
        },
        "id": "gM87HfYIewIB",
        "outputId": "dbbe3182-00d2-4c49-fcc0-1f9648d55382"
      },
      "execution_count": null,
      "outputs": [
        {
          "output_type": "stream",
          "name": "stdout",
          "text": [
            "{'name': 'Ford', 'model': 'sports', 'milage': 356, 'type': 'diesel', 'cost': '20000$'}\n",
            "{'name': 'Aston Martin', 'model': 'sports', 'milage': 356, 'type': 'diesel', 'cost': '20000$'}\n"
          ]
        }
      ]
    },
    {
      "cell_type": "markdown",
      "source": [
        "**Make a change in the original dictionary, and see that the items list gets updated**"
      ],
      "metadata": {
        "id": "fHuYZjvmgc4j"
      }
    },
    {
      "cell_type": "code",
      "source": [
        "mydict = {\n",
        "    \"name\" : \"Ford\",\n",
        "    \"model\" : \"sports\",\n",
        "    \"milage\" : 356,\n",
        "    \"type\" : \"diesel\",\n",
        "    \"cost\" : \"20000$\",\n",
        "}\n",
        "x = mydict.items()\n",
        "print(x)\n",
        "mydict['name'] = \"aston martin\"\n",
        "print(x)"
      ],
      "metadata": {
        "colab": {
          "base_uri": "https://localhost:8080/"
        },
        "id": "pjT1abxLgrFd",
        "outputId": "12fa8282-66d9-4dd7-d0c8-cdb284db0c4b"
      },
      "execution_count": null,
      "outputs": [
        {
          "output_type": "stream",
          "name": "stdout",
          "text": [
            "dict_items([('name', 'Ford'), ('model', 'sports'), ('milage', 356), ('type', 'diesel'), ('cost', '20000$')])\n",
            "dict_items([('name', 'aston martin'), ('model', 'sports'), ('milage', 356), ('type', 'diesel'), ('cost', '20000$')])\n"
          ]
        }
      ]
    },
    {
      "cell_type": "markdown",
      "source": [
        "**Check if \"model\" is present in the dictionary**"
      ],
      "metadata": {
        "id": "hCQb0KHkhy5-"
      }
    },
    {
      "cell_type": "code",
      "source": [
        "mydict = {\n",
        "    \"name\" : \"Ford\",\n",
        "    \"model\" : \"sports\",\n",
        "    \"milage\" : 356,\n",
        "    \"type\" : \"diesel\",\n",
        "    \"cost\" : \"20000$\",\n",
        "}\n",
        "if \"model\" in mydict:\n",
        "    print(\"yes model is present in my dict\")"
      ],
      "metadata": {
        "colab": {
          "base_uri": "https://localhost:8080/"
        },
        "id": "HK16FluQh0I_",
        "outputId": "9a3ab7ca-34a4-4d9c-e8fc-221a49d3f498"
      },
      "execution_count": null,
      "outputs": [
        {
          "output_type": "stream",
          "name": "stdout",
          "text": [
            "yes model is present in my dict\n"
          ]
        }
      ]
    },
    {
      "cell_type": "markdown",
      "source": [
        "**Change the \"milage\" to 123**"
      ],
      "metadata": {
        "id": "a80VrHLbiQTI"
      }
    },
    {
      "cell_type": "code",
      "source": [
        "mydict = {\n",
        "    \"name\" : \"Ford\",\n",
        "    \"model\" : \"sports\",\n",
        "    \"milage\" : 356,\n",
        "    \"type\" : \"diesel\",\n",
        "    \"cost\" : \"20000$\",\n",
        "}\n",
        "mydict[\"milage\"] = 123\n",
        "print(mydict[\"milage\"])"
      ],
      "metadata": {
        "colab": {
          "base_uri": "https://localhost:8080/"
        },
        "id": "TtWl3yooiP4E",
        "outputId": "de817a19-2281-4190-9805-6ce3807876f1"
      },
      "execution_count": null,
      "outputs": [
        {
          "output_type": "stream",
          "name": "stdout",
          "text": [
            "123\n"
          ]
        }
      ]
    },
    {
      "cell_type": "markdown",
      "source": [
        "**Update the \"year\" of the car by using the update()**"
      ],
      "metadata": {
        "id": "xqeOZszqi4i9"
      }
    },
    {
      "cell_type": "code",
      "source": [
        "mydict = {\n",
        "    \"name\" : \"Ford\",\n",
        "    \"model\" : \"sports\",\n",
        "    \"milage\" : 356,\n",
        "    \"type\" : \"diesel\",\n",
        "    \"cost\" : \"20000$\",\n",
        "}\n",
        "mydict.update({\"cost\":\"13427$\"})\n",
        "mydict.update({\"model\":\"classic\"})\n",
        "print(mydict[\"cost\"])\n",
        "print(mydict[\"model\"])"
      ],
      "metadata": {
        "colab": {
          "base_uri": "https://localhost:8080/"
        },
        "id": "WX2UjJRKi5s_",
        "outputId": "b00aa002-2cf1-4e89-a55f-02928d68fbb5"
      },
      "execution_count": null,
      "outputs": [
        {
          "output_type": "stream",
          "name": "stdout",
          "text": [
            "13427$\n",
            "classic\n"
          ]
        }
      ]
    },
    {
      "cell_type": "markdown",
      "source": [
        "**Adding an item to the dictionary is done by using a new index key and assigning a value to it**"
      ],
      "metadata": {
        "id": "fntY-mXWj1LY"
      }
    },
    {
      "cell_type": "code",
      "source": [
        "mydict = {\n",
        "    \"name\" : \"Ford\",\n",
        "    \"model\" : \"sports\",\n",
        "    \"milage\" : 356,\n",
        "    \"type\" : \"diesel\",\n",
        "    \"cost\" : \"20000$\",\n",
        "}\n",
        "print(mydict)\n",
        "mydict[\"new one\"] = \"hello\"\n",
        "print(mydict)"
      ],
      "metadata": {
        "colab": {
          "base_uri": "https://localhost:8080/"
        },
        "id": "shcwU8hesEku",
        "outputId": "95237ccc-7461-49ad-ef8e-95646eaae752"
      },
      "execution_count": null,
      "outputs": [
        {
          "output_type": "stream",
          "name": "stdout",
          "text": [
            "{'name': 'Ford', 'model': 'sports', 'milage': 356, 'type': 'diesel', 'cost': '20000$'}\n",
            "{'name': 'Ford', 'model': 'sports', 'milage': 356, 'type': 'diesel', 'cost': '20000$', 'new one': 'hello'}\n"
          ]
        }
      ]
    },
    {
      "cell_type": "markdown",
      "source": [
        "**Adding an item to the dictionary is done by using a new index key and assigning a value to it**"
      ],
      "metadata": {
        "id": "3Y1x1GiZsde_"
      }
    },
    {
      "cell_type": "code",
      "source": [
        "mydict = {\n",
        "    \"name\" : \"Ford\",\n",
        "    \"model\" : \"sports\",\n",
        "    \"milage\" : 356,\n",
        "    \"type\" : \"diesel\",\n",
        "    \"cost\" : \"20000$\",\n",
        "}\n",
        "print(mydict)\n",
        "mydict.update({\"name\":\"tesla\"})\n",
        "print(mydict)"
      ],
      "metadata": {
        "colab": {
          "base_uri": "https://localhost:8080/"
        },
        "id": "fmDyNZz5sdzb",
        "outputId": "5b05be51-c175-4f3d-c1b2-90a0255ce244"
      },
      "execution_count": null,
      "outputs": [
        {
          "output_type": "stream",
          "name": "stdout",
          "text": [
            "{'name': 'Ford', 'model': 'sports', 'milage': 356, 'type': 'diesel', 'cost': '20000$'}\n",
            "{'name': 'tesla', 'model': 'sports', 'milage': 356, 'type': 'diesel', 'cost': '20000$'}\n"
          ]
        }
      ]
    },
    {
      "cell_type": "markdown",
      "source": [
        "**pop() method removes the item with the specified key name**"
      ],
      "metadata": {
        "id": "iH-mKOJ_tBD6"
      }
    },
    {
      "cell_type": "code",
      "source": [
        "mydict = {\n",
        "    \"name\" : \"Ford\",\n",
        "    \"model\" : \"sports\",\n",
        "    \"milage\" : 356,\n",
        "    \"type\" : \"diesel\",\n",
        "    \"cost\" : \"20000$\",\n",
        "}\n",
        "print(mydict)\n",
        "mydict.pop(\"name\")\n",
        "print(mydict)"
      ],
      "metadata": {
        "colab": {
          "base_uri": "https://localhost:8080/"
        },
        "id": "jcLX4Pp9tAxQ",
        "outputId": "7d0a317e-4e75-43d1-e2b6-cdd84969edb9"
      },
      "execution_count": null,
      "outputs": [
        {
          "output_type": "stream",
          "name": "stdout",
          "text": [
            "{'model': 'sports', 'milage': 356, 'type': 'diesel', 'cost': '20000$'}\n"
          ]
        }
      ]
    },
    {
      "cell_type": "markdown",
      "source": [
        "**del keyword removes the item with the specified key name**"
      ],
      "metadata": {
        "id": "yGRGZxuwty6c"
      }
    },
    {
      "cell_type": "code",
      "source": [
        "mydict = {\n",
        "    \"name\" : \"Ford\",\n",
        "    \"model\" : \"sports\",\n",
        "    \"milage\" : 356,\n",
        "    \"type\" : \"diesel\",\n",
        "    \"cost\" : \"20000$\",\n",
        "}\n",
        "print(mydict)\n",
        "del mydict[\"cost\"]\n",
        "print(mydict)"
      ],
      "metadata": {
        "colab": {
          "base_uri": "https://localhost:8080/"
        },
        "id": "GJJwIOMet1Mv",
        "outputId": "7a2c0548-7da2-4995-bf1c-59dd2dc5dd47"
      },
      "execution_count": null,
      "outputs": [
        {
          "output_type": "stream",
          "name": "stdout",
          "text": [
            "{'name': 'Ford', 'model': 'sports', 'milage': 356, 'type': 'diesel', 'cost': '20000$'}\n",
            "{'name': 'Ford', 'model': 'sports', 'milage': 356, 'type': 'diesel'}\n"
          ]
        }
      ]
    },
    {
      "cell_type": "markdown",
      "source": [
        "**del keyword can also delete the dictionary completely**"
      ],
      "metadata": {
        "id": "Ly5hPaj80gQW"
      }
    },
    {
      "cell_type": "code",
      "source": [
        "mydict = {\n",
        "    \"name\" : \"Ford\",\n",
        "    \"model\" : \"sports\",\n",
        "    \"milage\" : 356,\n",
        "    \"type\" : \"diesel\",\n",
        "    \"cost\" : \"20000$\",\n",
        "}\n",
        "del mydict\n",
        "print(mydict)"
      ],
      "metadata": {
        "colab": {
          "base_uri": "https://localhost:8080/",
          "height": 217
        },
        "id": "clArO-3b0irf",
        "outputId": "255ed457-affb-41ab-d29c-68a3f09b506b"
      },
      "execution_count": null,
      "outputs": [
        {
          "output_type": "stream",
          "name": "stdout",
          "text": [
            "{'name': 'Ford', 'model': 'sports', 'milage': 356, 'type': 'diesel', 'cost': '20000$'}\n"
          ]
        },
        {
          "output_type": "error",
          "ename": "NameError",
          "evalue": "ignored",
          "traceback": [
            "\u001b[0;31m---------------------------------------------------------------------------\u001b[0m",
            "\u001b[0;31mNameError\u001b[0m                                 Traceback (most recent call last)",
            "\u001b[0;32m<ipython-input-11-43231b877562>\u001b[0m in \u001b[0;36m<module>\u001b[0;34m()\u001b[0m\n\u001b[1;32m      8\u001b[0m \u001b[0mprint\u001b[0m\u001b[0;34m(\u001b[0m\u001b[0mmydict\u001b[0m\u001b[0;34m)\u001b[0m\u001b[0;34m\u001b[0m\u001b[0;34m\u001b[0m\u001b[0m\n\u001b[1;32m      9\u001b[0m \u001b[0;32mdel\u001b[0m \u001b[0mmydict\u001b[0m\u001b[0;34m\u001b[0m\u001b[0;34m\u001b[0m\u001b[0m\n\u001b[0;32m---> 10\u001b[0;31m \u001b[0mprint\u001b[0m\u001b[0;34m(\u001b[0m\u001b[0mmydict\u001b[0m\u001b[0;34m)\u001b[0m\u001b[0;34m\u001b[0m\u001b[0;34m\u001b[0m\u001b[0m\n\u001b[0m",
            "\u001b[0;31mNameError\u001b[0m: name 'mydict' is not defined"
          ]
        }
      ]
    },
    {
      "cell_type": "markdown",
      "source": [
        "**clear() method empties the dictionary**"
      ],
      "metadata": {
        "id": "Jy5JrwWN0zd5"
      }
    },
    {
      "cell_type": "code",
      "source": [
        "mydict = {\n",
        "    \"name\" : \"Ford\",\n",
        "    \"model\" : \"sports\",\n",
        "    \"milage\" : 356,\n",
        "    \"type\" : \"diesel\",\n",
        "    \"cost\" : \"20000$\",\n",
        "}\n",
        "mydict.clear()\n",
        "print(mydict)"
      ],
      "metadata": {
        "colab": {
          "base_uri": "https://localhost:8080/"
        },
        "id": "C0XT6FNI08u0",
        "outputId": "6c46627f-b94c-4dde-f570-44593b456e5c"
      },
      "execution_count": null,
      "outputs": [
        {
          "output_type": "stream",
          "name": "stdout",
          "text": [
            "{}\n"
          ]
        }
      ]
    },
    {
      "cell_type": "markdown",
      "source": [
        "**Print all key names in the dictionary**"
      ],
      "metadata": {
        "id": "SCEorYLv1YfC"
      }
    },
    {
      "cell_type": "code",
      "source": [
        "mydict = {\n",
        "    \"name\" : \"Ford\",\n",
        "    \"model\" : \"sports\",\n",
        "    \"milage\" : 356,\n",
        "    \"type\" : \"diesel\",\n",
        "    \"cost\" : \"20000$\",\n",
        "}\n",
        "for index in mydict:\n",
        "    print(index)"
      ],
      "metadata": {
        "colab": {
          "base_uri": "https://localhost:8080/"
        },
        "id": "sKmrd65d1ZLQ",
        "outputId": "4374da3f-8f6a-476e-ac7c-c0d4eb9919f9"
      },
      "execution_count": null,
      "outputs": [
        {
          "output_type": "stream",
          "name": "stdout",
          "text": [
            "name\n",
            "model\n",
            "milage\n",
            "type\n",
            "cost\n"
          ]
        }
      ]
    },
    {
      "cell_type": "markdown",
      "source": [
        "**Print all values in the dictionary**"
      ],
      "metadata": {
        "id": "bbQDGiRp2U33"
      }
    },
    {
      "cell_type": "code",
      "source": [
        "mydict = {\n",
        "    \"name\" : \"Ford\",\n",
        "    \"model\" : \"sports\",\n",
        "    \"milage\" : 356,\n",
        "    \"type\" : \"diesel\",\n",
        "    \"cost\" : \"20000$\",\n",
        "}\n",
        "for index in mydict:\n",
        "    print(mydict[index])"
      ],
      "metadata": {
        "colab": {
          "base_uri": "https://localhost:8080/"
        },
        "id": "5XB2bS_v2T7b",
        "outputId": "420b8ea9-0bd7-4f65-aea4-aa1cf5bd9671"
      },
      "execution_count": null,
      "outputs": [
        {
          "output_type": "stream",
          "name": "stdout",
          "text": [
            "Ford\n",
            "sports\n",
            "356\n",
            "diesel\n",
            "20000$\n"
          ]
        }
      ]
    },
    {
      "cell_type": "markdown",
      "source": [
        "**use the values() method to return values of a dictionary**"
      ],
      "metadata": {
        "id": "3K9hSlFJ5qvN"
      }
    },
    {
      "cell_type": "code",
      "source": [
        "mydict = {\n",
        "    \"name\" : \"Ford\",\n",
        "    \"model\" : \"sports\",\n",
        "    \"milage\" : 356,\n",
        "    \"type\" : \"diesel\",\n",
        "    \"cost\" : \"20000$\",\n",
        "}\n",
        "for i in mydict.values():\n",
        "    print(i)"
      ],
      "metadata": {
        "colab": {
          "base_uri": "https://localhost:8080/"
        },
        "id": "VX88Bug_5sY1",
        "outputId": "86daa460-4eaf-4c42-eb04-fc6758cd0f48"
      },
      "execution_count": null,
      "outputs": [
        {
          "output_type": "stream",
          "name": "stdout",
          "text": [
            "Ford\n",
            "sports\n",
            "356\n",
            "diesel\n",
            "20000$\n"
          ]
        }
      ]
    },
    {
      "cell_type": "markdown",
      "source": [
        "**keys() method to return the keys of a dictionary**"
      ],
      "metadata": {
        "id": "UuUlVxcY5-MJ"
      }
    },
    {
      "cell_type": "code",
      "source": [
        "mydict = {\n",
        "    \"name\" : \"Ford\",\n",
        "    \"model\" : \"sports\",\n",
        "    \"milage\" : 356,\n",
        "    \"type\" : \"diesel\",\n",
        "    \"cost\" : \"20000$\",\n",
        "}\n",
        "for i in mydict.keys():\n",
        "    print(i)"
      ],
      "metadata": {
        "colab": {
          "base_uri": "https://localhost:8080/"
        },
        "id": "aSvNVHAS581b",
        "outputId": "ac6070b8-6cc3-4b5c-df85-d21fcf4beb77"
      },
      "execution_count": null,
      "outputs": [
        {
          "output_type": "stream",
          "name": "stdout",
          "text": [
            "name\n",
            "model\n",
            "milage\n",
            "type\n",
            "cost\n"
          ]
        }
      ]
    },
    {
      "cell_type": "markdown",
      "source": [
        "**Loop through both keys and values, by using the items()**"
      ],
      "metadata": {
        "id": "tt1p8vQ36VaX"
      }
    },
    {
      "cell_type": "code",
      "source": [
        "mydict = {\n",
        "    \"name\" : \"Ford\",\n",
        "    \"model\" : \"sports\",\n",
        "    \"milage\" : 356,\n",
        "    \"type\" : \"diesel\",\n",
        "    \"cost\" : \"20000$\",\n",
        "}\n",
        "for x,y in mydict.items():\n",
        "    print(x,y)"
      ],
      "metadata": {
        "colab": {
          "base_uri": "https://localhost:8080/"
        },
        "id": "OY__gCZo6Unp",
        "outputId": "0fba54a4-f0a3-4d50-ca0f-7ca73f4dabc6"
      },
      "execution_count": null,
      "outputs": [
        {
          "output_type": "stream",
          "name": "stdout",
          "text": [
            "name Ford\n",
            "model sports\n",
            "milage 356\n",
            "type diesel\n",
            "cost 20000$\n"
          ]
        }
      ]
    },
    {
      "cell_type": "markdown",
      "source": [
        "**Make a copy of a dictionary with the copy() method**"
      ],
      "metadata": {
        "id": "CvpFD3Yh6pyF"
      }
    },
    {
      "cell_type": "code",
      "source": [
        "mydict = {\n",
        "    \"name\" : \"Ford\",\n",
        "    \"model\" : \"sports\",\n",
        "    \"milage\" : 356,\n",
        "    \"type\" : \"diesel\",\n",
        "    \"cost\" : \"20000$\",\n",
        "}\n",
        "newdict = mydict.copy()\n",
        "newdict.update({\"name\":\"Tesla\"})\n",
        "print(newdict)"
      ],
      "metadata": {
        "colab": {
          "base_uri": "https://localhost:8080/"
        },
        "id": "iSOzt5AJ6sl2",
        "outputId": "bdd63c8d-429e-4a00-b5fe-7726cbddb6e1"
      },
      "execution_count": null,
      "outputs": [
        {
          "output_type": "stream",
          "name": "stdout",
          "text": [
            "{'name': 'Tesla', 'model': 'sports', 'milage': 356, 'type': 'diesel', 'cost': '20000$'}\n"
          ]
        }
      ]
    },
    {
      "cell_type": "code",
      "source": [
        "keys_list = [\"a\", \"b\"]\n",
        "values_list = [1, 2]\n",
        "\n",
        "#Get pairs of elements\n",
        "zip_iterator = zip(keys_list, values_list)\n",
        "#Convert to dictionary\n",
        "a_dictionary = dict(zip_iterator)\n",
        "\n",
        "print(a_dictionary)"
      ],
      "metadata": {
        "id": "s0CRHJC8Ckt-"
      },
      "execution_count": null,
      "outputs": []
    }
  ]
}