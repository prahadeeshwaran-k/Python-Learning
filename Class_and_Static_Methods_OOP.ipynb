{
  "nbformat": 4,
  "nbformat_minor": 0,
  "metadata": {
    "colab": {
      "name": "Class and Static Methods OOP.ipynb",
      "provenance": [],
      "authorship_tag": "ABX9TyNakRaRnBJluus4qy0Lgmfh",
      "include_colab_link": true
    },
    "kernelspec": {
      "name": "python3",
      "display_name": "Python 3"
    },
    "language_info": {
      "name": "python"
    }
  },
  "cells": [
    {
      "cell_type": "markdown",
      "metadata": {
        "id": "view-in-github",
        "colab_type": "text"
      },
      "source": [
        "<a href=\"https://colab.research.google.com/github/prahadeeshwaran-k/Python-Learning/blob/main/Class_and_Static_Methods_OOP.ipynb\" target=\"_parent\"><img src=\"https://colab.research.google.com/assets/colab-badge.svg\" alt=\"Open In Colab\"/></a>"
      ]
    },
    {
      "cell_type": "code",
      "source": [
        "from google.colab import drive\n",
        "drive.mount('/content/drive')"
      ],
      "metadata": {
        "colab": {
          "base_uri": "https://localhost:8080/"
        },
        "id": "xMZbjcwxbT4F",
        "outputId": "e5124797-9f66-4c8d-e5f7-48f783de8905"
      },
      "execution_count": null,
      "outputs": [
        {
          "output_type": "stream",
          "name": "stdout",
          "text": [
            "Mounted at /content/drive\n"
          ]
        }
      ]
    },
    {
      "cell_type": "code",
      "source": [
        "import pandas as pd\n",
        "path = \"/content/drive/MyDrive/Colab Notebooks/Colab CSV/file.csv\"\n",
        "df = pd.read_csv(path)\n",
        "df.describe"
      ],
      "metadata": {
        "colab": {
          "base_uri": "https://localhost:8080/"
        },
        "id": "A7J8_JisgM_i",
        "outputId": "7850c40d-3806-4624-85ef-2354cb45d85a"
      },
      "execution_count": null,
      "outputs": [
        {
          "output_type": "execute_result",
          "data": {
            "text/plain": [
              "<bound method NDFrame.describe of      product  Price  quanity  rateing\n",
              "0  mouse pad     10        4      4.3\n",
              "1    teddies      3       10      3.9\n",
              "2    perfume     15        2      5.0\n",
              "3  USB drive     12        5      4.5\n",
              "4      piano   4000        1      4.7>"
            ]
          },
          "metadata": {},
          "execution_count": 4
        }
      ]
    },
    {
      "cell_type": "code",
      "source": [
        ""
      ],
      "metadata": {
        "id": "9j3lw_oEgmtf"
      },
      "execution_count": null,
      "outputs": []
    }
  ]
}