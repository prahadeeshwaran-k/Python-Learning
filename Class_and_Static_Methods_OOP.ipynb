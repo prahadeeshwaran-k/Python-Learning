{
  "nbformat": 4,
  "nbformat_minor": 0,
  "metadata": {
    "colab": {
      "name": "Class and Static Methods OOP.ipynb",
      "provenance": [],
      "authorship_tag": "ABX9TyPWHFLTpfYwVbNRxRyKSOIG",
      "include_colab_link": true
    },
    "kernelspec": {
      "name": "python3",
      "display_name": "Python 3"
    },
    "language_info": {
      "name": "python"
    }
  },
  "cells": [
    {
      "cell_type": "markdown",
      "metadata": {
        "id": "view-in-github",
        "colab_type": "text"
      },
      "source": [
        "<a href=\"https://colab.research.google.com/github/prahadeeshwaran-k/Python-Learning/blob/main/Class_and_Static_Methods_OOP.ipynb\" target=\"_parent\"><img src=\"https://colab.research.google.com/assets/colab-badge.svg\" alt=\"Open In Colab\"/></a>"
      ]
    },
    {
      "cell_type": "code",
      "source": [
        "from google.colab import drive\n",
        "drive.mount('/content/drive')"
      ],
      "metadata": {
        "colab": {
          "base_uri": "https://localhost:8080/"
        },
        "id": "xMZbjcwxbT4F",
        "outputId": "a0a0a764-de06-45b0-aa78-617f20ee0ffe"
      },
      "execution_count": 11,
      "outputs": [
        {
          "output_type": "stream",
          "name": "stdout",
          "text": [
            "Drive already mounted at /content/drive; to attempt to forcibly remount, call drive.mount(\"/content/drive\", force_remount=True).\n"
          ]
        }
      ]
    },
    {
      "cell_type": "code",
      "source": [
        "import pandas as pd\n",
        "path = \"/content/drive/MyDrive/Colab Notebooks/Colab CSV/items.csv\"\n",
        "df = pd.read_csv(path)\n",
        "df.describe"
      ],
      "metadata": {
        "colab": {
          "base_uri": "https://localhost:8080/"
        },
        "id": "A7J8_JisgM_i",
        "outputId": "f4a852dd-81d5-4861-c322-285a5852296a"
      },
      "execution_count": 12,
      "outputs": [
        {
          "output_type": "execute_result",
          "data": {
            "text/plain": [
              "<bound method NDFrame.describe of         name  price  quantity\n",
              "0  mouse pad     10         4\n",
              "1    teddies      3        10\n",
              "2    perfume     15         2\n",
              "3  USB drive     12         5\n",
              "4      piano   4000         1>"
            ]
          },
          "metadata": {},
          "execution_count": 12
        }
      ]
    },
    {
      "cell_type": "code",
      "source": [
        "from google.colab import drive\n",
        "drive.mount('/content/drive')\n",
        "\n",
        "import pandas as pd\n",
        "path = \"/content/drive/MyDrive/Colab Notebooks/Colab CSV/items.csv\"\n",
        "df = pd.read_csv(path)\n",
        "df.describe\n",
        "\n",
        "import csv\n",
        "class Item:\n",
        "    #after pay 20% discount \n",
        "    pay_rate = 0.8 \n",
        "    all = []\n",
        "\n",
        "    def __init__(self, name: str, price: int,quantity = 0):\n",
        "        assert price > 0, f\"Price {price} is not greater than or equal to zero\"\n",
        "        assert quantity > 0, f\"Quantity {quantity} is not greater than or equal to zero\"\n",
        "        \n",
        "        #assign  to self object in method\n",
        "        self.name = name\n",
        "        self.price = price\n",
        "        self.quantity = quantity\n",
        "\n",
        "        #The name of the object is append in all list\n",
        "        Item.all.append(self)\n",
        "    \n",
        "    def totalprice(self):\n",
        "        return self.price*self.quantity\n",
        "\n",
        "    def discount(self):\n",
        "        self.price = self.price*self.pay_rate*self.quantity\n",
        "\n",
        "    @classmethod\n",
        "    def instance_from_csv(cls):\n",
        "        with open('items.csv', 'r') as f:\n",
        "            reader = csv.DictReader(f)\n",
        "            items = list(reader)\n",
        "        \n",
        "        for item in items :\n",
        "            print(item)\n",
        "\n",
        "    def __repr__(self):\n",
        "        return f\"Item('{self.name}',{self.price},{self.quantity})\"\n",
        "\n",
        "#using classmethod is alwaya be passed the Item to first argument \n",
        "Item.instance_from_csv()\n",
        "print(Item.all)"
      ],
      "metadata": {
        "id": "9j3lw_oEgmtf",
        "colab": {
          "base_uri": "https://localhost:8080/"
        },
        "outputId": "46121834-e2dc-4c7e-9e2a-acb4abfd44ec"
      },
      "execution_count": 23,
      "outputs": [
        {
          "output_type": "stream",
          "name": "stdout",
          "text": [
            "Drive already mounted at /content/drive; to attempt to forcibly remount, call drive.mount(\"/content/drive\", force_remount=True).\n",
            "OrderedDict([('name', 'mouse pad'), ('price', '10'), ('quantity', '4')])\n",
            "OrderedDict([('name', 'teddies'), ('price', '3'), ('quantity', '10')])\n",
            "OrderedDict([('name', 'perfume'), ('price', '15'), ('quantity', '2')])\n",
            "OrderedDict([('name', 'USB drive'), ('price', '12'), ('quantity', '5')])\n",
            "OrderedDict([('name', 'piano'), ('price', '4000'), ('quantity', '1')])\n",
            "[]\n"
          ]
        }
      ]
    }
  ]
}