{
  "nbformat": 4,
  "nbformat_minor": 0,
  "metadata": {
    "colab": {
      "name": "Class and Static Methods OOP.ipynb",
      "provenance": [],
      "authorship_tag": "ABX9TyPCH+YBWlxE6xj6xSnCJn4z",
      "include_colab_link": true
    },
    "kernelspec": {
      "name": "python3",
      "display_name": "Python 3"
    },
    "language_info": {
      "name": "python"
    }
  },
  "cells": [
    {
      "cell_type": "markdown",
      "metadata": {
        "id": "view-in-github",
        "colab_type": "text"
      },
      "source": [
        "<a href=\"https://colab.research.google.com/github/prahadeeshwaran-k/Python-Learning/blob/main/Class_and_Static_Methods_OOP.ipynb\" target=\"_parent\"><img src=\"https://colab.research.google.com/assets/colab-badge.svg\" alt=\"Open In Colab\"/></a>"
      ]
    },
    {
      "cell_type": "code",
      "source": [
        "from google.colab import drive\n",
        "drive.mount('/content/drive')"
      ],
      "metadata": {
        "colab": {
          "base_uri": "https://localhost:8080/"
        },
        "id": "xMZbjcwxbT4F",
        "outputId": "e5124797-9f66-4c8d-e5f7-48f783de8905"
      },
      "execution_count": null,
      "outputs": [
        {
          "output_type": "stream",
          "name": "stdout",
          "text": [
            "Mounted at /content/drive\n"
          ]
        }
      ]
    },
    {
      "cell_type": "code",
      "source": [
        "import pandas as pd\n",
        "path = \"/content/drive/MyDrive/Colab Notebooks/Colab CSV/items.csv\"\n",
        "df = pd.read_csv(path)\n",
        "df.describe"
      ],
      "metadata": {
        "colab": {
          "base_uri": "https://localhost:8080/"
        },
        "id": "A7J8_JisgM_i",
        "outputId": "7850c40d-3806-4624-85ef-2354cb45d85a"
      },
      "execution_count": null,
      "outputs": [
        {
          "output_type": "execute_result",
          "data": {
            "text/plain": [
              "<bound method NDFrame.describe of      product  Price  quanity  rateing\n",
              "0  mouse pad     10        4      4.3\n",
              "1    teddies      3       10      3.9\n",
              "2    perfume     15        2      5.0\n",
              "3  USB drive     12        5      4.5\n",
              "4      piano   4000        1      4.7>"
            ]
          },
          "metadata": {},
          "execution_count": 4
        }
      ]
    },
    {
      "cell_type": "code",
      "source": [
        "import csv\n",
        "class Item:\n",
        "    #after pay 20% discount \n",
        "    pay_rate = 0.8 \n",
        "    all = []\n",
        "\n",
        "    def __init__(self, name: str, price: int,quantity = 0):\n",
        "        assert price > 0, f\"Price {price} is not greater than or equal to zero\"\n",
        "        assert quantity > 0, f\"Quantity {quantity} is not greater than or equal to zero\"\n",
        "        \n",
        "        #assign  to self object in method\n",
        "        self.name = name\n",
        "        self.price = price\n",
        "        self.quantity = quantity\n",
        "\n",
        "        #The name of the object is append in all list\n",
        "        Item.all.append(self.name)\n",
        "    \n",
        "    def totalprice(self):\n",
        "        return self.price*self.quantity\n",
        "\n",
        "    def discount(self):\n",
        "        self.price = self.price*self.pay_rate*self.quantity\n",
        "\n",
        "    @classmethod\n",
        "    def instance_from_csv(cls):\n",
        "        with open('items.csv','r') as f:\n",
        "            reader = csv.DictReader(f)\n",
        "            items = list(reader)\n",
        "        \n",
        "        for item in items :\n",
        "            print (item)\n",
        "\n",
        "#using classmethod is alwaya be passed the Item to first argument \n",
        "Item.instance_from_csv()"
      ],
      "metadata": {
        "id": "9j3lw_oEgmtf"
      },
      "execution_count": null,
      "outputs": []
    }
  ]
}