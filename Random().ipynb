{
  "nbformat": 4,
  "nbformat_minor": 0,
  "metadata": {
    "colab": {
      "name": "Random().ipynb",
      "provenance": [],
      "authorship_tag": "ABX9TyNVgF4yeWTzODBE4bb2H4Dq",
      "include_colab_link": true
    },
    "kernelspec": {
      "name": "python3",
      "display_name": "Python 3"
    },
    "language_info": {
      "name": "python"
    }
  },
  "cells": [
    {
      "cell_type": "markdown",
      "metadata": {
        "id": "view-in-github",
        "colab_type": "text"
      },
      "source": [
        "<a href=\"https://colab.research.google.com/github/prahadeeshwaran-k/Python-Learning/blob/main/Random().ipynb\" target=\"_parent\"><img src=\"https://colab.research.google.com/assets/colab-badge.svg\" alt=\"Open In Colab\"/></a>"
      ]
    },
    {
      "cell_type": "code",
      "execution_count": null,
      "metadata": {
        "colab": {
          "base_uri": "https://localhost:8080/"
        },
        "id": "6GIUdjRtpm5G",
        "outputId": "77954f87-a453-41c7-823e-23c91a669d72"
      },
      "outputs": [
        {
          "output_type": "stream",
          "name": "stdout",
          "text": [
            "enter a number of times random:15\n",
            "0.8957010143800538\n",
            "0.03424978049067873\n",
            "0.5432277120623226\n",
            "0.8292931636519641\n",
            "0.7836414455953147\n",
            "0.017360965608282153\n",
            "0.8799900417007418\n",
            "0.8661307047470449\n",
            "0.9742256795450404\n",
            "0.11245313744892804\n",
            "0.24107629790293972\n",
            "0.7524289610542911\n",
            "0.7382516008389747\n",
            "0.9841254651074127\n",
            "0.11566826589795176\n"
          ]
        }
      ],
      "source": [
        "import random\n",
        "num = int(input(\"enter a number of times random:\"))\n",
        "for i in range(num):\n",
        "  print(random.random())"
      ]
    },
    {
      "cell_type": "markdown",
      "source": [
        "**To Choose Random in list**"
      ],
      "metadata": {
        "id": "m7mLTOW43j3X"
      }
    },
    {
      "cell_type": "code",
      "source": [
        "import random\n",
        "list1 = [1,2,3,4,5,6,7,8,9,10,11,12]\n",
        "print(random.choice(list1))"
      ],
      "metadata": {
        "colab": {
          "base_uri": "https://localhost:8080/"
        },
        "id": "JPuRLuLZ3dT4",
        "outputId": "0d3d0900-a6b7-4e8b-d28b-616f880147fd"
      },
      "execution_count": 4,
      "outputs": [
        {
          "output_type": "stream",
          "name": "stdout",
          "text": [
            "6\n"
          ]
        }
      ]
    },
    {
      "cell_type": "code",
      "source": [
        "import random\n",
        "num = int(input(\"how many randoms numbers: \"))\n",
        "list1 = [1,2,3,4,5,6,7,8,9,10,11,12,13,14,15]\n",
        "for index in range(num):\n",
        "  print(random.choice(list1))"
      ],
      "metadata": {
        "colab": {
          "base_uri": "https://localhost:8080/"
        },
        "id": "vzmEt00w4arU",
        "outputId": "62711c62-9181-4713-e243-7851fcdd5552"
      },
      "execution_count": 9,
      "outputs": [
        {
          "output_type": "stream",
          "name": "stdout",
          "text": [
            "how many randoms numbers: 4\n",
            "3\n",
            "13\n",
            "2\n",
            "7\n"
          ]
        }
      ]
    },
    {
      "cell_type": "code",
      "source": [
        "print(\"random range of a 100: \",end=\"\")\n",
        "print(random.randrange(100))\n",
        "\n",
        "print(\"random range of a 100,569: \",end=\"\")\n",
        "print(random.randrange(100,569))"
      ],
      "metadata": {
        "colab": {
          "base_uri": "https://localhost:8080/"
        },
        "id": "gAAx2FMR5HZd",
        "outputId": "26516be0-cbb1-4f4f-e5f6-e83b6ad71bbc"
      },
      "execution_count": 12,
      "outputs": [
        {
          "output_type": "stream",
          "name": "stdout",
          "text": [
            "random range of a 100: 93\n",
            "random range of a 100,569: 111\n"
          ]
        }
      ]
    }
  ]
}