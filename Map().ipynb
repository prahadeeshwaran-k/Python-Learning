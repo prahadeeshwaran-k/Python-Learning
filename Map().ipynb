{
  "nbformat": 4,
  "nbformat_minor": 0,
  "metadata": {
    "colab": {
      "name": "Map().ipynb",
      "provenance": [],
      "authorship_tag": "ABX9TyNUsOEy04lqeGht4sAoK2T5",
      "include_colab_link": true
    },
    "kernelspec": {
      "name": "python3",
      "display_name": "Python 3"
    },
    "language_info": {
      "name": "python"
    }
  },
  "cells": [
    {
      "cell_type": "markdown",
      "metadata": {
        "id": "view-in-github",
        "colab_type": "text"
      },
      "source": [
        "<a href=\"https://colab.research.google.com/github/prahadeeshwaran-k/Python-Learning/blob/main/Map().ipynb\" target=\"_parent\"><img src=\"https://colab.research.google.com/assets/colab-badge.svg\" alt=\"Open In Colab\"/></a>"
      ]
    },
    {
      "cell_type": "markdown",
      "source": [
        "#A Normal to find a sqaure in list using for loop"
      ],
      "metadata": {
        "id": "L_ACE3eggwqS"
      }
    },
    {
      "cell_type": "code",
      "source": [
        "listnum = [1,2,3,4,5,6,7,8,9]\n",
        "sqrtlist = []\n",
        "square= lambda x : x**2\n",
        "for i in listnum:\n",
        "    sqrtlist.append(square(i))\n",
        "print(sqrtlist)"
      ],
      "metadata": {
        "colab": {
          "base_uri": "https://localhost:8080/"
        },
        "id": "EapXOMH5hsnN",
        "outputId": "5e761054-d5c1-4d97-aab1-18792539dd6f"
      },
      "execution_count": null,
      "outputs": [
        {
          "output_type": "stream",
          "name": "stdout",
          "text": [
            "[1, 4, 9, 16, 25, 36, 49, 64, 81]\n"
          ]
        }
      ]
    }
  ]
}