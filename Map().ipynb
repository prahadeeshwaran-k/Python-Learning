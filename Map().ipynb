{
  "nbformat": 4,
  "nbformat_minor": 0,
  "metadata": {
    "colab": {
      "name": "Map().ipynb",
      "provenance": [],
      "authorship_tag": "ABX9TyOz1tQDWNWVjU6rxmqEfIeh",
      "include_colab_link": true
    },
    "kernelspec": {
      "name": "python3",
      "display_name": "Python 3"
    },
    "language_info": {
      "name": "python"
    }
  },
  "cells": [
    {
      "cell_type": "markdown",
      "metadata": {
        "id": "view-in-github",
        "colab_type": "text"
      },
      "source": [
        "<a href=\"https://colab.research.google.com/github/prahadeeshwaran-k/Python-Learning/blob/main/Map().ipynb\" target=\"_parent\"><img src=\"https://colab.research.google.com/assets/colab-badge.svg\" alt=\"Open In Colab\"/></a>"
      ]
    },
    {
      "cell_type": "markdown",
      "source": [
        "# Syntax:\n"
      ],
      "metadata": {
        "id": "XPgRASzgDk99"
      }
    },
    {
      "cell_type": "code",
      "source": [
        "map(function, iterator1,iterator2 ...iteratorN)"
      ],
      "metadata": {
        "id": "hR8Jz6dkDQFm"
      },
      "execution_count": null,
      "outputs": []
    },
    {
      "cell_type": "markdown",
      "source": [
        "# Using map() with a string as an iterator\n"
      ],
      "metadata": {
        "id": "vZbYx8sL_x0F"
      }
    },
    {
      "cell_type": "code",
      "source": [
        "def fun(s):\n",
        "    return s.upper()\n",
        "my_str = \"it is a sample text to mae a string uppercase\"\n",
        "new_upperstring = map(fun,my_str)\n",
        "print(new_upperstring)\n",
        "for i in new_upperstring:\n",
        "    print(i, end=\"\")"
      ],
      "metadata": {
        "colab": {
          "base_uri": "https://localhost:8080/"
        },
        "id": "le6wVM71_6fM",
        "outputId": "33b6de2a-dfe1-470f-9a3f-c747bffbf7fc"
      },
      "execution_count": 2,
      "outputs": [
        {
          "output_type": "stream",
          "name": "stdout",
          "text": [
            "<map object at 0x7ff445751450>\n",
            "IT IS A SAMPLE TEXT TO MAE A STRING UPPERCASE"
          ]
        }
      ]
    },
    {
      "cell_type": "markdown",
      "source": [
        "# Calculate the length of each word in the tuple:"
      ],
      "metadata": {
        "id": "oYOQEXG0D9Aw"
      }
    },
    {
      "cell_type": "code",
      "source": [
        "def fun(n):\n",
        "    return (len(n))\n",
        "x = map(fun,(\"tony stark\",\"thor odionson\",\"hulk\",\"caption america\"))\n",
        "print(list(x))"
      ],
      "metadata": {
        "colab": {
          "base_uri": "https://localhost:8080/"
        },
        "id": "9mbkXGdREDpk",
        "outputId": "7f3ca43d-0564-4ca5-c019-aacdc090adc5"
      },
      "execution_count": null,
      "outputs": [
        {
          "output_type": "stream",
          "name": "stdout",
          "text": [
            "[10, 13, 4, 15]\n"
          ]
        }
      ]
    },
    {
      "cell_type": "markdown",
      "source": [
        "# Make new fruits by sending two iterable objects into the function:"
      ],
      "metadata": {
        "id": "uMPp6Xb8FRxl"
      }
    },
    {
      "cell_type": "code",
      "source": [
        "n1 = [\"tony\",\"thor\",\"Caption\",]\n",
        "n2 = [\"stark\",\"odionson\",\"america\"]\n",
        "def fun(n1,n2):\n",
        "    return n1+n2\n",
        "x = map(fun,n1,n2)\n",
        "print(list(x))"
      ],
      "metadata": {
        "colab": {
          "base_uri": "https://localhost:8080/"
        },
        "id": "6SlizkmnFVqd",
        "outputId": "c0042ad0-b5fa-4f3e-80aa-4ec4f0fb5e9e"
      },
      "execution_count": null,
      "outputs": [
        {
          "output_type": "stream",
          "name": "stdout",
          "text": [
            "['tonystark', 'thorodionson', 'Captionamerica']\n"
          ]
        }
      ]
    },
    {
      "cell_type": "markdown",
      "source": [
        "#A Normal to find a sqaure in list using for loop"
      ],
      "metadata": {
        "id": "L_ACE3eggwqS"
      }
    },
    {
      "cell_type": "code",
      "source": [
        "listnum = [1,2,3,4,5,6,7,8,9]\n",
        "sqrtlist = []\n",
        "square= lambda x : x**2\n",
        "for i in listnum:\n",
        "    sqrtlist.append(square(i))\n",
        "print(sqrtlist)"
      ],
      "metadata": {
        "colab": {
          "base_uri": "https://localhost:8080/"
        },
        "id": "EapXOMH5hsnN",
        "outputId": "5e761054-d5c1-4d97-aab1-18792539dd6f"
      },
      "execution_count": null,
      "outputs": [
        {
          "output_type": "stream",
          "name": "stdout",
          "text": [
            "[1, 4, 9, 16, 25, 36, 49, 64, 81]\n"
          ]
        }
      ]
    }
  ]
}