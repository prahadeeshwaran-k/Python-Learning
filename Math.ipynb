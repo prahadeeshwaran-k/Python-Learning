{
  "nbformat": 4,
  "nbformat_minor": 0,
  "metadata": {
    "colab": {
      "name": "Math.ipynb",
      "provenance": [],
      "authorship_tag": "ABX9TyNjuRIGIXMZIncZ5T1IGfi7",
      "include_colab_link": true
    },
    "kernelspec": {
      "name": "python3",
      "display_name": "Python 3"
    },
    "language_info": {
      "name": "python"
    }
  },
  "cells": [
    {
      "cell_type": "markdown",
      "metadata": {
        "id": "view-in-github",
        "colab_type": "text"
      },
      "source": [
        "<a href=\"https://colab.research.google.com/github/prahadeeshwaran-k/Python-Learning/blob/main/Math.ipynb\" target=\"_parent\"><img src=\"https://colab.research.google.com/assets/colab-badge.svg\" alt=\"Open In Colab\"/></a>"
      ]
    },
    {
      "cell_type": "code",
      "execution_count": null,
      "metadata": {
        "id": "Jm0jowq3T324",
        "colab": {
          "base_uri": "https://localhost:8080/"
        },
        "outputId": "491ba46f-76de-4667-c93c-30440091901c"
      },
      "outputs": [
        {
          "output_type": "stream",
          "name": "stdout",
          "text": [
            "Enter the number24865977\n",
            "48\n"
          ]
        }
      ],
      "source": [
        "num = str(input(\"Enter the number\"))\n",
        "sum = 0\n",
        "for i in range(0,len(num)):\n",
        "  sum += int(num[i])\n",
        "print(sum)  "
      ]
    }
  ]
}