{
  "nbformat": 4,
  "nbformat_minor": 0,
  "metadata": {
    "colab": {
      "name": "Math.ipynb",
      "provenance": [],
      "authorship_tag": "ABX9TyONI2aX9VkXkUdnO7vMEPYn",
      "include_colab_link": true
    },
    "kernelspec": {
      "name": "python3",
      "display_name": "Python 3"
    },
    "language_info": {
      "name": "python"
    }
  },
  "cells": [
    {
      "cell_type": "markdown",
      "metadata": {
        "id": "view-in-github",
        "colab_type": "text"
      },
      "source": [
        "<a href=\"https://colab.research.google.com/github/prahadeeshwaran-k/Python-Learning/blob/main/Math.ipynb\" target=\"_parent\"><img src=\"https://colab.research.google.com/assets/colab-badge.svg\" alt=\"Open In Colab\"/></a>"
      ]
    },
    {
      "cell_type": "code",
      "execution_count": null,
      "metadata": {
        "id": "Jm0jowq3T324",
        "colab": {
          "base_uri": "https://localhost:8080/"
        },
        "outputId": "491ba46f-76de-4667-c93c-30440091901c"
      },
      "outputs": [
        {
          "output_type": "stream",
          "name": "stdout",
          "text": [
            "Enter the number24865977\n",
            "48\n"
          ]
        }
      ],
      "source": [
        "num = str(input(\"Enter the number\"))\n",
        "sum = 0\n",
        "for i in range(0,len(num)):\n",
        "  sum += int(num[i])\n",
        "print(sum)  "
      ]
    },
    {
      "cell_type": "code",
      "source": [
        "num = int(input(\"Enter the number\"))\n",
        "for index in range(num):\n",
        "  if (num%2) == 0:\n",
        "    print(index)\n",
        "  else:\n",
        "    continue"
      ],
      "metadata": {
        "colab": {
          "base_uri": "https://localhost:8080/"
        },
        "id": "HV0c37DVd4_6",
        "outputId": "417f1db7-f083-4430-fe6a-1513851e49be"
      },
      "execution_count": null,
      "outputs": [
        {
          "output_type": "stream",
          "name": "stdout",
          "text": [
            "Enter the number6\n",
            "0\n",
            "1\n",
            "2\n",
            "3\n",
            "4\n",
            "5\n"
          ]
        }
      ]
    },
    {
      "cell_type": "code",
      "source": [
        "num = str(input(\"Enter the number\"))\n",
        "revnum = num[::-1]\n",
        "if num == revnum:\n",
        "  print(\"yes it palindrome\")\n",
        "else :\n",
        "  print(\"No it Not a palindrom\")  "
      ],
      "metadata": {
        "colab": {
          "base_uri": "https://localhost:8080/"
        },
        "id": "CCfJSabmf8Yf",
        "outputId": "599d5870-e097-4260-b745-66b6ad80090e"
      },
      "execution_count": null,
      "outputs": [
        {
          "output_type": "stream",
          "name": "stdout",
          "text": [
            "Enter the number1221\n",
            "yes it palindrome\n"
          ]
        }
      ]
    },
    {
      "cell_type": "code",
      "source": [
        "num = str(input(\"Enter the number\"))\n",
        "revnum = 0\n",
        "while num != 0:\n",
        "  temp = num%10\n",
        "  revnum = revnum*10 + 1\n",
        "  num//10\n",
        "print"
      ],
      "metadata": {
        "id": "ZIgdrm8IlG10"
      },
      "execution_count": null,
      "outputs": []
    }
  ]
}