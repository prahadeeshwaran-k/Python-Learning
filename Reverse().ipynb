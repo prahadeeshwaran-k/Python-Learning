{
  "nbformat": 4,
  "nbformat_minor": 0,
  "metadata": {
    "colab": {
      "name": "Reverse().ipynb",
      "provenance": [],
      "authorship_tag": "ABX9TyN3a8aG1tSt8gCVPg6Z9CCT",
      "include_colab_link": true
    },
    "kernelspec": {
      "name": "python3",
      "display_name": "Python 3"
    },
    "language_info": {
      "name": "python"
    }
  },
  "cells": [
    {
      "cell_type": "markdown",
      "metadata": {
        "id": "view-in-github",
        "colab_type": "text"
      },
      "source": [
        "<a href=\"https://colab.research.google.com/github/prahadeeshwaran-k/Python-Learning/blob/main/Reverse().ipynb\" target=\"_parent\"><img src=\"https://colab.research.google.com/assets/colab-badge.svg\" alt=\"Open In Colab\"/></a>"
      ]
    },
    {
      "cell_type": "markdown",
      "source": [
        "# To print a list in revers"
      ],
      "metadata": {
        "id": "GvhikE_blAse"
      }
    },
    {
      "cell_type": "code",
      "execution_count": 1,
      "metadata": {
        "colab": {
          "base_uri": "https://localhost:8080/"
        },
        "id": "fo93PUTnkk_v",
        "outputId": "873fe98f-0574-4a41-c0a5-c45ecd502442"
      },
      "outputs": [
        {
          "output_type": "stream",
          "name": "stdout",
          "text": [
            "['item5', 'item4', 'item3', 'item2', 'item1']\n"
          ]
        }
      ],
      "source": [
        "mylist = [\"item1\",\"item2\",\"item3\",\"item4\",\"item5\"]\n",
        "mylist.reverse()\n",
        "print(mylist)"
      ]
    },
    {
      "cell_type": "markdown",
      "source": [
        "# Python code to demonstrate working of reversed()"
      ],
      "metadata": {
        "id": "c5Q5iSJnwgXA"
      }
    },
    {
      "cell_type": "code",
      "source": [
        "tuple1 = (\"q\",\"w\",\"e\",\"r\")\n",
        "newtuple = list(reversed(tuple1))\n",
        "print(list(tuple1))\n",
        "print(newtuple)"
      ],
      "metadata": {
        "colab": {
          "base_uri": "https://localhost:8080/"
        },
        "id": "NcLIKww-wgEk",
        "outputId": "17f41e68-800d-4f32-8759-f9a15bd11113"
      },
      "execution_count": 24,
      "outputs": [
        {
          "output_type": "stream",
          "name": "stdout",
          "text": [
            "['q', 'w', 'e', 'r']\n",
            "['r', 'e', 'w', 'q']\n"
          ]
        }
      ]
    },
    {
      "cell_type": "markdown",
      "source": [
        "# reversed() work also in range\n"
      ],
      "metadata": {
        "id": "jP-y3S-L0Ozt"
      }
    },
    {
      "cell_type": "code",
      "source": [
        "x = range(1,10+1)\n",
        "print(list(reversed(x)))"
      ],
      "metadata": {
        "colab": {
          "base_uri": "https://localhost:8080/"
        },
        "id": "3zY8RmCZ0czK",
        "outputId": "4c4d06b4-7a80-4ea0-8c7f-8064274d9d7d"
      },
      "execution_count": 27,
      "outputs": [
        {
          "output_type": "stream",
          "name": "stdout",
          "text": [
            "[10, 9, 8, 7, 6, 5, 4, 3, 2, 1]\n"
          ]
        }
      ]
    }
  ]
}