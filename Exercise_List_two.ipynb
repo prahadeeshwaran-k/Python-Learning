{
  "nbformat": 4,
  "nbformat_minor": 0,
  "metadata": {
    "colab": {
      "name": "Exercise_List_two.ipynb",
      "provenance": [],
      "collapsed_sections": [],
      "authorship_tag": "ABX9TyMg2BBVfJ71XmeoettdbMBc",
      "include_colab_link": true
    },
    "kernelspec": {
      "name": "python3",
      "display_name": "Python 3"
    },
    "language_info": {
      "name": "python"
    }
  },
  "cells": [
    {
      "cell_type": "markdown",
      "metadata": {
        "id": "view-in-github",
        "colab_type": "text"
      },
      "source": [
        "<a href=\"https://colab.research.google.com/github/prahadeeshwaran-k/Python-Learning/blob/main/Exercise_List_two.ipynb\" target=\"_parent\"><img src=\"https://colab.research.google.com/assets/colab-badge.svg\" alt=\"Open In Colab\"/></a>"
      ]
    },
    {
      "cell_type": "markdown",
      "source": [
        "**Update Using a list index vaule**"
      ],
      "metadata": {
        "id": "wJn2o_lm6MQZ"
      }
    },
    {
      "cell_type": "code",
      "execution_count": null,
      "metadata": {
        "colab": {
          "base_uri": "https://localhost:8080/"
        },
        "id": "dybUQgkM5P_s",
        "outputId": "0bd4bd1f-e391-4bb3-a9f8-054a3733893d"
      },
      "outputs": [
        {
          "output_type": "stream",
          "name": "stdout",
          "text": [
            "['run', 'new_one', 'earth']\n"
          ]
        }
      ],
      "source": [
        "my_list2 = [\"run\",\"hello\",\"earth\"]\n",
        "my_list2[1] = \"new_one\"\n",
        "print(my_list2)"
      ]
    },
    {
      "cell_type": "markdown",
      "source": [
        "**Replace a list with another variable**"
      ],
      "metadata": {
        "id": "FkTChjSr6had"
      }
    },
    {
      "cell_type": "code",
      "source": [
        "primary_list=[\"run\",\"hello\",\"earth\",\"car\",\"place\"]\n",
        "primary_list[1:3] = [\"new_1\",\"new_2\"]\n",
        "print(primary_list)"
      ],
      "metadata": {
        "id": "1v4zJC4g6JSs",
        "colab": {
          "base_uri": "https://localhost:8080/"
        },
        "outputId": "beac9de0-b0b1-48f2-8e37-b18d1988911f"
      },
      "execution_count": null,
      "outputs": [
        {
          "output_type": "stream",
          "name": "stdout",
          "text": [
            "['run', 'new_1', 'new_2', 'car', 'place']\n"
          ]
        }
      ]
    },
    {
      "cell_type": "markdown",
      "source": [
        "**Repace one vaule list**"
      ],
      "metadata": {
        "id": "MJ3TOL3Y9TXJ"
      }
    },
    {
      "cell_type": "code",
      "source": [
        "list1=[\"run\",\"hello\",\"earth\",\"temp1\",\"road\"]\n",
        "list1[1:3]=\"new1\"\n",
        "print(list1)"
      ],
      "metadata": {
        "colab": {
          "base_uri": "https://localhost:8080/"
        },
        "id": "_V--52Pj9Xtw",
        "outputId": "b9a93ac0-a186-4881-de8b-adbcf78a3adb"
      },
      "execution_count": null,
      "outputs": [
        {
          "output_type": "stream",
          "name": "stdout",
          "text": [
            "['run', 'n', 'e', 'w', '1', 'temp1', 'road']\n"
          ]
        }
      ]
    },
    {
      "cell_type": "markdown",
      "source": [
        "**Add vaule using .insert() new list iterm**"
      ],
      "metadata": {
        "id": "nI2AT57Q90Z-"
      }
    },
    {
      "cell_type": "code",
      "source": [
        "list1=[\"run\",\"hello\",\"earth\",\"temp1\",\"road\"]\n",
        "list1.insert(3,\"meow\")\n",
        "print(list1)"
      ],
      "metadata": {
        "colab": {
          "base_uri": "https://localhost:8080/"
        },
        "id": "44JTgbtI99M_",
        "outputId": "266b340b-8039-45b8-ff23-5c2cbf311649"
      },
      "execution_count": 1,
      "outputs": [
        {
          "output_type": "stream",
          "name": "stdout",
          "text": [
            "['run', 'hello', 'earth', 'meow', 'temp1', 'road']\n"
          ]
        }
      ]
    },
    {
      "cell_type": "markdown",
      "source": [
        "**Extend a list**"
      ],
      "metadata": {
        "id": "L9rs1uZECikL"
      }
    },
    {
      "cell_type": "code",
      "source": [
        "list1=[\"run\",\"hello\",\"earth\"]\n",
        "list2=[\"run2\",\"hello2\",\"earth2\"]\n",
        "list1.extend(list2)\n",
        "print(list1)"
      ],
      "metadata": {
        "colab": {
          "base_uri": "https://localhost:8080/"
        },
        "id": "lCnUtI88B5gM",
        "outputId": "e47506fc-5fb2-4284-c7c7-cc0f7d8aef03"
      },
      "execution_count": 3,
      "outputs": [
        {
          "output_type": "stream",
          "name": "stdout",
          "text": [
            "['run', 'hello', 'earth', 'run2', 'hello2', 'earth2']\n"
          ]
        }
      ]
    },
    {
      "cell_type": "markdown",
      "source": [
        "**Add list in tuple in list**"
      ],
      "metadata": {
        "id": "r6dChErXC9so"
      }
    },
    {
      "cell_type": "code",
      "source": [
        "list1=[\"run\",\"hello\",\"earth\"]\n",
        "tuple1 = (\"temp1\",\"road\")\n",
        "list1.extend(tuple1)\n",
        "print(list1)\n"
      ],
      "metadata": {
        "colab": {
          "base_uri": "https://localhost:8080/"
        },
        "id": "uSf7xMkTDDCQ",
        "outputId": "3f804b2b-c44c-4ca9-dd80-6be1174d9b99"
      },
      "execution_count": null,
      "outputs": [
        {
          "output_type": "stream",
          "name": "stdout",
          "text": [
            "['run', 'hello', 'earth', 'temp1', 'road']\n"
          ]
        }
      ]
    },
    {
      "cell_type": "markdown",
      "source": [
        "**Remove value in list**"
      ],
      "metadata": {
        "id": "5e46TJdyFkWg"
      }
    },
    {
      "cell_type": "code",
      "source": [
        "thislist = [\"run\",\"hello\",\"earth\"]\n",
        "thislist.remove(\"hello\")\n",
        "print(thislist)"
      ],
      "metadata": {
        "id": "cGjbmjvgE1D9",
        "colab": {
          "base_uri": "https://localhost:8080/"
        },
        "outputId": "a1627810-4ab1-48df-e22b-b0b9bd008a3e"
      },
      "execution_count": 9,
      "outputs": [
        {
          "output_type": "stream",
          "name": "stdout",
          "text": [
            "['run', 'earth']\n"
          ]
        }
      ]
    },
    {
      "cell_type": "markdown",
      "source": [
        "**Access tuple**"
      ],
      "metadata": {
        "id": "HeEmpai8GVNR"
      }
    },
    {
      "cell_type": "code",
      "source": [
        "tuple1 = (\"run\",\"hello\",\"earth\")\n",
        "print(tuple1[1])"
      ],
      "metadata": {
        "id": "WT46l_MYF1FT",
        "colab": {
          "base_uri": "https://localhost:8080/"
        },
        "outputId": "4dfa3114-9d86-46e6-929d-e7a9c54502f3"
      },
      "execution_count": 10,
      "outputs": [
        {
          "output_type": "stream",
          "name": "stdout",
          "text": [
            "hello\n"
          ]
        }
      ]
    },
    {
      "cell_type": "markdown",
      "source": [
        "**Pop using for remove list items**"
      ],
      "metadata": {
        "id": "nu5YVRm0GulU"
      }
    },
    {
      "cell_type": "code",
      "source": [
        "list1= [\"run\",\"hello\",\"earth\"]\n",
        "list1.pop(0)\n",
        "print(list1)"
      ],
      "metadata": {
        "id": "9vAzTjiDGt08"
      },
      "execution_count": null,
      "outputs": []
    },
    {
      "cell_type": "markdown",
      "source": [
        "**pop using remove last vaule**"
      ],
      "metadata": {
        "id": "HHgNO5lVL36D"
      }
    },
    {
      "cell_type": "code",
      "source": [
        "list1= [\"run\",\"hello\",\"earth\"]\n",
        "list1.pop()\n",
        "print(list1)"
      ],
      "metadata": {
        "id": "ms2O6dDdMHtV"
      },
      "execution_count": null,
      "outputs": []
    },
    {
      "cell_type": "markdown",
      "source": [
        "**Delete a enter list**"
      ],
      "metadata": {
        "id": "uO_QuNZwQryA"
      }
    },
    {
      "cell_type": "code",
      "source": [
        "list1= [\"run\",\"hello\",\"earth\"]\n",
        "del list1\n"
      ],
      "metadata": {
        "id": "xQ2QW_dOQlQ8"
      },
      "execution_count": null,
      "outputs": []
    },
    {
      "cell_type": "markdown",
      "source": [
        "**Clear the list content**"
      ],
      "metadata": {
        "id": "7gKOUHMpRzO2"
      }
    },
    {
      "cell_type": "code",
      "source": [
        "list1= [\"run\",\"hello\",\"earth\"]\n",
        "list1.clear()\n",
        "print(list1)\n"
      ],
      "metadata": {
        "colab": {
          "base_uri": "https://localhost:8080/"
        },
        "id": "JybvlMH3R0Gu",
        "outputId": "5356e852-14b4-428a-8b42-714c35d27e5d"
      },
      "execution_count": null,
      "outputs": [
        {
          "output_type": "stream",
          "name": "stdout",
          "text": [
            "[]\n"
          ]
        }
      ]
    }
  ]
}