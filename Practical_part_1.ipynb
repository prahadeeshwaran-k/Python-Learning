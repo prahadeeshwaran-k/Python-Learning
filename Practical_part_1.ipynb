{
  "nbformat": 4,
  "nbformat_minor": 0,
  "metadata": {
    "colab": {
      "name": "Practical part 1.ipynb",
      "provenance": [],
      "authorship_tag": "ABX9TyM4Yhnux6tSglyG536H5iI9",
      "include_colab_link": true
    },
    "kernelspec": {
      "name": "python3",
      "display_name": "Python 3"
    },
    "language_info": {
      "name": "python"
    }
  },
  "cells": [
    {
      "cell_type": "markdown",
      "metadata": {
        "id": "view-in-github",
        "colab_type": "text"
      },
      "source": [
        "<a href=\"https://colab.research.google.com/github/prahadeeshwaran-k/Python-Learning/blob/main/Practical_part_1.ipynb\" target=\"_parent\"><img src=\"https://colab.research.google.com/assets/colab-badge.svg\" alt=\"Open In Colab\"/></a>"
      ]
    },
    {
      "cell_type": "markdown",
      "source": [
        "1.Write a program to demonstrate different number data types in python"
      ],
      "metadata": {
        "id": "SFwaSEhz-t_M"
      }
    },
    {
      "cell_type": "code",
      "source": [
        "x = 20    \n",
        "print(x)\n",
        "print(type(x))\n",
        "x = 20.5\n",
        "print(x)\n",
        "print(type(x))\n",
        "x = 1j\n",
        "print(x)\n",
        "print(type(x))"
      ],
      "metadata": {
        "id": "MjpWX25tuxRj"
      },
      "execution_count": null,
      "outputs": []
    },
    {
      "cell_type": "markdown",
      "source": [
        "2.Write a program to perform different arithmetic operations on numbers in python."
      ],
      "metadata": {
        "id": "WPiM2DWUpnKm"
      }
    },
    {
      "cell_type": "code",
      "execution_count": null,
      "metadata": {
        "id": "4i3abnbohfR5"
      },
      "outputs": [],
      "source": [
        "print(\"SIMPLE CALCULATOR\")\n",
        "a = int(input(\"Enter the value of A\"))\n",
        "b = int(input(\"Enter the value of B\"))\n",
        "Add=a+b\n",
        "Sub=a-b\n",
        "Mul=a*b\n",
        "Div=a/b\n",
        "Mod=a%b\n",
        "print(\"Addition\",a,\"+\",a,\"=\",Add)\n",
        "print(\"Subtraction\",a,\"-\",a,\"=\",Sub)\n",
        "print(\"Multiplication\",a,\"*\",b,\"=\",Mul)\n",
        "print(\"Division(Quotient)\",a,\"/\",b,\"=\",Div)\n",
        "print(\"Modulus(Remainder)\",a,\"%\",b,\"=\",Mod)"
      ]
    },
    {
      "cell_type": "markdown",
      "source": [
        "3.Write a program to create, concatenate and print a string and accessing substring from a given\n",
        "string."
      ],
      "metadata": {
        "id": "GzdOKVFfqd2W"
      }
    },
    {
      "cell_type": "code",
      "source": [
        "s1=input(\"Enter first String : \");\n",
        "s2=input(\"Enter second String : \");\n",
        "print(\"First string is : \",s1);\n",
        "print(\"Second string is : \",s2);\n",
        "print(\"concatenations of two strings :\",s1+s2);\n",
        "print(\"Substring of given string :\",s1[1:4]);"
      ],
      "metadata": {
        "id": "L7gJvHWvqbHj"
      },
      "execution_count": null,
      "outputs": []
    },
    {
      "cell_type": "markdown",
      "source": [
        "4.Write a python script to print the current date in following format “Sun May 29 02:26:23 IST\n",
        "2017”"
      ],
      "metadata": {
        "id": "DTWeTxRKqgvQ"
      }
    },
    {
      "cell_type": "code",
      "source": [
        "import time; \n",
        "ltime=time.localtime();\n",
        "print(time.strftime(\"%a %b %d %H:%M:%S %Z %Y\",ltime));\n"
      ],
      "metadata": {
        "colab": {
          "base_uri": "https://localhost:8080/"
        },
        "id": "OvrfUZTjqh9K",
        "outputId": "e9727548-f5af-4a98-8e71-3840a170fc14"
      },
      "execution_count": null,
      "outputs": [
        {
          "output_type": "stream",
          "name": "stdout",
          "text": [
            "Tue Mar 15 14:28:55 UTC 2022\n"
          ]
        }
      ]
    },
    {
      "cell_type": "markdown",
      "source": [
        "5.Write a python program to create, append and remove lists in python"
      ],
      "metadata": {
        "id": "CQ8mlyLbrBHp"
      }
    },
    {
      "cell_type": "code",
      "source": [
        "mylist = list(map(str,input(\"Enter a string: \").split()))\n",
        "print(mylist)\n",
        "\n",
        "temp_list = input(\"enter str:\")\n",
        "mylist.append(temp_list)\n",
        "print(mylist)\n",
        "\n",
        "n = str(input(\"index\"))\n",
        "mylist.remove(n)\n",
        "print(mylist)"
      ],
      "metadata": {
        "colab": {
          "base_uri": "https://localhost:8080/"
        },
        "id": "8cqFa-CHrCVg",
        "outputId": "8a241671-6dae-4955-8018-355e0c0c354b"
      },
      "execution_count": null,
      "outputs": [
        {
          "name": "stdout",
          "output_type": "stream",
          "text": [
            "Enter a string: gug ijg \n",
            "['gug', 'ijg']\n",
            "enter str:gg\n",
            "['gug', 'ijg', 'gg']\n",
            "indexgg\n"
          ]
        }
      ]
    },
    {
      "cell_type": "markdown",
      "source": [
        "6.Write a program to demonstrate working with tuples in python"
      ],
      "metadata": {
        "id": "7FFyn6a9yQfc"
      }
    },
    {
      "cell_type": "code",
      "source": [
        "parts = tuple(map(str,input(\"enter car compounds: \").split()))\n",
        "print(parts)\n",
        "price = tuple(map(int,input(\"enter car compounds price: \").split()))\n",
        "print(price)\n",
        "print(f\"total num of parts {len(parts)}\")\n",
        "total = sum(price)\n",
        "print(f\"total Cost of parts {sum(price)}\")\n",
        "print(\"Search\")\n",
        "key = str(input(\"Search Key word: \"))\n",
        "if key in parts:\n",
        "    print(\"yes\")\n",
        "else:\n",
        "    print(\"no\")\n"
      ],
      "metadata": {
        "colab": {
          "base_uri": "https://localhost:8080/"
        },
        "id": "1enuz6j4yRAl",
        "outputId": "1b9855e4-860c-49bf-c538-f3e16b960e4d"
      },
      "execution_count": null,
      "outputs": [
        {
          "output_type": "stream",
          "name": "stdout",
          "text": [
            "enter car compounds: jgxdf srdvbh srduiges\n",
            "('jgxdf', 'srdvbh', 'srduiges')\n",
            "enter car compounds price: 56 78 34\n",
            "(56, 78, 34)\n",
            "total num of parts 3\n",
            "total Cost of parts 168\n",
            "Search\n",
            "Search Key word: jgxdf\n",
            "yes\n"
          ]
        }
      ]
    },
    {
      "cell_type": "markdown",
      "source": [
        "7.Write a program to demonstrate working with dictionaries in python"
      ],
      "metadata": {
        "id": "dS-mOCN64GF4"
      }
    },
    {
      "cell_type": "code",
      "source": [
        "import sys\n",
        "key = list(map(str, input(\"Enter multiple values: \").split()))\n",
        "value = list(map(str, input(\"Enter multiple values: \").split()))\n",
        "x = len(key)\n",
        "y = len(value)\n",
        "if x == y:\n",
        "    dict_zip = dict(zip(key,value))\n",
        "    print(dict_zip)\n",
        "else: \n",
        "    print(f\"key{x} != value{y}\")\n",
        "print(\"List Of Operation:\\n\")\n",
        "print(\" 1.Items\\n 2.Get\\n 3.Keys\\n 4.Pop\\n 5.Values\\n 6.Update\\n 7.Pop Item\\n 8.Clear\\n 9.Exit\")\n",
        "print()\n",
        "while True:\n",
        "    ch = int(input(\"Enter your choice: \"))\n",
        "    if ch == 1:\n",
        "        print(f\"Items of the dictionary: \\n{dict_zip.items()}\\n\")\n",
        "    elif ch == 2:\n",
        "        key = input(\"Enter a key to get: \")\n",
        "        print(f\"{dict_zip.get(key)}\\n\")\n",
        "    elif ch == 3:\n",
        "        print(f\"Print key in the dictionary are \\n{dict_zip.keys()}\\n\")\n",
        "    elif ch == 4:\n",
        "        key = input(\"Enter a key to pop\")\n",
        "        dict_zip.pop(key)\n",
        "        print(f\"{dict_zip}\\n\")\n",
        "    elif ch == 5:\n",
        "        print(f\"The value in the dictronary are \\n{dict_zip.values()}\\n\")\n",
        "    elif ch == 6:\n",
        "        key = input(\"Enter a key to update \")\n",
        "        value = str(input(\"Enter a new value \"))\n",
        "        dict_zip.update({key:value})\n",
        "        print(dict_zip)\n",
        "        print()\n",
        "    elif ch == 7:\n",
        "        print(f\"Popping the list item\\n{dict_zip.popitem()}\\n\")\n",
        "    elif ch ==8:\n",
        "        print(f\"Clear the dictonary \\n{dict_zip.clear()}\\n\")\n",
        "    elif ch == 9:\n",
        "        sys.exit(\"Exit\")"
      ],
      "metadata": {
        "id": "Rike4QzL0QDi"
      },
      "execution_count": null,
      "outputs": []
    },
    {
      "cell_type": "markdown",
      "source": [
        "8.Write a python program to find largest of three numbers"
      ],
      "metadata": {
        "id": "KEo9SesO51uk"
      }
    },
    {
      "cell_type": "code",
      "source": [
        "num1 = int(input(\"Enter first number: \"))\n",
        "num2 = int(input(\"Enter second number: \"))\n",
        "num3 = int(input(\"Enter third number: \"))\n",
        "\n",
        "if (num1 >= num2) and (num1 >= num3):\n",
        "   largest = num1\n",
        "elif (num2 >= num1) and (num2 >= num3):\n",
        "   largest = num2\n",
        "else:\n",
        "   largest = num3\n",
        "\n",
        "print(\"The largest number is\", largest)"
      ],
      "metadata": {
        "id": "j8CZ82uW44fn"
      },
      "execution_count": null,
      "outputs": []
    },
    {
      "cell_type": "code",
      "source": [
        "numbers = list(map(int,input(\"enter a numbers:\").split()))\n",
        "print(numbers)\n",
        "print(f\"the maximum number is {max(numbers)}\")"
      ],
      "metadata": {
        "colab": {
          "base_uri": "https://localhost:8080/"
        },
        "id": "lFNlkMbI5FW_",
        "outputId": "f953e048-85f6-4804-f751-05d21d03e667"
      },
      "execution_count": null,
      "outputs": [
        {
          "output_type": "stream",
          "name": "stdout",
          "text": [
            "enter a numbers:87 798 798\n",
            "[87, 798, 798]\n",
            "the maximum number is 798\n"
          ]
        }
      ]
    },
    {
      "cell_type": "markdown",
      "source": [
        "9.Write a python program to convert temperature to and from Celsius to fahrenheit."
      ],
      "metadata": {
        "id": "pocsILg5598Q"
      }
    },
    {
      "cell_type": "code",
      "source": [
        "t=int(input(\"ENTER  Temperature: \")) \n",
        "f=((9*t)/5)+32 \n",
        "print(\"converted  CELSIUS in temperature is: \",f) \n",
        "c=((t-32)/9)*5 \n",
        "print(\"converted TEMPERATURE in temperature is: \",c) \n"
      ],
      "metadata": {
        "colab": {
          "base_uri": "https://localhost:8080/"
        },
        "id": "1UZ2i4cU56DO",
        "outputId": "c35c96a8-0b8c-4969-b375-5ab8f75b9aa9"
      },
      "execution_count": null,
      "outputs": [
        {
          "output_type": "stream",
          "name": "stdout",
          "text": [
            "ENTER  Temperature: 89\n",
            "converted  CELSIUS in temperature is:  192.2\n",
            "converted TEMPERATURE in temperature is:  31.666666666666664\n"
          ]
        }
      ]
    },
    {
      "cell_type": "markdown",
      "source": [
        "10.Write a python program to construct the following pattern using nested for loop:"
      ],
      "metadata": {
        "id": "Xu5AZcpO87nU"
      }
    },
    {
      "cell_type": "code",
      "source": [
        "n = int(input(\"Enter a number of Row and  Column :\"))\n",
        "\n",
        "for i in range(num+1):\n",
        "    for j in range(i):\n",
        "        print(\"*\",end=\" \")\n",
        "    print(end=\"\\n\")\n",
        "\n",
        "for i in range(1,num+1):\n",
        "    for j in range(i,num+1):\n",
        "        print(\"*\",end = \" \")\n",
        "    print(end = \"\\n\")"
      ],
      "metadata": {
        "colab": {
          "base_uri": "https://localhost:8080/"
        },
        "id": "pQZTjlHq88cJ",
        "outputId": "234672ed-f467-4325-f84f-a07b2e942503"
      },
      "execution_count": null,
      "outputs": [
        {
          "output_type": "stream",
          "name": "stdout",
          "text": [
            "Enter a number of Row and  Column :5\n",
            "\n",
            "* \n",
            "* * \n",
            "* * * \n",
            "* * * * \n",
            "* * * * * \n",
            "* * * * * \n",
            "* * * * \n",
            "* * * \n",
            "* * \n",
            "* \n"
          ]
        }
      ]
    },
    {
      "cell_type": "markdown",
      "source": [
        "11.Write a python program to print prim numbers less than 20"
      ],
      "metadata": {
        "id": "OEDGMpy9_bTo"
      }
    },
    {
      "cell_type": "code",
      "source": [
        "for num in range(1,20+1):\n",
        "    if num >1:\n",
        "        for i in range(2,num):\n",
        "            if num%i == 0:\n",
        "                break\n",
        "        else:\n",
        "            print(num)"
      ],
      "metadata": {
        "id": "DU1dF_Xs-Ruf",
        "colab": {
          "base_uri": "https://localhost:8080/"
        },
        "outputId": "43e82d15-c5e2-45ee-d612-105923430b5c"
      },
      "execution_count": 4,
      "outputs": [
        {
          "output_type": "stream",
          "name": "stdout",
          "text": [
            "2\n",
            "3\n",
            "5\n",
            "7\n",
            "11\n",
            "13\n",
            "17\n",
            "19\n"
          ]
        }
      ]
    },
    {
      "cell_type": "markdown",
      "source": [
        "12.Write a python program to find factorial of a number using recursion:"
      ],
      "metadata": {
        "id": "OOfQo1yr_XVW"
      }
    },
    {
      "cell_type": "code",
      "source": [
        "def factorial(n):\n",
        "\tif (n==1 or n==0):\n",
        "\t\treturn 1\n",
        "\telse:\n",
        "\t\treturn (n * factorial(n - 1))\n",
        "num = int(input(\"enter num : \"))\n",
        "print(\"number : \",num)\n",
        "print(\"Factorial : \",factorial(num))\n"
      ],
      "metadata": {
        "colab": {
          "base_uri": "https://localhost:8080/"
        },
        "id": "4KIfxqBK_W9F",
        "outputId": "8a5c6d62-de2f-4964-d20b-6905ecf65517"
      },
      "execution_count": null,
      "outputs": [
        {
          "output_type": "stream",
          "name": "stdout",
          "text": [
            "enter num : 7\n",
            "number :  7\n",
            "Factorial :  5040\n"
          ]
        }
      ]
    },
    {
      "cell_type": "markdown",
      "source": [
        "13.Write a python program to that accepts length of three sides of a triangle as inputs. The\n",
        "program should indicate whether or not the triangle is a rightangled triangle (use \n",
        "Pythagoreantheorem)"
      ],
      "metadata": {
        "id": "w_BTDgbvB6DH"
      }
    },
    {
      "cell_type": "code",
      "source": [
        "print(\"Input three integers(sides of a triangle)\")\n",
        "num = list(map(int,input().split()))\n",
        "x,y,z = sorted(num)\n",
        "if x**2+y**2==z**2:\n",
        "    print('Yes')\n",
        "else:\n",
        "    print('No')"
      ],
      "metadata": {
        "id": "vZeMi_hUBl7p"
      },
      "execution_count": null,
      "outputs": []
    },
    {
      "cell_type": "markdown",
      "source": [
        "14.Write a script named copyfile.py. This script should prompt the user for the names of two \n",
        "textfiles. The contents of the first the second file."
      ],
      "metadata": {
        "id": "KPDKFrrNCAj9"
      }
    },
    {
      "cell_type": "code",
      "source": [
        "with open(\"input.txt\") as input:\n",
        "with open(\"output.txt\",\"w\") as output:\n",
        "for line in input: output.write(line)\n",
        "print(\"JOB DONE!!\")"
      ],
      "metadata": {
        "id": "epsRO6ixCB3a"
      },
      "execution_count": null,
      "outputs": []
    },
    {
      "cell_type": "markdown",
      "source": [
        "output: job done"
      ],
      "metadata": {
        "id": "9j5mqoYZC4_D"
      }
    }
  ]
}