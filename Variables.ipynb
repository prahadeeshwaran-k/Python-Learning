{
  "nbformat": 4,
  "nbformat_minor": 0,
  "metadata": {
    "colab": {
      "name": "Variables.ipynb",
      "provenance": [],
      "authorship_tag": "ABX9TyPwRD+WMzkoS/Cs8bhL7BMK",
      "include_colab_link": true
    },
    "kernelspec": {
      "name": "python3",
      "display_name": "Python 3"
    },
    "language_info": {
      "name": "python"
    }
  },
  "cells": [
    {
      "cell_type": "markdown",
      "metadata": {
        "id": "view-in-github",
        "colab_type": "text"
      },
      "source": [
        "<a href=\"https://colab.research.google.com/github/prahadeeshwaran-k/Python-Learning/blob/main/Variables.ipynb\" target=\"_parent\"><img src=\"https://colab.research.google.com/assets/colab-badge.svg\" alt=\"Open In Colab\"/></a>"
      ]
    },
    {
      "cell_type": "markdown",
      "source": [
        "# Variables"
      ],
      "metadata": {
        "id": "FLNGaM-tLFkM"
      }
    },
    {
      "cell_type": "code",
      "execution_count": 1,
      "metadata": {
        "colab": {
          "base_uri": "https://localhost:8080/"
        },
        "id": "L1QiuKCGLDnA",
        "outputId": "dd8d754c-1ad7-4568-e383-947866b1b901"
      },
      "outputs": [
        {
          "output_type": "stream",
          "name": "stdout",
          "text": [
            "10\n"
          ]
        }
      ],
      "source": [
        "#A box with a name of x is denoted ia variable \n",
        "#The 10 value store in box \n",
        "x = 10 \n",
        "y = \"Any thing\"\n",
        "print(x)\n",
        "print(y)"
      ]
    },
    {
      "cell_type": "markdown",
      "source": [
        "#Over Ride a variable x"
      ],
      "metadata": {
        "id": "VqH7bXLCMJh3"
      }
    },
    {
      "cell_type": "code",
      "source": [
        "#here the data is int\n",
        "temp = 1234\n",
        "print(temp)\n",
        "#after override it becomes str\n",
        "temp = \"hello\"\n",
        "print(temp)"
      ],
      "metadata": {
        "colab": {
          "base_uri": "https://localhost:8080/"
        },
        "id": "vF0N9QdkMRab",
        "outputId": "f252f4f1-6348-4e6d-be43-467eadeea4b9"
      },
      "execution_count": 3,
      "outputs": [
        {
          "output_type": "stream",
          "name": "stdout",
          "text": [
            "1234\n",
            "hello\n"
          ]
        }
      ]
    },
    {
      "cell_type": "markdown",
      "source": [
        "# Variable are Case-Sensitive"
      ],
      "metadata": {
        "id": "2voG9BMpNDA6"
      }
    },
    {
      "cell_type": "code",
      "source": [
        "#The variable name letter start with Lower case\n",
        "temp = 1234\n",
        "#The variable name letter start with Upper case \n",
        "Temp = \"hello\"\n",
        "print(Temp)\n"
      ],
      "metadata": {
        "colab": {
          "base_uri": "https://localhost:8080/"
        },
        "id": "GWNNrPLDM_F2",
        "outputId": "c3852dd5-28e2-43a3-d95d-5da142b48e4a"
      },
      "execution_count": 4,
      "outputs": [
        {
          "output_type": "stream",
          "name": "stdout",
          "text": [
            "hello\n"
          ]
        }
      ]
    }
  ]
}