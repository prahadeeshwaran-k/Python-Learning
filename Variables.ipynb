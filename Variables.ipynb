{
  "nbformat": 4,
  "nbformat_minor": 0,
  "metadata": {
    "colab": {
      "name": "Variables.ipynb",
      "provenance": [],
      "authorship_tag": "ABX9TyNRKPgT3RgJTpf2wiFZsQGK",
      "include_colab_link": true
    },
    "kernelspec": {
      "name": "python3",
      "display_name": "Python 3"
    },
    "language_info": {
      "name": "python"
    }
  },
  "cells": [
    {
      "cell_type": "markdown",
      "metadata": {
        "id": "view-in-github",
        "colab_type": "text"
      },
      "source": [
        "<a href=\"https://colab.research.google.com/github/prahadeeshwaran-k/Python-Learning/blob/main/Variables.ipynb\" target=\"_parent\"><img src=\"https://colab.research.google.com/assets/colab-badge.svg\" alt=\"Open In Colab\"/></a>"
      ]
    },
    {
      "cell_type": "markdown",
      "source": [
        "# Variables"
      ],
      "metadata": {
        "id": "FLNGaM-tLFkM"
      }
    },
    {
      "cell_type": "code",
      "execution_count": 1,
      "metadata": {
        "colab": {
          "base_uri": "https://localhost:8080/"
        },
        "id": "L1QiuKCGLDnA",
        "outputId": "dd8d754c-1ad7-4568-e383-947866b1b901"
      },
      "outputs": [
        {
          "output_type": "stream",
          "name": "stdout",
          "text": [
            "10\n"
          ]
        }
      ],
      "source": [
        "#A box with a name of x is denoted ia variable \n",
        "#The 10 value store in box \n",
        "x = 10 \n",
        "#x is variable\n",
        "#10 is value or data\n",
        "y = \"Any thing\"\n",
        "print(x)\n",
        "print(y)"
      ]
    },
    {
      "cell_type": "markdown",
      "source": [
        "#Over Ride a variable x"
      ],
      "metadata": {
        "id": "VqH7bXLCMJh3"
      }
    },
    {
      "cell_type": "code",
      "source": [
        "#here the data is int\n",
        "temp = 1234\n",
        "print(temp)\n",
        "#after override it becomes str\n",
        "temp = \"hello\"\n",
        "print(temp)"
      ],
      "metadata": {
        "colab": {
          "base_uri": "https://localhost:8080/"
        },
        "id": "vF0N9QdkMRab",
        "outputId": "f252f4f1-6348-4e6d-be43-467eadeea4b9"
      },
      "execution_count": 3,
      "outputs": [
        {
          "output_type": "stream",
          "name": "stdout",
          "text": [
            "1234\n",
            "hello\n"
          ]
        }
      ]
    },
    {
      "cell_type": "markdown",
      "source": [
        "# Variable are Case-Sensitive"
      ],
      "metadata": {
        "id": "2voG9BMpNDA6"
      }
    },
    {
      "cell_type": "code",
      "source": [
        "#The variable name letter start with Lower case\n",
        "temp = 1234\n",
        "#The variable name letter start with Upper case \n",
        "Temp = \"hello\"\n",
        "print(Temp)\n"
      ],
      "metadata": {
        "colab": {
          "base_uri": "https://localhost:8080/"
        },
        "id": "GWNNrPLDM_F2",
        "outputId": "c3852dd5-28e2-43a3-d95d-5da142b48e4a"
      },
      "execution_count": 4,
      "outputs": [
        {
          "output_type": "stream",
          "name": "stdout",
          "text": [
            "hello\n"
          ]
        }
      ]
    },
    {
      "cell_type": "markdown",
      "source": [
        "# Casting the variable in specific data type"
      ],
      "metadata": {
        "id": "ppemkHkJOg7Z"
      }
    },
    {
      "cell_type": "code",
      "source": [
        "x = int(67)\n",
        "y = float(586.005)\n",
        "z = str(743)\n",
        "print(type(x), x)\n",
        "print(type(y), y)\n",
        "print(type(z), z)"
      ],
      "metadata": {
        "colab": {
          "base_uri": "https://localhost:8080/"
        },
        "id": "0MO-Qa09Ogih",
        "outputId": "225492bc-b4be-4e82-a045-21608ac6ec96"
      },
      "execution_count": 10,
      "outputs": [
        {
          "output_type": "stream",
          "name": "stdout",
          "text": [
            "<class 'int'> 67\n",
            "<class 'float'> 586.005\n",
            "<class 'str'> 743\n"
          ]
        }
      ]
    },
    {
      "cell_type": "markdown",
      "source": [
        "#Variable names is acceptable "
      ],
      "metadata": {
        "id": "I9LKT5OfP3yn"
      }
    },
    {
      "cell_type": "code",
      "source": [
        "#Full lowercase\n",
        "mymark = 678\n",
        "\n",
        "#First letter Caps\n",
        "Mymark = 548 \n",
        "\n",
        "#letter with underscores \n",
        "My_Mark = 765\n",
        "\n",
        "#starting with underscores \n",
        "_my_mark = 633\n",
        "\n",
        "#Full Uppercase \n",
        "MYMARKS = 754\n",
        "\n",
        "#Letter with numbers\n",
        "Mymarks2021 = 789"
      ],
      "metadata": {
        "id": "_nH1uFk7QAHv"
      },
      "execution_count": 12,
      "outputs": []
    },
    {
      "cell_type": "markdown",
      "source": [
        "#Variable names is not - acceptable \n",
        "\n"
      ],
      "metadata": {
        "id": "bCiDvzRPSN96"
      }
    },
    {
      "cell_type": "code",
      "source": [
        "#Start with number\n",
        "007mymark = 124\n",
        "\n",
        "#Start with Special Characters \n",
        "%mymark = 436\n",
        "\n",
        "#letter with hi fen \n",
        "my-mark = 875\n",
        "\n",
        "#letter with space\n",
        "my mark =974"
      ],
      "metadata": {
        "colab": {
          "base_uri": "https://localhost:8080/",
          "height": 130
        },
        "id": "_NSt9LeLSgFQ",
        "outputId": "e675cd62-b950-4ef6-d2a5-757c42d3ee9a"
      },
      "execution_count": 13,
      "outputs": [
        {
          "output_type": "error",
          "ename": "SyntaxError",
          "evalue": "ignored",
          "traceback": [
            "\u001b[0;36m  File \u001b[0;32m\"<ipython-input-13-2b7d58b289c1>\"\u001b[0;36m, line \u001b[0;32m2\u001b[0m\n\u001b[0;31m    007mymark = 124\u001b[0m\n\u001b[0m      ^\u001b[0m\n\u001b[0;31mSyntaxError\u001b[0m\u001b[0;31m:\u001b[0m invalid token\n"
          ]
        }
      ]
    },
    {
      "cell_type": "markdown",
      "source": [
        "#Many Values to Multiple Variables in single Line\n"
      ],
      "metadata": {
        "id": "5zeBTa1vUSjz"
      }
    },
    {
      "cell_type": "code",
      "source": [
        "x,y,z = 12,13,14\n",
        "print(x)\n",
        "print(y)\n",
        "print(z)"
      ],
      "metadata": {
        "id": "clfpMSDyUi0t"
      },
      "execution_count": null,
      "outputs": []
    },
    {
      "cell_type": "markdown",
      "source": [
        "# Mulitiple Variables for a single value\n"
      ],
      "metadata": {
        "id": "OkQEj3jgUh2o"
      }
    },
    {
      "cell_type": "code",
      "source": [
        "i = j = k = \"I can do this all day\"\n",
        "print(i) \n",
        "print(j) \n",
        "print(k) "
      ],
      "metadata": {
        "colab": {
          "base_uri": "https://localhost:8080/"
        },
        "id": "XJ7uhT1WVGXj",
        "outputId": "8db7de7d-6d91-4e2d-9a33-2bcc07814da5"
      },
      "execution_count": 14,
      "outputs": [
        {
          "output_type": "stream",
          "name": "stdout",
          "text": [
            "I can do this all day\n",
            "I can do this all day\n",
            "I can do this all day\n"
          ]
        }
      ]
    },
    {
      "cell_type": "markdown",
      "source": [
        "# Unpack a list to variables"
      ],
      "metadata": {
        "id": "1SMpXAa7VhPf"
      }
    },
    {
      "cell_type": "code",
      "source": [
        "x,y,z,l,m = [\"Batman\",\"Superman\",\"Wonder women\",\"Flash\",\"aquaman\"]\n",
        "print(x)\n",
        "print(y)\n",
        "print(z)\n",
        "print(l)\n",
        "print(m)"
      ],
      "metadata": {
        "colab": {
          "base_uri": "https://localhost:8080/"
        },
        "id": "_0nCek3fVf6T",
        "outputId": "0a4eaa52-2853-4b6b-e0d2-068cf1073814"
      },
      "execution_count": 15,
      "outputs": [
        {
          "output_type": "stream",
          "name": "stdout",
          "text": [
            "Batman\n",
            "Superman\n",
            "Wonder women\n",
            "Flash\n",
            "aquaman\n"
          ]
        }
      ]
    }
  ]
}