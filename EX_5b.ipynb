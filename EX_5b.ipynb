{
  "nbformat": 4,
  "nbformat_minor": 0,
  "metadata": {
    "colab": {
      "name": "EX 5b.ipynb",
      "provenance": [],
      "collapsed_sections": [],
      "authorship_tag": "ABX9TyPOCgZtOLVivlkYcvCkQSGJ",
      "include_colab_link": true
    },
    "kernelspec": {
      "name": "python3",
      "display_name": "Python 3"
    },
    "language_info": {
      "name": "python"
    }
  },
  "cells": [
    {
      "cell_type": "markdown",
      "metadata": {
        "id": "view-in-github",
        "colab_type": "text"
      },
      "source": [
        "<a href=\"https://colab.research.google.com/github/prahadeeshwaran-k/Python-Learning/blob/main/EX_5b.ipynb\" target=\"_parent\"><img src=\"https://colab.research.google.com/assets/colab-badge.svg\" alt=\"Open In Colab\"/></a>"
      ]
    },
    {
      "cell_type": "markdown",
      "source": [
        "# COMPONETS OF CAR USING TUPLES\n",
        " Basic Tuples Operations\n",
        " "
      ],
      "metadata": {
        "id": "87-E0XR3mqKU"
      }
    },
    {
      "cell_type": "code",
      "execution_count": null,
      "metadata": {
        "colab": {
          "base_uri": "https://localhost:8080/"
        },
        "id": "5rSTDRIrk_D4",
        "outputId": "3dec7df6-edbf-47cc-a112-75d349816bdc"
      },
      "outputs": [
        {
          "output_type": "stream",
          "name": "stdout",
          "text": [
            "Items in library: \n",
            "5\n",
            "1\n",
            "7\n",
            "Transmission\n",
            "Alternator\n"
          ]
        }
      ],
      "source": [
        "print(\"Items in library: \")\n",
        "x = (\"Engine\",\"Transmission\",\"Battery\",\"Alternator\",\"Radiator\",\"Front Steering and Suspension\",\"Brakes\")\n",
        "#The index() method returns the index of the specified element in the tuple.\n",
        "print(x.index(\"Front Steering and Suspension\"))\n",
        "#The count() method returns the number of elements with the specified value.\n",
        "print(x.count(\"Radiator\"))\n",
        "#Gives the total length of the tuple.\n",
        "print(len(x))\n",
        "#Returns item from the tuple with max value.\n",
        "print(max(x))\n",
        "#Returns item from the tuple with min value.\n",
        "print(min(x))\n",
        "#The Python del keyword is used to delete objects. Its syntax is:\n",
        "del x\n",
        "#print(x) #after del a tuple is shoew error\n"
      ]
    },
    {
      "cell_type": "code",
      "source": [
        "x = (\"Engine\",\"Transmission\",\"Battery\",\"Alternator\",\"Radiator\",\"Front Steering and Suspension\",\"Brakes\")\n",
        "#use the square brackets for slicing along with the index or indices to obtain value available at that index.\n",
        "print(x[4])\n",
        "print(x[:4])\n",
        "print(x[2:4])\n",
        "print(x[-1])\n",
        "print(x[::-1])\n",
        "print()\n",
        "\n",
        "#membership\n",
        "if \"Brakes\" in x :\n",
        "    print(\"yes Breaks in x\")\n",
        "if \"wheel\" not in x:\n",
        "    print(\"yes wheel not in x\")\n",
        "#reptation\n",
        "print(x*2)\n"
      ],
      "metadata": {
        "colab": {
          "base_uri": "https://localhost:8080/",
          "height": 376
        },
        "id": "BDeYqXv1tGrG",
        "outputId": "df2cc187-74b9-4390-b197-68c4b62c49c3"
      },
      "execution_count": null,
      "outputs": [
        {
          "output_type": "stream",
          "name": "stdout",
          "text": [
            "Radiator\n",
            "('Engine', 'Transmission', 'Battery', 'Alternator')\n",
            "('Battery', 'Alternator')\n",
            "Brakes\n",
            "('Brakes', 'Front Steering and Suspension', 'Radiator', 'Alternator', 'Battery', 'Transmission', 'Engine')\n",
            "\n",
            "yes Breaks in x\n",
            "yes wheel not in x\n",
            "('Engine', 'Transmission', 'Battery', 'Alternator', 'Radiator', 'Front Steering and Suspension', 'Brakes', 'Engine', 'Transmission', 'Battery', 'Alternator', 'Radiator', 'Front Steering and Suspension', 'Brakes')\n"
          ]
        },
        {
          "output_type": "error",
          "ename": "NameError",
          "evalue": "ignored",
          "traceback": [
            "\u001b[0;31m---------------------------------------------------------------------------\u001b[0m",
            "\u001b[0;31mNameError\u001b[0m                                 Traceback (most recent call last)",
            "\u001b[0;32m<ipython-input-27-4a1a51bc71bb>\u001b[0m in \u001b[0;36m<module>\u001b[0;34m()\u001b[0m\n\u001b[1;32m     16\u001b[0m \u001b[0mprint\u001b[0m\u001b[0;34m(\u001b[0m\u001b[0mx\u001b[0m\u001b[0;34m*\u001b[0m\u001b[0;36m2\u001b[0m\u001b[0;34m)\u001b[0m\u001b[0;34m\u001b[0m\u001b[0;34m\u001b[0m\u001b[0m\n\u001b[1;32m     17\u001b[0m  \u001b[0;31m#sort\u001b[0m\u001b[0;34m\u001b[0m\u001b[0;34m\u001b[0m\u001b[0;34m\u001b[0m\u001b[0m\n\u001b[0;32m---> 18\u001b[0;31m \u001b[0mprint\u001b[0m\u001b[0;34m(\u001b[0m\u001b[0msort\u001b[0m\u001b[0;34m(\u001b[0m\u001b[0mx\u001b[0m\u001b[0;34m)\u001b[0m\u001b[0;34m)\u001b[0m\u001b[0;34m\u001b[0m\u001b[0;34m\u001b[0m\u001b[0m\n\u001b[0m",
            "\u001b[0;31mNameError\u001b[0m: name 'sort' is not defined"
          ]
        }
      ]
    },
    {
      "cell_type": "code",
      "source": [
        "print(\"items in a library:\")\n",
        "x = tuple(map(str, input(\"Enter multiple values: \").split()))\n",
        "print(x)\n",
        "print(\" 1.Length\\n 2.Concatenation\\n 3.Reptition\\n 4.Membership\\n 5.del\\n 6.Indexing\\n 7.slicing\\n 8.Exit\\n\")\n",
        "while True:\n",
        "    ch = int(input(\"Enter you Choice: \"))\n",
        "    if ch == 1:\n",
        "        print(len(x))\n",
        "    if ch == 2:\n",
        "        y = tuple(map(str, input(\"Concatenation values: \").split()))\n",
        "        print(x + y)\n",
        "    if ch == 3:\n",
        "        y= int(input(\"Enter How much Reptition you want: \"))\n",
        "        print(x * y)\n",
        "    if ch == 4:\n",
        "        y = int(input(\" Find\\n 1.in\\n 2.not in\\n:\"))\n",
        "        z= str(input(\"enter finding number: \"))\n",
        "        if y == 1:\n",
        "            if z in x:\n",
        "                print(f\"yes {z} is in {x} \")\n",
        "        if y == 2:\n",
        "            if z not in x:\n",
        "                print(f\"yes {z} is in not {x} \") \n",
        "    if ch == 5:\n",
        "        del x\n",
        "    if ch == 6:\n",
        "        y = str(input(\"Enter string to find the index: \"))\n",
        "        print(x.index(y))\n",
        "    if ch == 7:\n",
        "        y = int(input(\"Enter Indux you want: \"))\n",
        "        print(x[y])\n",
        "    if ch == 8:\n",
        "        print(\"Exit bye bye\")\n",
        "        quit()\n",
        "    \n",
        "    \n",
        "    \n",
        "        \n",
        "\n",
        "\n"
      ],
      "metadata": {
        "id": "AQNFaERAytZN"
      },
      "execution_count": null,
      "outputs": []
    },
    {
      "cell_type": "code",
      "source": [
        "list1 =[\"Engine\",\"Transmission\",\"Battery\",\"Alternator\"]\n",
        "tuple1 = tuple(list1)\n",
        "if \"Battery\" in list1:\n",
        "    print(\"yes\")"
      ],
      "metadata": {
        "colab": {
          "base_uri": "https://localhost:8080/"
        },
        "id": "8uSSI9zJ-p0T",
        "outputId": "74af03b4-b2fe-483c-8a8e-374817496639"
      },
      "execution_count": null,
      "outputs": [
        {
          "output_type": "stream",
          "name": "stdout",
          "text": [
            "yes\n"
          ]
        }
      ]
    }
  ]
}