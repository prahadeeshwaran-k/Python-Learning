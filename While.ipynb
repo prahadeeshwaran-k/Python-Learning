{
  "nbformat": 4,
  "nbformat_minor": 0,
  "metadata": {
    "colab": {
      "name": "While.ipynb",
      "provenance": [],
      "authorship_tag": "ABX9TyNmCWt4FFSikiBoX3es1I/C",
      "include_colab_link": true
    },
    "kernelspec": {
      "name": "python3",
      "display_name": "Python 3"
    },
    "language_info": {
      "name": "python"
    }
  },
  "cells": [
    {
      "cell_type": "markdown",
      "metadata": {
        "id": "view-in-github",
        "colab_type": "text"
      },
      "source": [
        "<a href=\"https://colab.research.google.com/github/prahadeeshwaran-k/Python-Learning/blob/main/While.ipynb\" target=\"_parent\"><img src=\"https://colab.research.google.com/assets/colab-badge.svg\" alt=\"Open In Colab\"/></a>"
      ]
    },
    {
      "cell_type": "markdown",
      "source": [
        "**Basic While Loop**"
      ],
      "metadata": {
        "id": "mh3iqyeVRIoZ"
      }
    },
    {
      "cell_type": "code",
      "execution_count": 1,
      "metadata": {
        "colab": {
          "base_uri": "https://localhost:8080/"
        },
        "id": "AQSG_jbX_BnS",
        "outputId": "3d1762d1-a550-4e21-fa2d-f52301ba7c4a"
      },
      "outputs": [
        {
          "output_type": "stream",
          "name": "stdout",
          "text": [
            "Enter a count of number:6\n",
            "0\n",
            "1\n",
            "2\n",
            "3\n",
            "4\n",
            "5\n"
          ]
        }
      ],
      "source": [
        "count = int (input(\"Enter a count of number:\"))\n",
        "i = 0\n",
        "while i <count :\n",
        "  print(i)\n",
        "  i+=1"
      ]
    },
    {
      "cell_type": "markdown",
      "source": [
        "**Exit the loop when i is 3:Break**"
      ],
      "metadata": {
        "id": "5mhAZmgIY9lP"
      }
    },
    {
      "cell_type": "code",
      "source": [
        "num = 3\n",
        "i = 0\n",
        "while i <= 10:\n",
        "  if i == 3:\n",
        "    break\n",
        "  i += 1 \n",
        "  print(i)   "
      ],
      "metadata": {
        "colab": {
          "base_uri": "https://localhost:8080/"
        },
        "id": "mF0NDLtzZAgs",
        "outputId": "3522472f-74fe-4076-83b3-dfa7cec69aca"
      },
      "execution_count": 20,
      "outputs": [
        {
          "output_type": "stream",
          "name": "stdout",
          "text": [
            "1\n",
            "2\n",
            "3\n"
          ]
        }
      ]
    },
    {
      "cell_type": "markdown",
      "source": [
        "**Continue to the next iteration if i is 3:**"
      ],
      "metadata": {
        "id": "q-Bs2i77aAuN"
      }
    },
    {
      "cell_type": "code",
      "source": [
        "num = 3\n",
        "i = 0\n",
        "while i <= 10:\n",
        "  i += 1 \n",
        "  if i == 3:\n",
        "    continue\n",
        "  print(i) "
      ],
      "metadata": {
        "colab": {
          "base_uri": "https://localhost:8080/"
        },
        "id": "uX5k01XaaCnr",
        "outputId": "be423aca-81b0-4405-f38f-db7abbaa57c5"
      },
      "execution_count": 24,
      "outputs": [
        {
          "output_type": "stream",
          "name": "stdout",
          "text": [
            "1\n",
            "2\n",
            "4\n",
            "5\n",
            "6\n",
            "7\n",
            "8\n",
            "9\n",
            "10\n",
            "11\n"
          ]
        }
      ]
    },
    {
      "cell_type": "markdown",
      "source": [
        "**To Find A tables upto Twenty**"
      ],
      "metadata": {
        "id": "aZvd0XCbR_j_"
      }
    },
    {
      "cell_type": "code",
      "source": [
        "count = int (input(\"Enter a count of number:\"))\n",
        "i = 1\n",
        "while i <= 20:\n",
        "  num = i*count\n",
        "  print(count, \"x\", i, \"=\", num )\n",
        "  i+=1"
      ],
      "metadata": {
        "colab": {
          "base_uri": "https://localhost:8080/"
        },
        "id": "PVk2ZL53SFxs",
        "outputId": "c8388cc7-bff3-4a83-f5a1-8d77d8db9625"
      },
      "execution_count": 11,
      "outputs": [
        {
          "output_type": "stream",
          "name": "stdout",
          "text": [
            "Enter a count of number:5\n",
            "5 x 1 = 5\n",
            "5 x 2 = 10\n",
            "5 x 3 = 15\n",
            "5 x 4 = 20\n",
            "5 x 5 = 25\n",
            "5 x 6 = 30\n",
            "5 x 7 = 35\n",
            "5 x 8 = 40\n",
            "5 x 9 = 45\n",
            "5 x 10 = 50\n",
            "5 x 11 = 55\n",
            "5 x 12 = 60\n",
            "5 x 13 = 65\n",
            "5 x 14 = 70\n",
            "5 x 15 = 75\n",
            "5 x 16 = 80\n",
            "5 x 17 = 85\n",
            "5 x 18 = 90\n",
            "5 x 19 = 95\n",
            "5 x 20 = 100\n"
          ]
        }
      ]
    },
    {
      "cell_type": "code",
      "source": [
        "num = int(input(\"to find a su  of numbers\"))\n",
        "initial = 0\n",
        "sum = 1\n",
        "while initial <= num :\n",
        "  sum = initial + sum\n",
        "  initial += 1\n",
        "print(sum)  \n"
      ],
      "metadata": {
        "colab": {
          "base_uri": "https://localhost:8080/"
        },
        "id": "BIbertAvTunR",
        "outputId": "05c7af6c-b931-4401-dedb-78446ade78ef"
      },
      "execution_count": 16,
      "outputs": [
        {
          "output_type": "stream",
          "name": "stdout",
          "text": [
            "to find a su  of numbers13\n",
            "92\n"
          ]
        }
      ]
    }
  ]
}