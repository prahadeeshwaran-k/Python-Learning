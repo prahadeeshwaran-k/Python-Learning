{
  "nbformat": 4,
  "nbformat_minor": 0,
  "metadata": {
    "colab": {
      "name": "Constructors  OOP.ipynb",
      "provenance": [],
      "authorship_tag": "ABX9TyMiXRad3mQ+uBX+vdDo243A",
      "include_colab_link": true
    },
    "kernelspec": {
      "name": "python3",
      "display_name": "Python 3"
    },
    "language_info": {
      "name": "python"
    }
  },
  "cells": [
    {
      "cell_type": "markdown",
      "metadata": {
        "id": "view-in-github",
        "colab_type": "text"
      },
      "source": [
        "<a href=\"https://colab.research.google.com/github/prahadeeshwaran-k/Python-Learning/blob/main/Constructors_OOP.ipynb\" target=\"_parent\"><img src=\"https://colab.research.google.com/assets/colab-badge.svg\" alt=\"Open In Colab\"/></a>"
      ]
    },
    {
      "cell_type": "markdown",
      "source": [
        "# Well Another example "
      ],
      "metadata": {
        "id": "w60mCxkSEgAr"
      }
    },
    {
      "cell_type": "code",
      "source": [
        "class Item:\n",
        "    def Total(myparameter,x,y):\n",
        "        return\"The Total Price: \", x * y\n",
        "\n",
        "item1 = Item()\n",
        "item1.name = \"Google pixel 6 Pro\"\n",
        "item1.price = 85000\n",
        "item1.quantity = 2\n",
        "\n",
        "print(item1.__dict__)\n",
        "\n",
        "#Here item1 is passes to myparameter\n",
        "#item1.price is passes to x\n",
        "#item1.price  is passes to y\n",
        "\n",
        "#And now we call and create instance\n",
        "print(item1.Total(item1.price,item1.quantity))\n",
        "\n",
        "item2 = Item()\n",
        "item2.name = \"iphone 13 Pro Max\"\n",
        "item2.price = 152630\n",
        "item2.quantity = 2\n",
        "\n",
        "print(item2.__dict__)\n",
        "print(item2.Total(item2.price,item2.quantity))"
      ],
      "metadata": {
        "colab": {
          "base_uri": "https://localhost:8080/"
        },
        "id": "nMem-fqEGC9S",
        "outputId": "5f8d4f9a-c772-496a-b254-c5b9bf951780"
      },
      "execution_count": null,
      "outputs": [
        {
          "output_type": "stream",
          "name": "stdout",
          "text": [
            "{'name': 'Google pixel 6 Pro', 'price': 85000, 'quantity': 2}\n",
            "('The Total Price: ', 170000)\n",
            "{'name': 'iphone 13 Pro Max', 'price': 152630, 'quantity': 2}\n",
            "('The Total Price: ', 305260)\n"
          ]
        }
      ]
    },
    {
      "cell_type": "markdown",
      "source": [
        "# Construct, __ init__ to initiate the class instance"
      ],
      "metadata": {
        "id": "2uAnzZVuQJNf"
      }
    },
    {
      "cell_type": "code",
      "source": [
        "class marks:\n",
        "    #here __init__ was automatically create a subject to instead of create a subjects  manually\n",
        "    #the person a argument is denoted a variables which is passed in init \n",
        "\n",
        "    def __init__(person,maths: int,physics: int,chemistry: int,python: int,english: int):\n",
        "        person.maths = maths\n",
        "        person.physics = physics\n",
        "        person.chemistry= chemistry\n",
        "        person.python = python\n",
        "        person.english = english\n",
        "    def totalmarks(person):\n",
        "        return person.maths + person.physics + person.chemistry + person.python + person.english\n",
        "\n",
        "Kumar  = marks(89,85,94,99,85)\n",
        "print(Kumar.__dict__)\n",
        "print(Kumar.totalmarks())\n",
        "\n",
        "matta_babu  = marks(24,35,15,0,7)\n",
        "print(matta_babu.__dict__)\n",
        "print(matta_babu.totalmarks())\n"
      ],
      "metadata": {
        "colab": {
          "base_uri": "https://localhost:8080/"
        },
        "id": "fBb5AZI3QI7R",
        "outputId": "4eb34c80-02b3-4f34-d203-86c699b2615b"
      },
      "execution_count": null,
      "outputs": [
        {
          "output_type": "stream",
          "name": "stdout",
          "text": [
            "{'maths': 89, 'physics': 85, 'chemistry': 94, 'python': 99, 'english': 85}\n",
            "452\n",
            "{'maths': 24, 'physics': 35, 'chemistry': 15, 'python': 0, 'english': 7}\n",
            "81\n"
          ]
        }
      ]
    }
  ]
}