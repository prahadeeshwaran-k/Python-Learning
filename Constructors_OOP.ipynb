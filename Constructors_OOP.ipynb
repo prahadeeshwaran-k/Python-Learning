{
  "nbformat": 4,
  "nbformat_minor": 0,
  "metadata": {
    "colab": {
      "name": "Constructors  OOP.ipynb",
      "provenance": [],
      "authorship_tag": "ABX9TyOFkdECuRZRzh7shffTUhoU",
      "include_colab_link": true
    },
    "kernelspec": {
      "name": "python3",
      "display_name": "Python 3"
    },
    "language_info": {
      "name": "python"
    }
  },
  "cells": [
    {
      "cell_type": "markdown",
      "metadata": {
        "id": "view-in-github",
        "colab_type": "text"
      },
      "source": [
        "<a href=\"https://colab.research.google.com/github/prahadeeshwaran-k/Python-Learning/blob/main/Constructors_OOP.ipynb\" target=\"_parent\"><img src=\"https://colab.research.google.com/assets/colab-badge.svg\" alt=\"Open In Colab\"/></a>"
      ]
    },
    {
      "cell_type": "markdown",
      "source": [
        "# Well Another example "
      ],
      "metadata": {
        "id": "w60mCxkSEgAr"
      }
    },
    {
      "cell_type": "code",
      "source": [
        "class Item:\n",
        "    def Total(myparameter,x,y):\n",
        "        return\"The Total Price: \", x * y\n",
        "\n",
        "item1 = Item()\n",
        "item1.name = \"Google pixel 6 Pro\"\n",
        "item1.price = 85000\n",
        "item1.quantity = 2\n",
        "\n",
        "print(item1.__dict__)\n",
        "\n",
        "#Here item1 is passes to myparameter\n",
        "#item1.price is passes to x\n",
        "#item1.price  is passes to y\n",
        "\n",
        "#And now we call and create instance\n",
        "print(item1.Total(item1.price,item1.quantity))\n",
        "\n",
        "item2 = Item()\n",
        "item2.name = \"iphone 13 Pro Max\"\n",
        "item2.price = 152630\n",
        "item2.quantity = 2\n",
        "\n",
        "print(item2.__dict__)\n",
        "print(item2.Total(item2.price,item2.quantity))"
      ],
      "metadata": {
        "colab": {
          "base_uri": "https://localhost:8080/"
        },
        "id": "nMem-fqEGC9S",
        "outputId": "5f8d4f9a-c772-496a-b254-c5b9bf951780"
      },
      "execution_count": null,
      "outputs": [
        {
          "output_type": "stream",
          "name": "stdout",
          "text": [
            "{'name': 'Google pixel 6 Pro', 'price': 85000, 'quantity': 2}\n",
            "('The Total Price: ', 170000)\n",
            "{'name': 'iphone 13 Pro Max', 'price': 152630, 'quantity': 2}\n",
            "('The Total Price: ', 305260)\n"
          ]
        }
      ]
    },
    {
      "cell_type": "markdown",
      "source": [
        "# Construct, __ init__ to initiate the class instance"
      ],
      "metadata": {
        "id": "2uAnzZVuQJNf"
      }
    },
    {
      "cell_type": "code",
      "source": [
        "class marks:\n",
        "    #here __init__ was automatically create a subject to instead of create a subjects  manually\n",
        "    #the person a argument is denoted a variables which is passed in init \n",
        "\n",
        "    def __init__(person, maths: int, physics: int, chemistry: int = 0, python: int = 0, english: int = 0):\n",
        "        \n",
        "        #Runtime validation is always only true if it is fail it throws assert error meggage\n",
        "        assert maths > 0, f\"Maths Mark {maths} is must not be zero\"\n",
        "        assert physics > 0, f\"Physics Mark {Physics} is must not be zero\"\n",
        "       \n",
        "        #Here the argument declared by data type and default value \n",
        "        person.maths = maths\n",
        "        person.physics = physics\n",
        "        person.chemistry= chemistry\n",
        "        person.python = python\n",
        "        person.english = english\n",
        "   \n",
        "    def totalmarks(person):\n",
        "        return person.maths + person.physics + person.chemistry + person.python + person.english\n",
        "\n",
        "Kumar  = marks(98,85,94,99,85)\n",
        "print(Kumar.__dict__)\n",
        "print(Kumar.totalmarks())\n",
        "\n",
        "matta_babu  = marks(24,35,15,0,7)\n",
        "print(matta_babu.__dict__)\n",
        "print(matta_babu.totalmarks())\n"
      ],
      "metadata": {
        "colab": {
          "base_uri": "https://localhost:8080/"
        },
        "id": "fBb5AZI3QI7R",
        "outputId": "cef97b0d-99c9-41ef-e09e-765a02693209"
      },
      "execution_count": null,
      "outputs": [
        {
          "output_type": "stream",
          "name": "stdout",
          "text": [
            "{'maths': 98, 'physics': 85, 'chemistry': 94, 'python': 99, 'english': 85}\n",
            "461\n",
            "{'maths': 24, 'physics': 35, 'chemistry': 15, 'python': 0, 'english': 7}\n",
            "81\n"
          ]
        }
      ]
    },
    {
      "cell_type": "markdown",
      "source": [
        "#Class Attributes "
      ],
      "metadata": {
        "id": "A82wFYDslKX9"
      }
    },
    {
      "cell_type": "code",
      "source": [
        "class Item:\n",
        "    #after pay 20% discount \n",
        "    pay_rate = 0.8 \n",
        "\n",
        "    def __init__(self, name: str, price: int,quantity = 0):\n",
        "        assert price > 0, f\"Price {price} is not greater than or equal to zero\"\n",
        "        assert quantity > 0, f\"Quantity {quantity} is not greater than or equal to zero\"\n",
        "        \n",
        "        #assign  to self object in method\n",
        "        self.name = name\n",
        "        self.price = price\n",
        "        self.quantity = quantity\n",
        "    \n",
        "    def totalprice(self):\n",
        "        return self.price*self.quantity\n",
        "\n",
        "    def discount(self):\n",
        "        self.price = self.price*self.pay_rate*self.quantity\n",
        "\n",
        "item1 = Item(\"Samsung S21 Ultra\",1120,1)\n",
        "item1.discount()\n",
        "print(item1.price) \n",
        "\n",
        "item2 = Item(\"oneplus 9RT\",899,2)\n",
        "item2.pay_rate = 0.7\n",
        "item2.discount()\n",
        "print(item2.price)"
      ],
      "metadata": {
        "colab": {
          "base_uri": "https://localhost:8080/"
        },
        "id": "jq7EwSUi-ebf",
        "outputId": "de4ac344-e5bb-4dfe-fa75-dd3baef2a466"
      },
      "execution_count": 9,
      "outputs": [
        {
          "output_type": "stream",
          "name": "stdout",
          "text": [
            "896.0\n",
            "1258.6\n"
          ]
        }
      ]
    }
  ]
}