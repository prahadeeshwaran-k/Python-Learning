{
  "nbformat": 4,
  "nbformat_minor": 0,
  "metadata": {
    "colab": {
      "name": "Lambda.ipynb",
      "provenance": [],
      "authorship_tag": "ABX9TyNxt0h54V8nsPW8gQGtVOSk",
      "include_colab_link": true
    },
    "kernelspec": {
      "name": "python3",
      "display_name": "Python 3"
    },
    "language_info": {
      "name": "python"
    }
  },
  "cells": [
    {
      "cell_type": "markdown",
      "metadata": {
        "id": "view-in-github",
        "colab_type": "text"
      },
      "source": [
        "<a href=\"https://colab.research.google.com/github/prahadeeshwaran-k/Python-Learning/blob/main/Lambda.ipynb\" target=\"_parent\"><img src=\"https://colab.research.google.com/assets/colab-badge.svg\" alt=\"Open In Colab\"/></a>"
      ]
    },
    {
      "cell_type": "markdown",
      "source": [
        "# Simple Lambda Function"
      ],
      "metadata": {
        "id": "6hlCji576qrr"
      }
    },
    {
      "cell_type": "code",
      "execution_count": 7,
      "metadata": {
        "colab": {
          "base_uri": "https://localhost:8080/"
        },
        "id": "AVPvtyG_vpz_",
        "outputId": "9125827d-cb42-462c-c532-de33d37277b4"
      },
      "outputs": [
        {
          "output_type": "execute_result",
          "data": {
            "text/plain": [
              "4"
            ]
          },
          "metadata": {},
          "execution_count": 7
        }
      ],
      "source": [
        "# def square(a):\n",
        "#   return a*a\n",
        "square = lambda a:a*a\n",
        "square(2)"
      ]
    },
    {
      "cell_type": "markdown",
      "source": [
        "#Lamda With in user defined function"
      ],
      "metadata": {
        "id": "am8VdFFo9QUk"
      }
    },
    {
      "cell_type": "code",
      "source": [
        "def add(x):\n",
        "    return(lambda y:x+y)\n",
        "n = add(10)\n",
        "print(n(5))"
      ],
      "metadata": {
        "colab": {
          "base_uri": "https://localhost:8080/"
        },
        "id": "q_vzUdlb9Nnq",
        "outputId": "7ca14f91-77d7-47e1-ceed-a29c5cebb7bd"
      },
      "execution_count": 8,
      "outputs": [
        {
          "output_type": "stream",
          "name": "stdout",
          "text": [
            "15\n"
          ]
        }
      ]
    },
    {
      "cell_type": "markdown",
      "source": [
        "# Lambda with multiply Arrugments to find largest number"
      ],
      "metadata": {
        "id": "URNYMWGB_O5D"
      }
    },
    {
      "cell_type": "code",
      "source": [
        "larger = lambda a,b:a if a>b else b\n",
        "larger(10,20)"
      ],
      "metadata": {
        "colab": {
          "base_uri": "https://localhost:8080/"
        },
        "id": "lpPrX7JE_OiR",
        "outputId": "38b1d613-becb-4b88-aba1-e397345d33e0"
      },
      "execution_count": 9,
      "outputs": [
        {
          "output_type": "execute_result",
          "data": {
            "text/plain": [
              "20"
            ]
          },
          "metadata": {},
          "execution_count": 9
        }
      ]
    }
  ]
}