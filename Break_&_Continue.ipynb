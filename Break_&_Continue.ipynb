{
  "nbformat": 4,
  "nbformat_minor": 0,
  "metadata": {
    "colab": {
      "name": "Break & Continue.ipynb",
      "provenance": [],
      "authorship_tag": "ABX9TyPjHLS9pI2PsMQx4Jj1q+sZ",
      "include_colab_link": true
    },
    "kernelspec": {
      "name": "python3",
      "display_name": "Python 3"
    },
    "language_info": {
      "name": "python"
    }
  },
  "cells": [
    {
      "cell_type": "markdown",
      "metadata": {
        "id": "view-in-github",
        "colab_type": "text"
      },
      "source": [
        "<a href=\"https://colab.research.google.com/github/prahadeeshwaran-k/Python-Learning/blob/main/Break_%26_Continue.ipynb\" target=\"_parent\"><img src=\"https://colab.research.google.com/assets/colab-badge.svg\" alt=\"Open In Colab\"/></a>"
      ]
    },
    {
      "cell_type": "markdown",
      "source": [
        "**Simple Break Statement**"
      ],
      "metadata": {
        "id": "czZb_GV_A8S_"
      }
    },
    {
      "cell_type": "code",
      "execution_count": null,
      "metadata": {
        "colab": {
          "base_uri": "https://localhost:8080/"
        },
        "id": "l4HTTGaUA6yu",
        "outputId": "686b1ba2-bb4c-43f0-8892-5b3e88bc0b8a"
      },
      "outputs": [
        {
          "output_type": "stream",
          "name": "stdout",
          "text": [
            "1\n"
          ]
        }
      ],
      "source": [
        "for index in range(1,6+1):\n",
        "    print(index)\n",
        "    break"
      ]
    },
    {
      "cell_type": "markdown",
      "source": [
        "**Write a break Statement to break full condition**"
      ],
      "metadata": {
        "id": "htqd366PF0f0"
      }
    },
    {
      "cell_type": "code",
      "source": [
        "for index in range(6):\n",
        "    break\n",
        "    print(index)"
      ],
      "metadata": {
        "id": "oacGs0iCGvYC"
      },
      "execution_count": null,
      "outputs": []
    },
    {
      "cell_type": "markdown",
      "source": [
        "**A loop contain (1,6) range stop it 4**"
      ],
      "metadata": {
        "id": "CQHM61dVW_e2"
      }
    },
    {
      "cell_type": "code",
      "source": [
        "for index in range(1,6+1):\n",
        "    if index == 4:\n",
        "        break\n",
        "    print(index)"
      ],
      "metadata": {
        "colab": {
          "base_uri": "https://localhost:8080/"
        },
        "id": "fcsSNxRDW-je",
        "outputId": "452bb0bb-341e-4167-8dde-15c883cdf236"
      },
      "execution_count": null,
      "outputs": [
        {
          "output_type": "stream",
          "name": "stdout",
          "text": [
            "1\n",
            "2\n",
            "3\n"
          ]
        }
      ]
    },
    {
      "cell_type": "code",
      "source": [
        "while True:\n",
        "    number = float(input(\"enter a number :\") )\n",
        "    if number < 0:\n",
        "        break\n",
        "    else:\n",
        "        print(\"your enter : \", number)"
      ],
      "metadata": {
        "id": "PJsal0m-sfRD"
      },
      "execution_count": null,
      "outputs": []
    },
    {
      "cell_type": "markdown",
      "source": [
        "If is Negative number skip in loop using continue"
      ],
      "metadata": {
        "id": "3RZp9ktDzy7x"
      }
    },
    {
      "cell_type": "code",
      "source": [
        "for index in range (1,5+1):\n",
        "    num = int(input(\"enter a number: \"))\n",
        "    if num <0:\n",
        "        342print(\"enter a Positive number\")\n",
        "        continue\n",
        "       \n",
        "    print(\"Your is nummber: \",num)    "
      ],
      "metadata": {
        "colab": {
          "base_uri": "https://localhost:8080/",
          "height": 322
        },
        "id": "md7lDPR1wDbE",
        "outputId": "b43e8e76-4b9b-4982-d9f8-20bcb46e0e16"
      },
      "execution_count": 7,
      "outputs": [
        {
          "name": "stdout",
          "output_type": "stream",
          "text": [
            "enter a number: 324\n",
            "Your is nummber:  324\n",
            "enter a number: 234\n",
            "Your is nummber:  234\n",
            "enter a number: \n"
          ]
        },
        {
          "output_type": "error",
          "ename": "ValueError",
          "evalue": "ignored",
          "traceback": [
            "\u001b[0;31m---------------------------------------------------------------------------\u001b[0m",
            "\u001b[0;31mValueError\u001b[0m                                Traceback (most recent call last)",
            "\u001b[0;32m<ipython-input-7-c79a6bfb4476>\u001b[0m in \u001b[0;36m<module>\u001b[0;34m()\u001b[0m\n\u001b[1;32m      1\u001b[0m \u001b[0;32mfor\u001b[0m \u001b[0mindex\u001b[0m \u001b[0;32min\u001b[0m \u001b[0mrange\u001b[0m \u001b[0;34m(\u001b[0m\u001b[0;36m1\u001b[0m\u001b[0;34m,\u001b[0m\u001b[0;36m5\u001b[0m\u001b[0;34m+\u001b[0m\u001b[0;36m1\u001b[0m\u001b[0;34m)\u001b[0m\u001b[0;34m:\u001b[0m\u001b[0;34m\u001b[0m\u001b[0;34m\u001b[0m\u001b[0m\n\u001b[0;32m----> 2\u001b[0;31m     \u001b[0mnum\u001b[0m \u001b[0;34m=\u001b[0m \u001b[0mint\u001b[0m\u001b[0;34m(\u001b[0m\u001b[0minput\u001b[0m\u001b[0;34m(\u001b[0m\u001b[0;34m\"enter a number: \"\u001b[0m\u001b[0;34m)\u001b[0m\u001b[0;34m)\u001b[0m\u001b[0;34m\u001b[0m\u001b[0;34m\u001b[0m\u001b[0m\n\u001b[0m\u001b[1;32m      3\u001b[0m     \u001b[0;32mif\u001b[0m \u001b[0mnum\u001b[0m \u001b[0;34m<\u001b[0m\u001b[0;36m0\u001b[0m\u001b[0;34m:\u001b[0m\u001b[0;34m\u001b[0m\u001b[0;34m\u001b[0m\u001b[0m\n\u001b[1;32m      4\u001b[0m         \u001b[0mprint\u001b[0m\u001b[0;34m(\u001b[0m\u001b[0;34m\"enter a Positive number\"\u001b[0m\u001b[0;34m)\u001b[0m\u001b[0;34m\u001b[0m\u001b[0;34m\u001b[0m\u001b[0m\n\u001b[1;32m      5\u001b[0m         \u001b[0;32mcontinue\u001b[0m\u001b[0;34m\u001b[0m\u001b[0;34m\u001b[0m\u001b[0m\n",
            "\u001b[0;31mValueError\u001b[0m: invalid literal for int() with base 10: ''"
          ]
        }
      ]
    },
    {
      "cell_type": "markdown",
      "source": [
        "**Print  excet swift and C in a list**"
      ],
      "metadata": {
        "id": "L6pwACPVxbuo"
      }
    },
    {
      "cell_type": "code",
      "source": [
        "language = [\"Python\",\"Java\",\"Kotlin\",\"Swift\",\"C++\",\"C\",\"C#\"]\n",
        "for index in language:\n",
        "    if index == \"C\" or index == \"Swift\":\n",
        "        continue\n",
        "    print(index)"
      ],
      "metadata": {
        "colab": {
          "base_uri": "https://localhost:8080/"
        },
        "id": "RARlfYW33r_T",
        "outputId": "a9fbb6dd-1612-460f-c727-e7d5fc6fff60"
      },
      "execution_count": 18,
      "outputs": [
        {
          "output_type": "stream",
          "name": "stdout",
          "text": [
            "Python\n",
            "Java\n",
            "Kotlin\n",
            "C++\n",
            "C#\n"
          ]
        }
      ]
    }
  ]
}