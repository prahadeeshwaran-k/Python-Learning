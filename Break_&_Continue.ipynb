{
  "nbformat": 4,
  "nbformat_minor": 0,
  "metadata": {
    "colab": {
      "name": "Break & Continue.ipynb",
      "provenance": [],
      "authorship_tag": "ABX9TyOZx5y0zo33/WkvN3WG+Oyr",
      "include_colab_link": true
    },
    "kernelspec": {
      "name": "python3",
      "display_name": "Python 3"
    },
    "language_info": {
      "name": "python"
    }
  },
  "cells": [
    {
      "cell_type": "markdown",
      "metadata": {
        "id": "view-in-github",
        "colab_type": "text"
      },
      "source": [
        "<a href=\"https://colab.research.google.com/github/prahadeeshwaran-k/Python-Learning/blob/main/Break_%26_Continue.ipynb\" target=\"_parent\"><img src=\"https://colab.research.google.com/assets/colab-badge.svg\" alt=\"Open In Colab\"/></a>"
      ]
    },
    {
      "cell_type": "markdown",
      "source": [
        "**Simple Break Statement**"
      ],
      "metadata": {
        "id": "czZb_GV_A8S_"
      }
    },
    {
      "cell_type": "code",
      "execution_count": null,
      "metadata": {
        "colab": {
          "base_uri": "https://localhost:8080/"
        },
        "id": "l4HTTGaUA6yu",
        "outputId": "686b1ba2-bb4c-43f0-8892-5b3e88bc0b8a"
      },
      "outputs": [
        {
          "output_type": "stream",
          "name": "stdout",
          "text": [
            "1\n"
          ]
        }
      ],
      "source": [
        "for index in range(1,6+1):\n",
        "    print(index)\n",
        "    break"
      ]
    },
    {
      "cell_type": "markdown",
      "source": [
        "**Write a break Statement to break full condition**"
      ],
      "metadata": {
        "id": "htqd366PF0f0"
      }
    },
    {
      "cell_type": "code",
      "source": [
        "for index in range(6):\n",
        "    break\n",
        "    print(index)"
      ],
      "metadata": {
        "id": "oacGs0iCGvYC"
      },
      "execution_count": null,
      "outputs": []
    },
    {
      "cell_type": "markdown",
      "source": [
        "**A loop contain (1,6) range stop it 4**"
      ],
      "metadata": {
        "id": "CQHM61dVW_e2"
      }
    },
    {
      "cell_type": "code",
      "source": [
        "for index in range(1,6+1):\n",
        "    if index == 4:\n",
        "        break\n",
        "    print(index)"
      ],
      "metadata": {
        "colab": {
          "base_uri": "https://localhost:8080/"
        },
        "id": "fcsSNxRDW-je",
        "outputId": "452bb0bb-341e-4167-8dde-15c883cdf236"
      },
      "execution_count": 4,
      "outputs": [
        {
          "output_type": "stream",
          "name": "stdout",
          "text": [
            "1\n",
            "2\n",
            "3\n"
          ]
        }
      ]
    }
  ]
}