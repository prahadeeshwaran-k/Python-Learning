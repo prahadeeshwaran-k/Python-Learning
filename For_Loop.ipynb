{
  "nbformat": 4,
  "nbformat_minor": 0,
  "metadata": {
    "colab": {
      "name": "For Loop.ipynb",
      "provenance": [],
      "authorship_tag": "ABX9TyMfrxMxQlqiSxZwxUL9ag+g",
      "include_colab_link": true
    },
    "kernelspec": {
      "name": "python3",
      "display_name": "Python 3"
    },
    "language_info": {
      "name": "python"
    }
  },
  "cells": [
    {
      "cell_type": "markdown",
      "metadata": {
        "id": "view-in-github",
        "colab_type": "text"
      },
      "source": [
        "<a href=\"https://colab.research.google.com/github/prahadeeshwaran-k/Python-Learning/blob/main/For_Loop.ipynb\" target=\"_parent\"><img src=\"https://colab.research.google.com/assets/colab-badge.svg\" alt=\"Open In Colab\"/></a>"
      ]
    },
    {
      "cell_type": "markdown",
      "source": [
        "**Print each fruit in a fruit list:**"
      ],
      "metadata": {
        "id": "zkghnpqp5eT8"
      }
    },
    {
      "cell_type": "code",
      "execution_count": 2,
      "metadata": {
        "id": "JVWp91OTtUox",
        "colab": {
          "base_uri": "https://localhost:8080/"
        },
        "outputId": "1e8af752-2fd5-436c-a10a-74dbfbce6601"
      },
      "outputs": [
        {
          "output_type": "stream",
          "name": "stdout",
          "text": [
            "apple\n",
            "banana\n",
            "cherry\n",
            "orange\n",
            "Damson\n",
            "grapes\n"
          ]
        }
      ],
      "source": [
        "fruit = [\"apple\",\"banana\",\"cherry\",\"orange\",\"Damson\",\"grapes\"]\n",
        "for index in fruit:\n",
        "  print(index)"
      ]
    },
    {
      "cell_type": "markdown",
      "source": [
        "**Loop through the letters in the word \"banana\"**"
      ],
      "metadata": {
        "id": "dopL1Qpj6mmC"
      }
    },
    {
      "cell_type": "code",
      "source": [
        "for index in \"banana\":\n",
        "  print(index)"
      ],
      "metadata": {
        "colab": {
          "base_uri": "https://localhost:8080/"
        },
        "id": "FaCWhT166wTH",
        "outputId": "b3619609-c383-44b2-ab23-7485cd1a8ac0"
      },
      "execution_count": 3,
      "outputs": [
        {
          "output_type": "stream",
          "name": "stdout",
          "text": [
            "b\n",
            "a\n",
            "n\n",
            "a\n",
            "n\n",
            "a\n"
          ]
        }
      ]
    },
    {
      "cell_type": "markdown",
      "source": [
        "**Exit the loop when x is \"banana\"**"
      ],
      "metadata": {
        "id": "AUG4zEGS7Ch2"
      }
    },
    {
      "cell_type": "code",
      "source": [
        "fruit = [\"apple\",\"cherry\",\"orange\",\"banana\",\"Damson\",\"grapes\"]\n",
        "for index in fruit:\n",
        "  if index == \"banana\":\n",
        "    break\n",
        "  print(index)  "
      ],
      "metadata": {
        "colab": {
          "base_uri": "https://localhost:8080/"
        },
        "id": "eRF7-ShZ7Hl5",
        "outputId": "7a703c47-eefd-401a-8ba8-0c9578956058"
      },
      "execution_count": 5,
      "outputs": [
        {
          "output_type": "stream",
          "name": "stdout",
          "text": [
            "apple\n",
            "cherry\n",
            "orange\n"
          ]
        }
      ]
    },
    {
      "cell_type": "markdown",
      "source": [
        "**Do not print banana:**"
      ],
      "metadata": {
        "id": "wqhfZWzp7yBl"
      }
    },
    {
      "cell_type": "code",
      "source": [
        "# With the continue statement we can stop the current iteration of the loop, and continue with the next:\n",
        "fruit = [\"apple\",\"cherry\",\"orange\",\"banana\",\"Damson\",\"grapes\"]\n",
        "for index in fruit:\n",
        "  if index == \"cherry\":\n",
        "    continue\n",
        "  print(index)  "
      ],
      "metadata": {
        "colab": {
          "base_uri": "https://localhost:8080/"
        },
        "id": "gqYw5ig076sb",
        "outputId": "f7a834a4-fc38-4ed6-8bc9-0ef637b2e8dd"
      },
      "execution_count": 10,
      "outputs": [
        {
          "output_type": "stream",
          "name": "stdout",
          "text": [
            "apple\n",
            "orange\n",
            "banana\n",
            "Damson\n",
            "grapes\n"
          ]
        }
      ]
    },
    {
      "cell_type": "markdown",
      "source": [
        "**Using the range() function:**"
      ],
      "metadata": {
        "id": "H4kS_VEb8whG"
      }
    },
    {
      "cell_type": "code",
      "source": [
        "for i in range(6):\n",
        "  print(i)"
      ],
      "metadata": {
        "colab": {
          "base_uri": "https://localhost:8080/"
        },
        "id": "Y5LGTF_Y80WG",
        "outputId": "3eaf2e00-0883-49c6-bd8b-1c88039195eb"
      },
      "execution_count": 14,
      "outputs": [
        {
          "output_type": "stream",
          "name": "stdout",
          "text": [
            "0\n",
            "1\n",
            "2\n",
            "3\n",
            "4\n",
            "5\n"
          ]
        }
      ]
    },
    {
      "cell_type": "markdown",
      "source": [
        "**Print range() 0,2,4,6,**"
      ],
      "metadata": {
        "id": "MdhCWfh_9txp"
      }
    },
    {
      "cell_type": "code",
      "source": [
        "for i in range(0,6+1,2):\n",
        "  print(i)"
      ],
      "metadata": {
        "colab": {
          "base_uri": "https://localhost:8080/"
        },
        "id": "WFXM9JGj96sk",
        "outputId": "b523b160-8294-4ccd-860a-e9fe0e7aa7db"
      },
      "execution_count": 17,
      "outputs": [
        {
          "output_type": "stream",
          "name": "stdout",
          "text": [
            "0\n",
            "2\n",
            "4\n",
            "6\n"
          ]
        }
      ]
    },
    {
      "cell_type": "markdown",
      "source": [
        "**Using the start parameter 2 to 10**"
      ],
      "metadata": {
        "id": "_P9PsIYd-oGU"
      }
    },
    {
      "cell_type": "code",
      "source": [
        "for i in range(2,10+1):\n",
        "  print(i)"
      ],
      "metadata": {
        "colab": {
          "base_uri": "https://localhost:8080/"
        },
        "id": "YD2xrmjv-sSx",
        "outputId": "dd647ea4-0b38-43b0-a069-ca229ab9fa74"
      },
      "execution_count": 27,
      "outputs": [
        {
          "output_type": "stream",
          "name": "stdout",
          "text": [
            "2\n",
            "3\n",
            "4\n",
            "5\n",
            "6\n",
            "7\n",
            "8\n",
            "9\n",
            "10\n"
          ]
        }
      ]
    },
    {
      "cell_type": "markdown",
      "source": [
        "**Increment the sequence with 3 (default is 1)**"
      ],
      "metadata": {
        "id": "mQ31d-R--6s-"
      }
    },
    {
      "cell_type": "code",
      "source": [
        "for i in range(0,20+1,3):\n",
        "  print(i)"
      ],
      "metadata": {
        "colab": {
          "base_uri": "https://localhost:8080/"
        },
        "id": "ZXHNzM4w--da",
        "outputId": "4375bcec-b681-4e39-b389-afd85424ba05"
      },
      "execution_count": 29,
      "outputs": [
        {
          "output_type": "stream",
          "name": "stdout",
          "text": [
            "0\n",
            "3\n",
            "6\n",
            "9\n",
            "12\n",
            "15\n",
            "18\n"
          ]
        }
      ]
    }
  ]
}