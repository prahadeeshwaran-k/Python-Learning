{
  "nbformat": 4,
  "nbformat_minor": 0,
  "metadata": {
    "colab": {
      "name": "String Formatted or Format().ipynb",
      "provenance": [],
      "authorship_tag": "ABX9TyNY8Vx2K8kQVoyW2ouoIwuB",
      "include_colab_link": true
    },
    "kernelspec": {
      "name": "python3",
      "display_name": "Python 3"
    },
    "language_info": {
      "name": "python"
    }
  },
  "cells": [
    {
      "cell_type": "markdown",
      "metadata": {
        "id": "view-in-github",
        "colab_type": "text"
      },
      "source": [
        "<a href=\"https://colab.research.google.com/github/prahadeeshwaran-k/Python-Learning/blob/main/String_Formatted_or_Format().ipynb\" target=\"_parent\"><img src=\"https://colab.research.google.com/assets/colab-badge.svg\" alt=\"Open In Colab\"/></a>"
      ]
    },
    {
      "cell_type": "markdown",
      "source": [
        "#The Normal way mult variables "
      ],
      "metadata": {
        "id": "UL8r7vb50bA7"
      }
    },
    {
      "cell_type": "code",
      "execution_count": 1,
      "metadata": {
        "colab": {
          "base_uri": "https://localhost:8080/"
        },
        "id": "W57K8C4yza7B",
        "outputId": "e1cdd160-84d5-4545-87d7-26bd3839f47b"
      },
      "outputs": [
        {
          "output_type": "stream",
          "name": "stdout",
          "text": [
            "The num1 7.0075702566 and num2 is 9.97432523859\n"
          ]
        }
      ],
      "source": [
        "num1 = 7.0075702566\n",
        "num2 = 9.97432523859\n",
        "print(\"The num1\",num1,\"and num2 is\",num2 )\n"
      ]
    },
    {
      "cell_type": "markdown",
      "source": [
        "#By Using Format() method "
      ],
      "metadata": {
        "id": "4Bs9866I0mpd"
      }
    },
    {
      "cell_type": "code",
      "source": [
        "num1 = 7.0075702566\n",
        "num2 = 9.97432523859\n",
        "print(\"The num1 {0} and num2 is {1}\".format(num1,num2))"
      ],
      "metadata": {
        "colab": {
          "base_uri": "https://localhost:8080/"
        },
        "id": "2ZjNbS7I0ry1",
        "outputId": "e51153bb-c161-4c62-88fa-0ff0263bdb19"
      },
      "execution_count": 2,
      "outputs": [
        {
          "output_type": "stream",
          "name": "stdout",
          "text": [
            "The num1 7.0075702566 and num2 is 9.97432523859\n"
          ]
        }
      ]
    },
    {
      "cell_type": "markdown",
      "source": [
        "#Short the number to 3 decimal vaule"
      ],
      "metadata": {
        "id": "KV65iyy41_9S"
      }
    },
    {
      "cell_type": "code",
      "source": [
        "num1 = 7.0075702566\n",
        "num2 = 9.97432523859\n",
        "print(\"The num1 {0:3f} and num2 is {1:3f}\".format(num1,num2))"
      ],
      "metadata": {
        "colab": {
          "base_uri": "https://localhost:8080/"
        },
        "id": "5hc7qBzd1_Gj",
        "outputId": "ed59cdcd-d952-4b13-e795-6b22eb41c783"
      },
      "execution_count": 3,
      "outputs": [
        {
          "output_type": "stream",
          "name": "stdout",
          "text": [
            "The num1 7.007570 and num2 is 9.974325\n"
          ]
        }
      ]
    },
    {
      "cell_type": "markdown",
      "source": [
        "#Another Method to do this"
      ],
      "metadata": {
        "id": "FHoXauF-2WhO"
      }
    },
    {
      "cell_type": "code",
      "source": [
        "num1 = 7.0075702566\n",
        "num2 = 9.97432523859\n",
        "#By add f infront of the string\n",
        "print(f\"The num1 {num1} and num2 is {num2}\")"
      ],
      "metadata": {
        "colab": {
          "base_uri": "https://localhost:8080/"
        },
        "id": "Lp1Wy2i62dLe",
        "outputId": "a3b604e5-2603-485e-ae6c-4e087ff8fc8a"
      },
      "execution_count": 4,
      "outputs": [
        {
          "output_type": "stream",
          "name": "stdout",
          "text": [
            "The num1 7.0075702566 and num2 is 9.97432523859\n"
          ]
        }
      ]
    },
    {
      "cell_type": "markdown",
      "source": [
        "#Also Short the number to 4 decimal vaule\n"
      ],
      "metadata": {
        "id": "W15aLUAq28cP"
      }
    },
    {
      "cell_type": "code",
      "source": [
        "num1 = 7.0075702566\n",
        "num2 = 9.97432523859\n",
        "print(f\"The num1 {num1:4f} and num2 is {num2:4f}\")"
      ],
      "metadata": {
        "colab": {
          "base_uri": "https://localhost:8080/"
        },
        "id": "9YuK439O2wLX",
        "outputId": "239ebaf6-68a0-4dab-f6fa-a270115a573c"
      },
      "execution_count": 5,
      "outputs": [
        {
          "output_type": "stream",
          "name": "stdout",
          "text": [
            "The num1 7.007570 and num2 is 9.974325\n"
          ]
        }
      ]
    }
  ]
}