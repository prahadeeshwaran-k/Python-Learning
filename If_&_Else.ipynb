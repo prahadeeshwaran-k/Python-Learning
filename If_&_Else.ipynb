{
  "nbformat": 4,
  "nbformat_minor": 0,
  "metadata": {
    "colab": {
      "name": " If & Else.ipynb",
      "provenance": [],
      "authorship_tag": "ABX9TyPQKBvUI7gGosGxHug1WQ0R",
      "include_colab_link": true
    },
    "kernelspec": {
      "name": "python3",
      "display_name": "Python 3"
    },
    "language_info": {
      "name": "python"
    }
  },
  "cells": [
    {
      "cell_type": "markdown",
      "metadata": {
        "id": "view-in-github",
        "colab_type": "text"
      },
      "source": [
        "<a href=\"https://colab.research.google.com/github/prahadeeshwaran-k/Python-Learning/blob/main/If_%26_Else.ipynb\" target=\"_parent\"><img src=\"https://colab.research.google.com/assets/colab-badge.svg\" alt=\"Open In Colab\"/></a>"
      ]
    },
    {
      "cell_type": "markdown",
      "source": [
        "**Find the Factorial of a Number**"
      ],
      "metadata": {
        "id": "D0v_qlyhH2qK"
      }
    },
    {
      "cell_type": "code",
      "execution_count": null,
      "metadata": {
        "colab": {
          "base_uri": "https://localhost:8080/"
        },
        "id": "6QAAvYxXGULJ",
        "outputId": "e7348b5f-a502-4be7-9c80-a6bc3f515ced"
      },
      "outputs": [
        {
          "output_type": "stream",
          "name": "stdout",
          "text": [
            "Enter a factorial:8\n",
            "1\n",
            "2\n",
            "6\n",
            "24\n",
            "120\n",
            "720\n",
            "5040\n",
            "40320\n"
          ]
        }
      ],
      "source": [
        "num = int(input(\"Enter a factorial:\"))\n",
        "fact = 1\n",
        "if num < 0 :\n",
        "  print (\"The factriol of negative number is not find\")\n",
        "elif num == 0 : \n",
        "  print (\"The factriol of zero is also 0\")\n",
        "else :\n",
        "  for index  in range(1,num+1) :\n",
        "    fact = fact*index\n",
        "    print(fact)\n",
        "\n",
        "\n"
      ]
    },
    {
      "cell_type": "markdown",
      "source": [
        "**Fibonacci Sequence**"
      ],
      "metadata": {
        "id": "-OnE2dT4H2wz"
      }
    },
    {
      "cell_type": "code",
      "source": [
        "items = int(input(\"Enter a number:\"))\n",
        "num1,num2 = 0,1\n",
        "count = 0\n",
        "if items <= 0:\n",
        "  print(\"enter a positive number\")\n",
        "elif items == 1:\n",
        "  print(\"the fibonacci sequence of one is 1\") \n",
        "else:\n",
        "  while items > count:\n",
        "    print(num1)\n",
        "    newn = num1+num2\n",
        "    num1 = num2\n",
        "    num2 = newn\n",
        "    count += 1\n"
      ],
      "metadata": {
        "colab": {
          "base_uri": "https://localhost:8080/"
        },
        "id": "XwKBuRvRIFka",
        "outputId": "4839d8ba-7cbb-4a84-dd00-3ed8ff3e7252"
      },
      "execution_count": null,
      "outputs": [
        {
          "output_type": "stream",
          "name": "stdout",
          "text": [
            "Enter a number:9\n",
            "0\n",
            "1\n",
            "1\n",
            "2\n",
            "3\n",
            "5\n",
            "8\n",
            "13\n",
            "21\n"
          ]
        }
      ]
    },
    {
      "cell_type": "markdown",
      "source": [
        "**FizzBuzz in Hackerrank**"
      ],
      "metadata": {
        "id": "-mcW3I7M9HN7"
      }
    },
    {
      "cell_type": "code",
      "source": [
        "n=int(input(\"n=\"))\n",
        "i=1\n",
        "while n > i :\n",
        "  if(i % 3 == 0 and i % 5 == 0):\n",
        "    print(\"FizzBuzz\")\n",
        "  elif i % 3 == 0:\n",
        "    print(\"Fizz\")\n",
        "  elif i % 5 == 0:\n",
        "    print(\"Buzz\")\n",
        "  else:\n",
        "    print(i)\n",
        "  i += 1"
      ],
      "metadata": {
        "colab": {
          "base_uri": "https://localhost:8080/"
        },
        "id": "5Idk39LZWPlW",
        "outputId": "9e6f0d62-0595-4d37-92cf-5667f30ead4b"
      },
      "execution_count": null,
      "outputs": [
        {
          "output_type": "stream",
          "name": "stdout",
          "text": [
            "n=16\n",
            "1\n",
            "2\n",
            "Fizz\n",
            "4\n",
            "Buzz\n",
            "Fizz\n",
            "7\n",
            "8\n",
            "Fizz\n",
            "Buzz\n",
            "11\n",
            "Fizz\n",
            "13\n",
            "14\n",
            "FizzBuzz\n"
          ]
        }
      ]
    }
  ]
}