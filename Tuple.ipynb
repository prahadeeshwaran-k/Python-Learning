{
  "nbformat": 4,
  "nbformat_minor": 0,
  "metadata": {
    "colab": {
      "name": "Tuple.ipynb",
      "provenance": [],
      "collapsed_sections": [],
      "authorship_tag": "ABX9TyNBjbnB7A5de2rcN0w9UL7b",
      "include_colab_link": true
    },
    "kernelspec": {
      "name": "python3",
      "display_name": "Python 3"
    },
    "language_info": {
      "name": "python"
    }
  },
  "cells": [
    {
      "cell_type": "markdown",
      "metadata": {
        "id": "view-in-github",
        "colab_type": "text"
      },
      "source": [
        "<a href=\"https://colab.research.google.com/github/prahadeeshwaran-k/Python-Learning/blob/main/Tuple.ipynb\" target=\"_parent\"><img src=\"https://colab.research.google.com/assets/colab-badge.svg\" alt=\"Open In Colab\"/></a>"
      ]
    },
    {
      "cell_type": "markdown",
      "source": [
        "**Create a Tuple**"
      ],
      "metadata": {
        "id": "gFm2JZ0IiFRS"
      }
    },
    {
      "cell_type": "code",
      "execution_count": null,
      "metadata": {
        "id": "vRnIsRWyh_ha",
        "colab": {
          "base_uri": "https://localhost:8080/"
        },
        "outputId": "855130dd-01aa-42a0-99ef-9fa37d19ff96"
      },
      "outputs": [
        {
          "output_type": "stream",
          "name": "stdout",
          "text": [
            "['One', 'Two', 'Three', 'Four', 'One']\n"
          ]
        }
      ],
      "source": [
        "mytuple = [\"One\",\"Two\",\"Three\",\"Four\",]\n",
        "print(mytuple)"
      ]
    },
    {
      "cell_type": "markdown",
      "source": [
        "**Tuples allow duplicate values**"
      ],
      "metadata": {
        "id": "jZd_LGsQ6uqf"
      }
    },
    {
      "cell_type": "code",
      "source": [
        "mytuple = [\"One\",\"Two\",\"Three\",\"Four\",\"One\"]\n",
        "print(mytuple)"
      ],
      "metadata": {
        "id": "ncWXQ0No3uzP",
        "colab": {
          "base_uri": "https://localhost:8080/"
        },
        "outputId": "e1efcbfc-43d4-4d30-e01e-326bfaf3f24b"
      },
      "execution_count": 6,
      "outputs": [
        {
          "output_type": "stream",
          "name": "stdout",
          "text": [
            "['One', 'Two', 'Three', 'Four', 'One']\n"
          ]
        }
      ]
    },
    {
      "cell_type": "markdown",
      "source": [
        "**Print the number of items in the tuple**"
      ],
      "metadata": {
        "id": "N7rpq7Sk66h3"
      }
    },
    {
      "cell_type": "code",
      "source": [
        "mytuple = [\"One\",\"Two\",\"Three\",\"Four\",\"One\"]\n",
        "print(len(mytuple))"
      ],
      "metadata": {
        "colab": {
          "base_uri": "https://localhost:8080/"
        },
        "id": "g5YTfgvq67q_",
        "outputId": "be4815b5-80c5-4e06-f30d-2d45476ce670"
      },
      "execution_count": 7,
      "outputs": [
        {
          "output_type": "stream",
          "name": "stdout",
          "text": [
            "5\n"
          ]
        }
      ]
    },
    {
      "cell_type": "markdown",
      "source": [
        "**Tuple items can be of any data type**"
      ],
      "metadata": {
        "id": "uaF1D_uA7Hz3"
      }
    },
    {
      "cell_type": "code",
      "source": [
        "tuple1 = (\"One\",\"Two\",\"Three\",\"Four\",\"One\")\n",
        "tuple2 = (1, 5, 7, 9, 3)\n",
        "tuple3 = (True, False, False)\n",
        "tuple4 = (\"abc\", 34, True, 40, \"male\")"
      ],
      "metadata": {
        "id": "LYa2LCCB7U7L"
      },
      "execution_count": 8,
      "outputs": []
    },
    {
      "cell_type": "markdown",
      "source": [
        "**What is the data type of a tuple?**"
      ],
      "metadata": {
        "id": "YXClkqdi7el1"
      }
    },
    {
      "cell_type": "code",
      "source": [
        "mytuple = list((\"One\",\"Two\",\"Three\",\"Four\",\"One\"))\n",
        "print(type(mytuple))"
      ],
      "metadata": {
        "colab": {
          "base_uri": "https://localhost:8080/"
        },
        "id": "BJ4eLRr-7du7",
        "outputId": "91658fd5-2a1f-4182-b777-15d99267ba15"
      },
      "execution_count": 14,
      "outputs": [
        {
          "output_type": "stream",
          "name": "stdout",
          "text": [
            "<class 'list'>\n"
          ]
        }
      ]
    },
    {
      "cell_type": "markdown",
      "source": [
        "**Using the tuple() method to make a tuple**"
      ],
      "metadata": {
        "id": "BPzaBOcC8Bop"
      }
    },
    {
      "cell_type": "code",
      "source": [
        "mytuple = tuple((\"One\",\"Two\",\"Three\",\"Four\",\"One\"))\n",
        "print(type(mytuple))"
      ],
      "metadata": {
        "colab": {
          "base_uri": "https://localhost:8080/"
        },
        "id": "-MwVF4sL8EOY",
        "outputId": "d7e2b2f0-7509-4c1c-8015-c5d89e411cb9"
      },
      "execution_count": 15,
      "outputs": [
        {
          "output_type": "stream",
          "name": "stdout",
          "text": [
            "<class 'tuple'>\n"
          ]
        }
      ]
    },
    {
      "cell_type": "markdown",
      "source": [
        "**Print the second item in the tuple**"
      ],
      "metadata": {
        "id": "WfBSeV6o8p-K"
      }
    },
    {
      "cell_type": "code",
      "source": [
        "mytuple = (\"One\",\"Two\",\"Three\",\"Four\",\"One\")\n",
        "print(mytuple[1])"
      ],
      "metadata": {
        "colab": {
          "base_uri": "https://localhost:8080/"
        },
        "id": "O0Hv33Yq8rvJ",
        "outputId": "59baa3a9-8a4b-4472-9558-639eed309a92"
      },
      "execution_count": 16,
      "outputs": [
        {
          "output_type": "stream",
          "name": "stdout",
          "text": [
            "Two\n"
          ]
        }
      ]
    },
    {
      "cell_type": "markdown",
      "source": [
        "**Print the last item of the tuple**"
      ],
      "metadata": {
        "id": "_ma9Xaa58z9I"
      }
    },
    {
      "cell_type": "code",
      "source": [
        "mytuple = (\"One\",\"Two\",\"Three\",\"Four\",\"One\")\n",
        "print(mytuple[-1])"
      ],
      "metadata": {
        "colab": {
          "base_uri": "https://localhost:8080/"
        },
        "id": "ao4_fXsr9Aco",
        "outputId": "5727091d-e7dd-43d6-95a9-dcd5b893a9ad"
      },
      "execution_count": 17,
      "outputs": [
        {
          "output_type": "stream",
          "name": "stdout",
          "text": [
            "One\n"
          ]
        }
      ]
    },
    {
      "cell_type": "markdown",
      "source": [
        "**Return the third, fourth, and fifth item**"
      ],
      "metadata": {
        "id": "MG6FDQja9RMG"
      }
    },
    {
      "cell_type": "code",
      "source": [
        "mytuple = (\"One\",\"Two\",\"Three\",\"Four\",\"Five\",\"six\")\n",
        "print(mytuple[2:5])"
      ],
      "metadata": {
        "colab": {
          "base_uri": "https://localhost:8080/"
        },
        "id": "An294qEj9SKk",
        "outputId": "a90cd3da-49c5-430f-a978-11b97fbd9ba3"
      },
      "execution_count": 18,
      "outputs": [
        {
          "output_type": "stream",
          "name": "stdout",
          "text": [
            "('Three', 'Four', 'Five')\n"
          ]
        }
      ]
    },
    {
      "cell_type": "markdown",
      "source": [
        "**Returns the items from the beginning to, but NOT included, \"kiwi\"**"
      ],
      "metadata": {
        "id": "uIWvbSp99qVg"
      }
    },
    {
      "cell_type": "code",
      "source": [
        "mytuple = (\"apple\", \"banana\", \"cherry\", \"orange\", \"kiwi\", \"melon\", \"mango\")\n",
        "print(mytuple[:4])"
      ],
      "metadata": {
        "colab": {
          "base_uri": "https://localhost:8080/"
        },
        "id": "tLwnJ4HQ9rR-",
        "outputId": "7bc1dbdb-212c-48d5-de21-898ea88b9d72"
      },
      "execution_count": 21,
      "outputs": [
        {
          "output_type": "stream",
          "name": "stdout",
          "text": [
            "('apple', 'banana', 'cherry', 'orange')\n"
          ]
        }
      ]
    },
    {
      "cell_type": "markdown",
      "source": [
        " **example returns the items from \"cherry\" and to the end**"
      ],
      "metadata": {
        "id": "tR8FryS6-Gpe"
      }
    },
    {
      "cell_type": "code",
      "source": [
        "mytuple = (\"apple\", \"banana\", \"cherry\", \"orange\", \"kiwi\", \"melon\", \"mango\")\n",
        "print(mytuple[2:])"
      ],
      "metadata": {
        "colab": {
          "base_uri": "https://localhost:8080/"
        },
        "id": "QGj8Sds9-HM3",
        "outputId": "ac1e0485-dfc6-487e-8da8-801a756c1824"
      },
      "execution_count": 22,
      "outputs": [
        {
          "output_type": "stream",
          "name": "stdout",
          "text": [
            "('cherry', 'orange', 'kiwi', 'melon', 'mango')\n"
          ]
        }
      ]
    },
    {
      "cell_type": "markdown",
      "source": [
        "**returns the items from index -4 (included) to index -1 (excluded)**"
      ],
      "metadata": {
        "id": "NiWh03Gj-Onf"
      }
    },
    {
      "cell_type": "code",
      "source": [
        "mytuple = (\"apple\", \"banana\", \"cherry\", \"orange\", \"kiwi\", \"melon\", \"mango\")\n",
        "print(mytuple[-4:-1])"
      ],
      "metadata": {
        "colab": {
          "base_uri": "https://localhost:8080/"
        },
        "id": "3wxfMqci-PlT",
        "outputId": "95a7c019-def3-4a19-8980-c68b7ee5f798"
      },
      "execution_count": 24,
      "outputs": [
        {
          "output_type": "stream",
          "name": "stdout",
          "text": [
            "('orange', 'kiwi', 'melon')\n"
          ]
        }
      ]
    },
    {
      "cell_type": "markdown",
      "source": [
        "**Check if \"apple\" is present in the tuple**"
      ],
      "metadata": {
        "id": "2ZVxxl8D-lX9"
      }
    },
    {
      "cell_type": "code",
      "source": [
        "mytuple = (\"apple\", \"banana\", \"cherry\", \"orange\", \"kiwi\", \"melon\", \"mango\")\n",
        "if \"apple\" in mytuple:\n",
        "  print(\"Yes,it contain Apple\")"
      ],
      "metadata": {
        "colab": {
          "base_uri": "https://localhost:8080/"
        },
        "id": "D_XoDVr7-mKp",
        "outputId": "ac445eb5-beda-49fe-f429-bff3e5a9dcd9"
      },
      "execution_count": 25,
      "outputs": [
        {
          "output_type": "stream",
          "name": "stdout",
          "text": [
            "Yes,it contain Apple\n"
          ]
        }
      ]
    },
    {
      "cell_type": "markdown",
      "source": [
        "**Convert the tuple into a list to be able to change it**"
      ],
      "metadata": {
        "id": "Kg3xawNeDzmh"
      }
    },
    {
      "cell_type": "code",
      "source": [
        "x = (1,2,3,4,5,6,7,8,9)\n",
        "y = list(x)\n",
        "y[1] = 0\n",
        "x = tuple(y)\n",
        "print(x)\n",
        "print(type(x))"
      ],
      "metadata": {
        "colab": {
          "base_uri": "https://localhost:8080/"
        },
        "id": "HeOymVHJ_Pn5",
        "outputId": "4b1e1ce9-3c12-4219-f3fc-889f953019ff"
      },
      "execution_count": 27,
      "outputs": [
        {
          "output_type": "stream",
          "name": "stdout",
          "text": [
            "(1, 0, 3, 4, 5, 6, 7, 8, 9)\n",
            "<class 'tuple'>\n"
          ]
        }
      ]
    },
    {
      "cell_type": "markdown",
      "source": [
        "**Convert the tuple into a list, add \"orange\", and convert it back into a tuple**"
      ],
      "metadata": {
        "id": "i0XoF_OgDsBt"
      }
    },
    {
      "cell_type": "code",
      "source": [
        "mytuple = (\"apple\", \"banana\", \"cherry\",\"kiwi\", \"melon\", \"mango\")\n",
        "x = list(mytuple)\n",
        "x.append(\"orange\")\n",
        "mytuple = tuple(x)\n",
        "print(mytuple)"
      ],
      "metadata": {
        "colab": {
          "base_uri": "https://localhost:8080/"
        },
        "id": "-zEkMULIDtJL",
        "outputId": "f24613b9-e611-4430-b3e5-cc3063f59692"
      },
      "execution_count": 28,
      "outputs": [
        {
          "output_type": "stream",
          "name": "stdout",
          "text": [
            "('apple', 'banana', 'cherry', 'kiwi', 'melon', 'mango', 'orange')\n"
          ]
        }
      ]
    },
    {
      "cell_type": "markdown",
      "source": [
        "**Create a new tuple with the value \"orange\", and add that tuple**"
      ],
      "metadata": {
        "id": "ODlAYtMJPfKd"
      }
    },
    {
      "cell_type": "code",
      "source": [
        "mytuple = (\"apple\", \"banana\", \"cherry\",\"kiwi\", \"melon\", \"mango\")\n",
        "y = (\"Orange\",)\n",
        "mytuple += y\n",
        "print(mytuple)"
      ],
      "metadata": {
        "colab": {
          "base_uri": "https://localhost:8080/"
        },
        "id": "vMVv3EC5Pkq0",
        "outputId": "694a0bb2-03cc-4788-edda-bdcfcb73847e"
      },
      "execution_count": 30,
      "outputs": [
        {
          "output_type": "stream",
          "name": "stdout",
          "text": [
            "('apple', 'banana', 'cherry', 'kiwi', 'melon', 'mango', 'Orange')\n"
          ]
        }
      ]
    },
    {
      "cell_type": "markdown",
      "source": [
        "**Convert the tuple into a list, remove \"apple\", and convert it back into a tuple**"
      ],
      "metadata": {
        "id": "Iouk5XMuR-OM"
      }
    },
    {
      "cell_type": "code",
      "source": [
        "mytuple = (\"apple\", \"banana\", \"cherry\",\"kiwi\", \"melon\", \"mango\")\n",
        "x = list(mytuple)\n",
        "x.remove(\"apple\")\n",
        "mytuple = tuple(x)\n",
        "print(mytuple)"
      ],
      "metadata": {
        "colab": {
          "base_uri": "https://localhost:8080/"
        },
        "id": "ose1FvOpPynn",
        "outputId": "b817d513-41b7-42df-de69-ca135dd93ee0"
      },
      "execution_count": 32,
      "outputs": [
        {
          "output_type": "stream",
          "name": "stdout",
          "text": [
            "('banana', 'cherry', 'kiwi', 'melon', 'mango')\n"
          ]
        }
      ]
    },
    {
      "cell_type": "code",
      "source": [
        "mytuple = (\"apple\", \"banana\", \"cherry\",\"kiwi\", \"melon\", \"mango\")\n",
        "x = list(mytuple)\n",
        "del x[0]\n",
        "mytuple = tuple(x)\n",
        "print(mytuple)"
      ],
      "metadata": {
        "colab": {
          "base_uri": "https://localhost:8080/"
        },
        "id": "JytNx6cTScWZ",
        "outputId": "f0796edc-12df-4508-fc97-f1751b912c2b"
      },
      "execution_count": 36,
      "outputs": [
        {
          "output_type": "stream",
          "name": "stdout",
          "text": [
            "('apple', 'cherry', 'kiwi', 'melon', 'mango')\n"
          ]
        }
      ]
    },
    {
      "cell_type": "markdown",
      "source": [
        "**The del keyword can delete the tuple completely**"
      ],
      "metadata": {
        "id": "xt37Cg3PS9aD"
      }
    },
    {
      "cell_type": "code",
      "source": [
        "mytuple = (\"apple\", \"banana\", \"cherry\",\"kiwi\", \"melon\", \"mango\")\n",
        "del mytuple"
      ],
      "metadata": {
        "id": "f99ZYE06hiku"
      },
      "execution_count": 16,
      "outputs": []
    },
    {
      "cell_type": "markdown",
      "source": [
        "**Unpacking a tuple**"
      ],
      "metadata": {
        "id": "Gim3catEkuJA"
      }
    },
    {
      "cell_type": "code",
      "source": [
        "mytuple = (\"apple\", \"banana\", \"cherry\",\"kiwi\", \"melon\", \"mango\")\n",
        "(one,two,three,four,five,six) = mytuple\n",
        "print(one)\n",
        "print(two)\n",
        "print(three)\n",
        "print(four)\n",
        "print(five)\n",
        "print(six)"
      ],
      "metadata": {
        "colab": {
          "base_uri": "https://localhost:8080/"
        },
        "id": "xLSxAW2mku6O",
        "outputId": "6ff04a36-a2cd-4e40-ea69-32f6da4e6403"
      },
      "execution_count": 19,
      "outputs": [
        {
          "output_type": "stream",
          "name": "stdout",
          "text": [
            "apple\n",
            "banana\n",
            "cherry\n",
            "kiwi\n",
            "melon\n",
            "mango\n"
          ]
        }
      ]
    },
    {
      "cell_type": "markdown",
      "source": [
        "**Iterate through the items and print the values**"
      ],
      "metadata": {
        "id": "VhSkk4XapnHc"
      }
    },
    {
      "cell_type": "code",
      "source": [
        "mytuple = (\"apple\", \"banana\", \"cherry\",\"kiwi\", \"melon\", \"mango\")\n",
        "for i in mytuple:\n",
        "  print(i)"
      ],
      "metadata": {
        "colab": {
          "base_uri": "https://localhost:8080/"
        },
        "id": "U2NDNYZOpoML",
        "outputId": "875f5e1e-3e17-4173-a587-13552ebf4b48"
      },
      "execution_count": 22,
      "outputs": [
        {
          "output_type": "stream",
          "name": "stdout",
          "text": [
            "apple\n",
            "banana\n",
            "cherry\n",
            "kiwi\n",
            "melon\n",
            "mango\n"
          ]
        }
      ]
    },
    {
      "cell_type": "markdown",
      "source": [
        "**Print all items by referring to their index number**"
      ],
      "metadata": {
        "id": "gL7XFh7uqITs"
      }
    },
    {
      "cell_type": "code",
      "source": [
        "mytuple = (\"apple\", \"banana\", \"cherry\",\"kiwi\", \"melon\", \"mango\")\n",
        "for i in range(len(mytuple)):\n",
        "  print(mytuple[i])"
      ],
      "metadata": {
        "colab": {
          "base_uri": "https://localhost:8080/"
        },
        "id": "TK3_CJSdqIsk",
        "outputId": "8e87f0d1-7eb3-42b9-85af-1b46512bdca0"
      },
      "execution_count": 24,
      "outputs": [
        {
          "output_type": "stream",
          "name": "stdout",
          "text": [
            "apple\n",
            "banana\n",
            "cherry\n",
            "kiwi\n",
            "melon\n",
            "mango\n"
          ]
        }
      ]
    },
    {
      "cell_type": "markdown",
      "source": [
        "**Print all items, using a while loop to go through all the index numbers**"
      ],
      "metadata": {
        "id": "bKXSAYmBupKp"
      }
    },
    {
      "cell_type": "code",
      "source": [
        "mytuple = (\"apple\", \"banana\", \"cherry\",\"kiwi\", \"melon\", \"mango\")\n",
        "i = 0\n",
        "while i< len(mytuple) :\n",
        "  print(mytuple[i])\n",
        "  i += 1"
      ],
      "metadata": {
        "colab": {
          "base_uri": "https://localhost:8080/"
        },
        "id": "RQeCnRJEuqHS",
        "outputId": "ae687244-2e96-4c90-dbfa-a56efe7addeb"
      },
      "execution_count": 27,
      "outputs": [
        {
          "output_type": "stream",
          "name": "stdout",
          "text": [
            "apple\n",
            "banana\n",
            "cherry\n",
            "kiwi\n",
            "melon\n",
            "mango\n"
          ]
        }
      ]
    },
    {
      "cell_type": "markdown",
      "source": [
        "**Join two tuples**"
      ],
      "metadata": {
        "id": "tVaXD6Xivppq"
      }
    },
    {
      "cell_type": "code",
      "source": [
        "mytuple1 = (\"apple\", \"banana\", \"cherry\",\"kiwi\", \"melon\", \"mango\")\n",
        "mytuple2 = (1,2,3,4,5,6)\n",
        "print(mytuple1 + mytuple2)\n"
      ],
      "metadata": {
        "colab": {
          "base_uri": "https://localhost:8080/"
        },
        "id": "qj-vJJdvvoO9",
        "outputId": "91661853-9d2d-4415-a101-d1daf401e695"
      },
      "execution_count": 28,
      "outputs": [
        {
          "output_type": "stream",
          "name": "stdout",
          "text": [
            "('apple', 'banana', 'cherry', 'kiwi', 'melon', 'mango', 1, 2, 3, 4, 5, 6)\n"
          ]
        }
      ]
    },
    {
      "cell_type": "code",
      "source": [
        "mytuple = (\"apple\", \"banana\", \"cherry\")\n",
        "tuplemultiply = mytuple * 2\n",
        "print(mytuple)"
      ],
      "metadata": {
        "colab": {
          "base_uri": "https://localhost:8080/"
        },
        "id": "QqOFPVRmwPAF",
        "outputId": "517c66ce-9208-44c8-d8e2-5b5801a05197"
      },
      "execution_count": 32,
      "outputs": [
        {
          "output_type": "stream",
          "name": "stdout",
          "text": [
            "('apple', 'banana', 'cherry')\n"
          ]
        }
      ]
    },
    {
      "cell_type": "markdown",
      "source": [
        "**FizzBuzz in Hackerrank**"
      ],
      "metadata": {
        "id": "1ykNSo43WPEJ"
      }
    },
    {
      "cell_type": "code",
      "source": [
        "n=int(input(\"n=\"))\n",
        "i=1\n",
        "while n > i :\n",
        "  if(i % 3 == 0 and i % 5 == 0):\n",
        "    print(\"FizzBuzz\")\n",
        "  elif i % 3 == 0:\n",
        "    print(\"Fizz\")\n",
        "  elif i % 5 == 0:\n",
        "    print(\"Buzz\")\n",
        "  else:\n",
        "    print(i)\n",
        "  i += 1"
      ],
      "metadata": {
        "colab": {
          "base_uri": "https://localhost:8080/"
        },
        "id": "5Idk39LZWPlW",
        "outputId": "9e6f0d62-0595-4d37-92cf-5667f30ead4b"
      },
      "execution_count": 14,
      "outputs": [
        {
          "output_type": "stream",
          "name": "stdout",
          "text": [
            "n=16\n",
            "1\n",
            "2\n",
            "Fizz\n",
            "4\n",
            "Buzz\n",
            "Fizz\n",
            "7\n",
            "8\n",
            "Fizz\n",
            "Buzz\n",
            "11\n",
            "Fizz\n",
            "13\n",
            "14\n",
            "FizzBuzz\n"
          ]
        }
      ]
    }
  ]
}