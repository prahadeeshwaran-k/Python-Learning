{
  "nbformat": 4,
  "nbformat_minor": 0,
  "metadata": {
    "colab": {
      "name": "Introduction OOP.ipynb",
      "provenance": [],
      "authorship_tag": "ABX9TyMyQ9CyEucayc0Hwl2j3IW2",
      "include_colab_link": true
    },
    "kernelspec": {
      "name": "python3",
      "display_name": "Python 3"
    },
    "language_info": {
      "name": "python"
    }
  },
  "cells": [
    {
      "cell_type": "markdown",
      "metadata": {
        "id": "view-in-github",
        "colab_type": "text"
      },
      "source": [
        "<a href=\"https://colab.research.google.com/github/prahadeeshwaran-k/Python-Learning/blob/main/Introduction_OOP.ipynb\" target=\"_parent\"><img src=\"https://colab.research.google.com/assets/colab-badge.svg\" alt=\"Open In Colab\"/></a>"
      ]
    },
    {
      "cell_type": "markdown",
      "source": [
        "# Python CALSS "
      ],
      "metadata": {
        "id": "2oQNY_D9Cafy"
      }
    },
    {
      "cell_type": "code",
      "execution_count": null,
      "metadata": {
        "colab": {
          "base_uri": "https://localhost:8080/"
        },
        "id": "C5RTZuXK6RAF",
        "outputId": "5d2abb24-9015-4d49-cc50-0900c239b0ec"
      },
      "outputs": [
        {
          "output_type": "stream",
          "name": "stdout",
          "text": [
            "<class 'list'>\n"
          ]
        }
      ],
      "source": [
        "#Ever thing in python is object\n",
        "#Example a list\n",
        "num = [1,2,3,4]\n",
        "print(type(num))"
      ]
    },
    {
      "cell_type": "markdown",
      "source": [
        "#To Check "
      ],
      "metadata": {
        "id": "MV4HYw29CxlH"
      }
    },
    {
      "cell_type": "code",
      "source": [
        "N1= 21\n",
        "print(type(N1))\n",
        "\n",
        "boolean = True\n",
        "print(type(boolean))\n",
        "\n",
        "def fun():\n",
        "    pass\n",
        "print(type(fun))"
      ],
      "metadata": {
        "colab": {
          "base_uri": "https://localhost:8080/"
        },
        "id": "DxXw9jfGC2iZ",
        "outputId": "b9fe4586-480b-45be-b37a-bf2da299dda0"
      },
      "execution_count": null,
      "outputs": [
        {
          "output_type": "stream",
          "name": "stdout",
          "text": [
            "<class 'int'>\n",
            "<class 'bool'>\n",
            "<class 'function'>\n"
          ]
        }
      ]
    },
    {
      "cell_type": "markdown",
      "source": [
        "# To see all a available attributes in a class by usind a dir() for object "
      ],
      "metadata": {
        "id": "GV1q3OUdDyVE"
      }
    },
    {
      "cell_type": "code",
      "source": [
        "num = [1,2,3,4,5,6,7,8]\n",
        "print(dir(num))"
      ],
      "metadata": {
        "colab": {
          "base_uri": "https://localhost:8080/"
        },
        "id": "YM4oCV7XDxnh",
        "outputId": "0de71f70-86cd-4013-8781-7b3acc2e42d4"
      },
      "execution_count": null,
      "outputs": [
        {
          "output_type": "stream",
          "name": "stdout",
          "text": [
            "['__add__', '__class__', '__contains__', '__delattr__', '__delitem__', '__dir__', '__doc__', '__eq__', '__format__', '__ge__', '__getattribute__', '__getitem__', '__gt__', '__hash__', '__iadd__', '__imul__', '__init__', '__init_subclass__', '__iter__', '__le__', '__len__', '__lt__', '__mul__', '__ne__', '__new__', '__reduce__', '__reduce_ex__', '__repr__', '__reversed__', '__rmul__', '__setattr__', '__setitem__', '__sizeof__', '__str__', '__subclasshook__', 'append', 'clear', 'copy', 'count', 'extend', 'index', 'insert', 'pop', 'remove', 'reverse', 'sort']\n"
          ]
        }
      ]
    },
    {
      "cell_type": "code",
      "source": [
        "result  = num.__add__([9,10])\n",
        "print(result)"
      ],
      "metadata": {
        "colab": {
          "base_uri": "https://localhost:8080/"
        },
        "id": "L8vYYN5mO11O",
        "outputId": "542e0343-454b-4e33-a2bd-591d45fb7c90"
      },
      "execution_count": null,
      "outputs": [
        {
          "output_type": "stream",
          "name": "stdout",
          "text": [
            "[1, 2, 3, 4, 5, 6, 7, 8, 9, 10]\n"
          ]
        }
      ]
    },
    {
      "cell_type": "markdown",
      "source": [
        "# ID has have all the class "
      ],
      "metadata": {
        "id": "0-1kh_7ePx1L"
      }
    },
    {
      "cell_type": "code",
      "source": [
        "num1 = 129\n",
        "print(id(num1))\n",
        "num2 = 678\n",
        "print(id(num2))"
      ],
      "metadata": {
        "colab": {
          "base_uri": "https://localhost:8080/"
        },
        "id": "31SKJsYAQPxg",
        "outputId": "2c163afd-1bde-4e8c-e6c3-d9b5ac49d7ea"
      },
      "execution_count": null,
      "outputs": [
        {
          "output_type": "stream",
          "name": "stdout",
          "text": [
            "94046897338880\n",
            "140328757170640\n"
          ]
        }
      ]
    },
    {
      "cell_type": "markdown",
      "source": [
        "# Create a Class"
      ],
      "metadata": {
        "id": "8jrHfQKbtXDU"
      }
    },
    {
      "cell_type": "code",
      "source": [
        "class myclass:\n",
        "    x = 6"
      ],
      "metadata": {
        "id": "m9DPrS_WtaDp"
      },
      "execution_count": null,
      "outputs": []
    },
    {
      "cell_type": "markdown",
      "source": [
        "#Create Object\n"
      ],
      "metadata": {
        "id": "q5SKEr9ftrtA"
      }
    },
    {
      "cell_type": "code",
      "source": [
        "class myclass:\n",
        "    x = 6\n",
        "object1 = myclass()\n",
        "print(object1.x)"
      ],
      "metadata": {
        "colab": {
          "base_uri": "https://localhost:8080/"
        },
        "id": "5oaJ_Ze6tuSn",
        "outputId": "5e71b914-4c5d-4c46-d0d5-d3ef8c312918"
      },
      "execution_count": null,
      "outputs": [
        {
          "output_type": "stream",
          "name": "stdout",
          "text": [
            "6\n"
          ]
        }
      ]
    },
    {
      "cell_type": "markdown",
      "source": [
        "# Basic Class for class with out constructor"
      ],
      "metadata": {
        "id": "AEnvWxXaIJWf"
      }
    },
    {
      "cell_type": "code",
      "source": [
        "class car():\n",
        "    pass\n",
        "\n",
        "#create an object\n",
        "honda = car()\n",
        "tata = car() \n",
        "\n",
        "honda.model = \"city\"\n",
        "honda.year = 2020\n",
        "honda.price = 1000000\n",
        "\n",
        "tata.model = \"bolt\"\n",
        "tata.year = 2021\n",
        "tata.price = 700000\n",
        "\n",
        "print(tata.price)"
      ],
      "metadata": {
        "colab": {
          "base_uri": "https://localhost:8080/"
        },
        "id": "S6L9yGu5IS-o",
        "outputId": "5c4a5ffc-3bad-448e-ee93-b1b86591681e"
      },
      "execution_count": null,
      "outputs": [
        {
          "output_type": "stream",
          "name": "stdout",
          "text": [
            "700000\n"
          ]
        }
      ]
    },
    {
      "cell_type": "markdown",
      "source": [
        "# Write a class with a constructor"
      ],
      "metadata": {
        "id": "DvM3uvpRPgVm"
      }
    },
    {
      "cell_type": "code",
      "source": [
        "class car():\n",
        "    def __init__(self,model,year,price):\n",
        "        self.model = model\n",
        "        self.year = year\n",
        "        self.price= price\n",
        "    def gst(self):\n",
        "        self.price = int(self.price * 2.2)\n",
        "\n",
        "Honda = car(\"city\",2020,100000)\n",
        "Toyota = car(\"alto\",2021,50000)\n",
        "Tata = car(\"Bolt\",1992,180000)\n",
        "\n",
        "#Creat new variable\n",
        "Honda.cc = 1550\n",
        "\n",
        "print(Honda.__dict__)\n",
        "print(Toyota.__dict__)\n",
        "print(Honda.price)\n",
        "\n",
        "#Here what happen is crear a instance of a object when it was called\n",
        "Honda.gst()\n",
        "print(Honda.price)\n",
        "\n"
      ],
      "metadata": {
        "colab": {
          "base_uri": "https://localhost:8080/"
        },
        "id": "sTBVP4GAPqlT",
        "outputId": "1b082aff-78f6-4822-c8d6-ceb4be3ade2c"
      },
      "execution_count": null,
      "outputs": [
        {
          "output_type": "stream",
          "name": "stdout",
          "text": [
            "{'model': 'city', 'year': 2020, 'price': 100000, 'cc': 1550}\n",
            "{'model': 'alto', 'year': 2021, 'price': 50000}\n",
            "100000\n",
            "220000\n"
          ]
        }
      ]
    },
    {
      "cell_type": "markdown",
      "source": [
        "# Super Class"
      ],
      "metadata": {
        "id": "AGrGpMH1GJK0"
      }
    },
    {
      "cell_type": "code",
      "source": [
        "class car():\n",
        "    def __init__(self,model,year,price):\n",
        "        self.model = model\n",
        "        self.year = year\n",
        "        self.price= price\n",
        "    def gst(self):\n",
        "        self.price = int(self.price * 2.2)\n",
        "\n",
        "#here the superclass did not mention but we all characters of parent class \n",
        "class supercar(car):\n",
        "    pass\n",
        "\n",
        "Tesla = supercar(\"Plade\",2021,200000)\n",
        "print(Tesla.__dict__)\n",
        "Tesla.gst()\n",
        "print(Tesla.price)"
      ],
      "metadata": {
        "colab": {
          "base_uri": "https://localhost:8080/"
        },
        "id": "QCZeOGNEGMCX",
        "outputId": "053ddde0-61db-4ad7-8121-ff0aff7269c1"
      },
      "execution_count": null,
      "outputs": [
        {
          "output_type": "stream",
          "name": "stdout",
          "text": [
            "{'model': 'Plade', 'year': 2021, 'price': 200000}\n",
            "440000\n"
          ]
        }
      ]
    },
    {
      "cell_type": "markdown",
      "source": [
        "# Well Another example "
      ],
      "metadata": {
        "id": "w60mCxkSEgAr"
      }
    },
    {
      "cell_type": "code",
      "source": [
        "class Item:\n",
        "    def Total(myparameter,x,y):\n",
        "        return x * y\n",
        "\n",
        "item1 = Item()\n",
        "item1.name = \"Google pixel 6 pro\"\n",
        "item1.price = 450000\n",
        "item1.quantity = 2\n",
        "\n",
        "print(item1.__dict__)\n",
        "\n",
        "#Here item1 is passes to myparameter\n",
        "#item1.price is passes to x\n",
        "#item1.price  is passes to y\n",
        "print(item1.Total(item1.price,item1.quantity))\n"
      ],
      "metadata": {
        "colab": {
          "base_uri": "https://localhost:8080/"
        },
        "id": "nMem-fqEGC9S",
        "outputId": "d8d4d90d-f8d1-4e57-d691-1b2e704c579d"
      },
      "execution_count": null,
      "outputs": [
        {
          "output_type": "stream",
          "name": "stdout",
          "text": [
            "900000\n",
            "{'name': 'Google pixel 6 pro', 'price': 450000, 'quantity': 2}\n"
          ]
        }
      ]
    }
  ]
}