{
  "nbformat": 4,
  "nbformat_minor": 0,
  "metadata": {
    "colab": {
      "name": "Introduction OOP.ipynb",
      "provenance": [],
      "authorship_tag": "ABX9TyPUg28TtT6qdYPne+jqXz/A",
      "include_colab_link": true
    },
    "kernelspec": {
      "name": "python3",
      "display_name": "Python 3"
    },
    "language_info": {
      "name": "python"
    }
  },
  "cells": [
    {
      "cell_type": "markdown",
      "metadata": {
        "id": "view-in-github",
        "colab_type": "text"
      },
      "source": [
        "<a href=\"https://colab.research.google.com/github/prahadeeshwaran-k/Python-Learning/blob/main/Introduction_OOP.ipynb\" target=\"_parent\"><img src=\"https://colab.research.google.com/assets/colab-badge.svg\" alt=\"Open In Colab\"/></a>"
      ]
    },
    {
      "cell_type": "markdown",
      "source": [
        "# Python CALSS "
      ],
      "metadata": {
        "id": "2oQNY_D9Cafy"
      }
    },
    {
      "cell_type": "code",
      "execution_count": 1,
      "metadata": {
        "colab": {
          "base_uri": "https://localhost:8080/"
        },
        "id": "C5RTZuXK6RAF",
        "outputId": "49f5d0a1-5738-4d8e-a997-cdac9b38e5cc"
      },
      "outputs": [
        {
          "output_type": "stream",
          "name": "stdout",
          "text": [
            "<class 'list'>\n"
          ]
        }
      ],
      "source": [
        "#Ever thing in python is class\n",
        "num = [1,2,3,4]\n",
        "print(type(num))"
      ]
    },
    {
      "cell_type": "markdown",
      "source": [
        "#To Check "
      ],
      "metadata": {
        "id": "MV4HYw29CxlH"
      }
    },
    {
      "cell_type": "code",
      "source": [
        "N1= 21\n",
        "print(type(N1))\n",
        "\n",
        "boolean = True\n",
        "print(type(boolean))\n",
        "\n",
        "def fun():\n",
        "    pass\n",
        "print(type(fun))"
      ],
      "metadata": {
        "colab": {
          "base_uri": "https://localhost:8080/"
        },
        "id": "DxXw9jfGC2iZ",
        "outputId": "b9fe4586-480b-45be-b37a-bf2da299dda0"
      },
      "execution_count": 2,
      "outputs": [
        {
          "output_type": "stream",
          "name": "stdout",
          "text": [
            "<class 'int'>\n",
            "<class 'bool'>\n",
            "<class 'function'>\n"
          ]
        }
      ]
    },
    {
      "cell_type": "markdown",
      "source": [
        "# To see all a available attributes in a class by usind a dir() for object "
      ],
      "metadata": {
        "id": "GV1q3OUdDyVE"
      }
    },
    {
      "cell_type": "code",
      "source": [
        "num = [1,2,3,4,5,6,7,8]\n",
        "print(dir(num))"
      ],
      "metadata": {
        "colab": {
          "base_uri": "https://localhost:8080/"
        },
        "id": "YM4oCV7XDxnh",
        "outputId": "0de71f70-86cd-4013-8781-7b3acc2e42d4"
      },
      "execution_count": 4,
      "outputs": [
        {
          "output_type": "stream",
          "name": "stdout",
          "text": [
            "['__add__', '__class__', '__contains__', '__delattr__', '__delitem__', '__dir__', '__doc__', '__eq__', '__format__', '__ge__', '__getattribute__', '__getitem__', '__gt__', '__hash__', '__iadd__', '__imul__', '__init__', '__init_subclass__', '__iter__', '__le__', '__len__', '__lt__', '__mul__', '__ne__', '__new__', '__reduce__', '__reduce_ex__', '__repr__', '__reversed__', '__rmul__', '__setattr__', '__setitem__', '__sizeof__', '__str__', '__subclasshook__', 'append', 'clear', 'copy', 'count', 'extend', 'index', 'insert', 'pop', 'remove', 'reverse', 'sort']\n"
          ]
        }
      ]
    },
    {
      "cell_type": "code",
      "source": [
        "result  = num.__add__([9,10])\n",
        "print(result)"
      ],
      "metadata": {
        "colab": {
          "base_uri": "https://localhost:8080/"
        },
        "id": "L8vYYN5mO11O",
        "outputId": "542e0343-454b-4e33-a2bd-591d45fb7c90"
      },
      "execution_count": 6,
      "outputs": [
        {
          "output_type": "stream",
          "name": "stdout",
          "text": [
            "[1, 2, 3, 4, 5, 6, 7, 8, 9, 10]\n"
          ]
        }
      ]
    },
    {
      "cell_type": "markdown",
      "source": [
        "# ID has have all the class "
      ],
      "metadata": {
        "id": "0-1kh_7ePx1L"
      }
    },
    {
      "cell_type": "code",
      "source": [
        "num1 = 129\n",
        "print(id(num1))\n",
        "num2 = 678\n",
        "print(id(num2))"
      ],
      "metadata": {
        "colab": {
          "base_uri": "https://localhost:8080/"
        },
        "id": "31SKJsYAQPxg",
        "outputId": "2c163afd-1bde-4e8c-e6c3-d9b5ac49d7ea"
      },
      "execution_count": 7,
      "outputs": [
        {
          "output_type": "stream",
          "name": "stdout",
          "text": [
            "94046897338880\n",
            "140328757170640\n"
          ]
        }
      ]
    }
  ]
}