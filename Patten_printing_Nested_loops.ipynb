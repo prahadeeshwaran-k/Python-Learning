{
  "nbformat": 4,
  "nbformat_minor": 0,
  "metadata": {
    "colab": {
      "name": "Patten printing Nested loops.ipynb",
      "provenance": [],
      "authorship_tag": "ABX9TyMywIcggKepu81vy/jBpm4P",
      "include_colab_link": true
    },
    "kernelspec": {
      "name": "python3",
      "display_name": "Python 3"
    },
    "language_info": {
      "name": "python"
    },
    "accelerator": "TPU"
  },
  "cells": [
    {
      "cell_type": "markdown",
      "metadata": {
        "id": "view-in-github",
        "colab_type": "text"
      },
      "source": [
        "<a href=\"https://colab.research.google.com/github/prahadeeshwaran-k/Python-Learning/blob/main/Patten_printing_Nested_loops.ipynb\" target=\"_parent\"><img src=\"https://colab.research.google.com/assets/colab-badge.svg\" alt=\"Open In Colab\"/></a>"
      ]
    },
    {
      "cell_type": "markdown",
      "source": [
        "#1. Printing Stars '*' in square matrix n X n\n",
        "---\n",
        "\n",
        "\n",
        "```\n",
        "* * * * * * \n",
        "* * * * * * \n",
        "* * * * * * \n",
        "* * * * * * \n",
        "* * * * * * \n",
        "```\n",
        "\n"
      ],
      "metadata": {
        "id": "NGtQORa75VkE"
      }
    },
    {
      "cell_type": "code",
      "source": [
        "n = int(input(\"Enter anumber of Rows and Column :\")) \n",
        "for i in range(n):\n",
        "    for j in range(n):\n",
        "        print(\"*\",end=\" \")\n",
        "    print(end=\"\\n\")"
      ],
      "metadata": {
        "id": "vmzt06-65m1Y"
      },
      "execution_count": null,
      "outputs": []
    },
    {
      "cell_type": "markdown",
      "source": [
        "#2. Printing Stars '*' in Right Angle Triangle Shape\n",
        "\n",
        "\n",
        "\n",
        "---\n",
        "\n",
        "```\n",
        "*\n",
        "* *\n",
        "* * *\n",
        "* * * *\n",
        "* * * * *\n",
        "```\n",
        "\n",
        "\n"
      ],
      "metadata": {
        "id": "uo-srDPxgm1-"
      }
    },
    {
      "cell_type": "code",
      "source": [
        "n = int(input(\"Enter a number of Row and  Column :\"))\n",
        "for i in range(n+1):\n",
        "    for j in range(i):\n",
        "        print(\"*\",end=\" \")\n",
        "    print(end=\"\\n\")"
      ],
      "metadata": {
        "id": "5oRz3bxZ3znP"
      },
      "execution_count": null,
      "outputs": []
    },
    {
      "cell_type": "markdown",
      "source": [
        "#3. Printing Stars '*' in reversed Right Angle Triangle Shape\n",
        "---\n",
        "\n",
        "\n",
        "```\n",
        "* * * * * \n",
        "* * * * \n",
        "* * * \n",
        "* * \n",
        "* \n",
        "```\n",
        "\n"
      ],
      "metadata": {
        "id": "FXGxlL9FfUzt"
      }
    },
    {
      "cell_type": "code",
      "source": [
        "num = int(input(\"Enter a number of column :\"))\n",
        "for i in range(1,num+1):\n",
        "    for j in range(i,num+1):\n",
        "        print(\"*\",end = \" \")\n",
        "    print(end = \"\\n\")"
      ],
      "metadata": {
        "id": "FIFy5PnYUroS"
      },
      "execution_count": null,
      "outputs": []
    },
    {
      "cell_type": "markdown",
      "source": [
        "# Print a Right triangle pyramid of *\n",
        "\n",
        "```\n",
        "          * \n",
        "        * * \n",
        "      * * * \n",
        "    * * * * \n",
        "  * * * * *\n",
        "```\n"
      ],
      "metadata": {
        "id": "K420LFR3tWLW"
      }
    },
    {
      "cell_type": "code",
      "source": [
        "num = int(input(\"Enter a number :\"))\n",
        "for i in range(num+1):\n",
        "    for j in range(i,num+1):\n",
        "        print(\" \",end=\" \")\n",
        "    for j in range(i):\n",
        "        print(\"*\",end=\" \")\n",
        "    print()"
      ],
      "metadata": {
        "colab": {
          "base_uri": "https://localhost:8080/"
        },
        "id": "A95a4b87nnNM",
        "outputId": "9417e289-ac9b-4f49-d623-cd4c1d20c4eb"
      },
      "execution_count": 4,
      "outputs": [
        {
          "output_type": "stream",
          "name": "stdout",
          "text": [
            "Enter a number :5\n",
            "            \n",
            "          * \n",
            "        * * \n",
            "      * * * \n",
            "    * * * * \n",
            "  * * * * * \n"
          ]
        }
      ]
    },
    {
      "cell_type": "markdown",
      "source": [
        "#Print a Right triangle pyramid of *\n",
        "\n",
        "\n",
        "```\n",
        "* * * * *  \n",
        "  * * * *  \n",
        "    * * *  \n",
        "      * *  \n",
        "        *  \n",
        "```\n",
        "\n"
      ],
      "metadata": {
        "id": "kurVcs3sxXNH"
      }
    },
    {
      "cell_type": "code",
      "source": [
        "num = int(input(\"enter a number of  column :\"))\n",
        "for i in range(num+1):\n",
        "    for j in range(i):\n",
        "        print(\" \",end=\" \")\n",
        "    for i in range(i,num):\n",
        "        print(\"*\",end=\" \")\n",
        "    print(\" \")"
      ],
      "metadata": {
        "colab": {
          "base_uri": "https://localhost:8080/"
        },
        "id": "Pc13iXqlv8-M",
        "outputId": "3129af20-ad01-4046-dbdf-e507cba412c8"
      },
      "execution_count": 6,
      "outputs": [
        {
          "output_type": "stream",
          "name": "stdout",
          "text": [
            "enter a number of  column :5\n",
            "* * * * *  \n",
            "  * * * *  \n",
            "    * * *  \n",
            "      * *  \n",
            "        *  \n",
            "           \n"
          ]
        }
      ]
    }
  ]
}