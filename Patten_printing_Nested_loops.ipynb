{
  "nbformat": 4,
  "nbformat_minor": 0,
  "metadata": {
    "colab": {
      "name": "Patten printing Nested loops.ipynb",
      "provenance": [],
      "authorship_tag": "ABX9TyP/sibb68bNHMVpH6I2FFbI",
      "include_colab_link": true
    },
    "kernelspec": {
      "name": "python3",
      "display_name": "Python 3"
    },
    "language_info": {
      "name": "python"
    },
    "accelerator": "TPU"
  },
  "cells": [
    {
      "cell_type": "markdown",
      "metadata": {
        "id": "view-in-github",
        "colab_type": "text"
      },
      "source": [
        "<a href=\"https://colab.research.google.com/github/prahadeeshwaran-k/Python-Learning/blob/main/Patten_printing_Nested_loops.ipynb\" target=\"_parent\"><img src=\"https://colab.research.google.com/assets/colab-badge.svg\" alt=\"Open In Colab\"/></a>"
      ]
    },
    {
      "cell_type": "markdown",
      "source": [
        "#1. Printing Stars '*' in square matrix n X n\n",
        "---\n",
        "\n",
        "\n",
        "```\n",
        "* * * * * * \n",
        "* * * * * * \n",
        "* * * * * * \n",
        "* * * * * * \n",
        "* * * * * * \n",
        "```\n",
        "\n"
      ],
      "metadata": {
        "id": "NGtQORa75VkE"
      }
    },
    {
      "cell_type": "code",
      "source": [
        "n = int(input(\"Enter anumber of Rows and Column :\")) \n",
        "for i in range(n):\n",
        "    for j in range(n):\n",
        "        print(\"*\",end=\" \")\n",
        "    print(end=\"\\n\")"
      ],
      "metadata": {
        "id": "vmzt06-65m1Y"
      },
      "execution_count": null,
      "outputs": []
    },
    {
      "cell_type": "markdown",
      "source": [
        "#2. Printing Stars '*' in Right Angle Triangle Shape\n",
        "\n",
        "\n",
        "\n",
        "---\n",
        "\n",
        "```\n",
        "*\n",
        "* *\n",
        "* * *\n",
        "* * * *\n",
        "* * * * *\n",
        "```\n",
        "\n",
        "\n"
      ],
      "metadata": {
        "id": "uo-srDPxgm1-"
      }
    },
    {
      "cell_type": "code",
      "source": [
        "n = 5\n",
        "for i in range(1,n+1):\n",
        "    print(\"* \"*i)"
      ],
      "metadata": {
        "colab": {
          "base_uri": "https://localhost:8080/"
        },
        "id": "pIND-66o68os",
        "outputId": "e6c18367-bdd6-422e-c894-06c9b1fda87a"
      },
      "execution_count": 10,
      "outputs": [
        {
          "output_type": "stream",
          "name": "stdout",
          "text": [
            "* \n",
            "* * \n",
            "* * * \n",
            "* * * * \n",
            "* * * * * \n"
          ]
        }
      ]
    },
    {
      "cell_type": "code",
      "source": [
        "n = int(input(\"Enter a number of Row and  Column :\"))\n",
        "for i in range(n+1):\n",
        "    for j in range(i):\n",
        "        print(\"*\",end=\" \")\n",
        "    print(end=\"\\n\")"
      ],
      "metadata": {
        "id": "5oRz3bxZ3znP"
      },
      "execution_count": null,
      "outputs": []
    },
    {
      "cell_type": "markdown",
      "source": [
        "#3. Printing Stars '*' in reversed Right Angle Triangle Shape\n",
        "---\n",
        "\n",
        "\n",
        "```\n",
        "* * * * * \n",
        "* * * * \n",
        "* * * \n",
        "* * \n",
        "* \n",
        "```\n",
        "\n"
      ],
      "metadata": {
        "id": "FXGxlL9FfUzt"
      }
    },
    {
      "cell_type": "code",
      "source": [
        "num = int(input(\"Enter a number of column :\"))\n",
        "for i in range(1,num+1):\n",
        "    for j in range(i,num+1):\n",
        "        print(\"*\",end = \" \")\n",
        "    print(end = \"\\n\")"
      ],
      "metadata": {
        "id": "FIFy5PnYUroS"
      },
      "execution_count": null,
      "outputs": []
    },
    {
      "cell_type": "markdown",
      "source": [
        "#4. Print a Right triangle pyramid of *\n",
        "\n",
        "```\n",
        "          * \n",
        "        * * \n",
        "      * * * \n",
        "    * * * * \n",
        "  * * * * *\n",
        "```\n"
      ],
      "metadata": {
        "id": "K420LFR3tWLW"
      }
    },
    {
      "cell_type": "code",
      "source": [
        "num = int(input(\"Enter a number :\"))\n",
        "for i in range(num+1):\n",
        "    for j in range(i,num+1):\n",
        "        print(\" \",end=\" \")\n",
        "    for j in range(i):\n",
        "        print(\"*\",end=\" \")\n",
        "    print()"
      ],
      "metadata": {
        "colab": {
          "base_uri": "https://localhost:8080/"
        },
        "id": "A95a4b87nnNM",
        "outputId": "9417e289-ac9b-4f49-d623-cd4c1d20c4eb"
      },
      "execution_count": 4,
      "outputs": [
        {
          "output_type": "stream",
          "name": "stdout",
          "text": [
            "Enter a number :5\n",
            "            \n",
            "          * \n",
            "        * * \n",
            "      * * * \n",
            "    * * * * \n",
            "  * * * * * \n"
          ]
        }
      ]
    },
    {
      "cell_type": "markdown",
      "source": [
        "#5. Print a Right triangle pyramid of *\n",
        "\n",
        "\n",
        "```\n",
        "  * * * * *  \n",
        "    * * * *  \n",
        "      * * *  \n",
        "        * *  \n",
        "          *   \n",
        "```\n",
        "\n"
      ],
      "metadata": {
        "id": "kurVcs3sxXNH"
      }
    },
    {
      "cell_type": "code",
      "source": [
        "num = int(input(\"enter a number of  column :\"))\n",
        "for i in range(num+1):\n",
        "    for j in range(i+1):\n",
        "        print(\" \",end=\" \")\n",
        "    for i in range(i,num):\n",
        "        print(\"*\",end=\" \")\n",
        "    print(\" \")"
      ],
      "metadata": {
        "colab": {
          "base_uri": "https://localhost:8080/"
        },
        "id": "Pc13iXqlv8-M",
        "outputId": "3078bec2-b0b8-4fce-ac51-c812ded0601a"
      },
      "execution_count": 8,
      "outputs": [
        {
          "output_type": "stream",
          "name": "stdout",
          "text": [
            "enter a number of  column :5\n",
            "  * * * * *  \n",
            "    * * * *  \n",
            "      * * *  \n",
            "        * *  \n",
            "          *  \n",
            "             \n"
          ]
        }
      ]
    },
    {
      "cell_type": "markdown",
      "source": [
        "#6. Print hill Shape triangel \n",
        "\n",
        "\n",
        "```\n",
        "          *  \n",
        "        * * *  \n",
        "      * * * * *  \n",
        "    * * * * * * *  \n",
        "  * * * * * * * * * \n",
        "```"
      ],
      "metadata": {
        "id": "cUNfEIxW3-cn"
      }
    },
    {
      "cell_type": "code",
      "source": [
        "num = int(input(\"Enter a number on column: \"))\n",
        "for i in range(1,num+1):\n",
        "    for j in range(i,num+1):\n",
        "        print(\" \",end=\" \")\n",
        "    for j in range(i):\n",
        "        print(\"*\",end=\" \")\n",
        "    for j in range(i-1):\n",
        "        print(\"*\",end=\" \")\n",
        "    print(\" \")\n"
      ],
      "metadata": {
        "colab": {
          "base_uri": "https://localhost:8080/"
        },
        "id": "zfj6rZ2I4J-i",
        "outputId": "2e5724aa-b9c8-434b-a70d-cd64b90cfd50"
      },
      "execution_count": 19,
      "outputs": [
        {
          "output_type": "stream",
          "name": "stdout",
          "text": [
            "Enter a number on column: 5\n",
            "          *  \n",
            "        * * *  \n",
            "      * * * * *  \n",
            "    * * * * * * *  \n",
            "  * * * * * * * * *  \n"
          ]
        }
      ]
    }
  ]
}