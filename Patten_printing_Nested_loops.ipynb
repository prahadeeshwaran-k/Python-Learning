{
  "nbformat": 4,
  "nbformat_minor": 0,
  "metadata": {
    "colab": {
      "name": "Patten printing Nested loops.ipynb",
      "provenance": [],
      "authorship_tag": "ABX9TyP9OIo6yNcqG5XXMVii+7An",
      "include_colab_link": true
    },
    "kernelspec": {
      "name": "python3",
      "display_name": "Python 3"
    },
    "language_info": {
      "name": "python"
    },
    "accelerator": "TPU"
  },
  "cells": [
    {
      "cell_type": "markdown",
      "metadata": {
        "id": "view-in-github",
        "colab_type": "text"
      },
      "source": [
        "<a href=\"https://colab.research.google.com/github/prahadeeshwaran-k/Python-Learning/blob/main/Patten_printing_Nested_loops.ipynb\" target=\"_parent\"><img src=\"https://colab.research.google.com/assets/colab-badge.svg\" alt=\"Open In Colab\"/></a>"
      ]
    },
    {
      "cell_type": "markdown",
      "source": [
        "# To print a number with 2 with dimension\n",
        "\n",
        "\n"
      ],
      "metadata": {
        "id": "iSzxbEWSFiq0"
      }
    },
    {
      "cell_type": "code",
      "source": [
        "num = int(input(\"enter a number of patten lines: \"))\n",
        "for i in range(1,num+1):\n",
        "    for j in range(1,num+1):\n",
        "        print(j,end='')\n",
        "    print()"
      ],
      "metadata": {
        "colab": {
          "base_uri": "https://localhost:8080/"
        },
        "id": "LpHzj5G7dUxq",
        "outputId": "1d622fbb-88b7-4e51-80df-99a87692ca2e"
      },
      "execution_count": null,
      "outputs": [
        {
          "output_type": "stream",
          "name": "stdout",
          "text": [
            "enter a number of patten lines: 10\n",
            "12345678910\n",
            "12345678910\n",
            "12345678910\n",
            "12345678910\n",
            "12345678910\n",
            "12345678910\n",
            "12345678910\n",
            "12345678910\n",
            "12345678910\n",
            "12345678910\n"
          ]
        }
      ]
    },
    {
      "cell_type": "markdown",
      "source": [
        "# Printing Stars '*' in Right Angle Triangle Shape\n",
        "\n",
        "\n",
        "```\n",
        "*\n",
        "**\n",
        "***\n",
        "****\n",
        "*****\n",
        "```\n",
        "\n"
      ],
      "metadata": {
        "id": "uo-srDPxgm1-"
      }
    },
    {
      "cell_type": "code",
      "source": [
        "num = int(input(\" enter a number of colume in :\"))\n",
        "for i  in range(1,num+1):\n",
        "    for j in range(1,i+1):\n",
        "        print(\"*\",end=\"\")\n",
        "    print(end=\"\\n\")"
      ],
      "metadata": {
        "colab": {
          "base_uri": "https://localhost:8080/"
        },
        "id": "5oRz3bxZ3znP",
        "outputId": "84fd3f89-772e-4058-cc36-492ef31754f8"
      },
      "execution_count": null,
      "outputs": [
        {
          "output_type": "stream",
          "name": "stdout",
          "text": [
            " enter a number of colume in :5\n",
            "*\n",
            "**\n",
            "***\n",
            "****\n",
            "*****\n"
          ]
        }
      ]
    },
    {
      "cell_type": "markdown",
      "source": [
        "# To print a number in increaseing order\n",
        "\n",
        "```\n",
        "1 \n",
        "1 2 \n",
        "1 2 3 \n",
        "1 2 3 4 \n",
        "1 2 3 4 5\n",
        "```\n",
        "\n",
        "\n",
        "\n",
        "\n",
        "\n",
        "\n",
        "\n"
      ],
      "metadata": {
        "id": "SMB0NEle5Twz"
      }
    },
    {
      "cell_type": "code",
      "source": [
        "num = int(input(\"enter a number of colum :\"))\n",
        "for i in range(1,num+1):\n",
        "    for j in range(1,i+1):\n",
        "        print(j, end=\"\")\n",
        "    print(end=\"\\n\")\n"
      ],
      "metadata": {
        "colab": {
          "base_uri": "https://localhost:8080/"
        },
        "id": "Oe5ce7U_5hle",
        "outputId": "1b962610-7623-4553-98db-2ca19d02c18d"
      },
      "execution_count": null,
      "outputs": [
        {
          "output_type": "stream",
          "name": "stdout",
          "text": [
            "enter a number of colum :5\n",
            "1\n",
            "12\n",
            "123\n",
            "1234\n",
            "12345\n"
          ]
        }
      ]
    },
    {
      "cell_type": "markdown",
      "source": [
        "# Inverted pyramid pattern of numbers\n",
        "\n",
        "\n",
        "```\n",
        "1 1 1 1 1 \n",
        "2 2 2 2 \n",
        "3 3 3 \n",
        "4 4 \n",
        "5\n",
        "```\n",
        "\n",
        "\n"
      ],
      "metadata": {
        "id": "_S420IfIXC3e"
      }
    },
    {
      "cell_type": "code",
      "source": [
        "row = int(input(\"enter a numbers of rows\"))\n",
        "temp = 1\n",
        "for i in range(1,row+1,-1):\n",
        "    temp += 1\n",
        "    for j in range(1,)"
      ],
      "metadata": {
        "id": "NmCqMI7EXBor"
      },
      "execution_count": null,
      "outputs": []
    }
  ]
}