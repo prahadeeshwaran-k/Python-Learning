{
  "nbformat": 4,
  "nbformat_minor": 0,
  "metadata": {
    "colab": {
      "name": "Patten printing Nested loops.ipynb",
      "provenance": [],
      "authorship_tag": "ABX9TyP7A+YJRJy9jyMvDCB1qxwl",
      "include_colab_link": true
    },
    "kernelspec": {
      "name": "python3",
      "display_name": "Python 3"
    },
    "language_info": {
      "name": "python"
    },
    "accelerator": "TPU"
  },
  "cells": [
    {
      "cell_type": "markdown",
      "metadata": {
        "id": "view-in-github",
        "colab_type": "text"
      },
      "source": [
        "<a href=\"https://colab.research.google.com/github/prahadeeshwaran-k/Python-Learning/blob/main/Patten_printing_Nested_loops.ipynb\" target=\"_parent\"><img src=\"https://colab.research.google.com/assets/colab-badge.svg\" alt=\"Open In Colab\"/></a>"
      ]
    },
    {
      "cell_type": "markdown",
      "source": [
        "# Printing Stars '*' in square matrix n X n\n",
        "---\n",
        "\n",
        "\n",
        "```\n",
        "* * * * * * \n",
        "* * * * * * \n",
        "* * * * * * \n",
        "* * * * * * \n",
        "* * * * * * \n",
        "```\n",
        "\n"
      ],
      "metadata": {
        "id": "NGtQORa75VkE"
      }
    },
    {
      "cell_type": "code",
      "source": [
        "n = int(input(\"Enter anumber of Rows and Column :\")) \n",
        "for i in range(n):\n",
        "    for j in range(n):\n",
        "        print(\"*\",end=\" \")\n",
        "    print(end=\"\\n\")"
      ],
      "metadata": {
        "colab": {
          "base_uri": "https://localhost:8080/"
        },
        "id": "vmzt06-65m1Y",
        "outputId": "464c9628-c17d-48bf-96b3-351299c80e3d"
      },
      "execution_count": null,
      "outputs": [
        {
          "output_type": "stream",
          "name": "stdout",
          "text": [
            "Enter anumber of Rows and Column :5\n",
            "* * * * * \n",
            "* * * * * \n",
            "* * * * * \n",
            "* * * * * \n",
            "* * * * * \n"
          ]
        }
      ]
    },
    {
      "cell_type": "markdown",
      "source": [
        "# Printing Stars '*' in Right Angle Triangle Shape\n",
        "\n",
        "\n",
        "\n",
        "---\n",
        "\n",
        "```\n",
        "*\n",
        "* *\n",
        "* * *\n",
        "* * * *\n",
        "* * * * *\n",
        "```\n",
        "\n",
        "\n"
      ],
      "metadata": {
        "id": "uo-srDPxgm1-"
      }
    },
    {
      "cell_type": "code",
      "source": [
        "n = int(input(\"Enter a number of Row and  Column :\"))\n",
        "for i in range(n+1):\n",
        "    for j in range(i):\n",
        "        print(\"*\",end=\" \")\n",
        "    print(end=\"\\n\")"
      ],
      "metadata": {
        "colab": {
          "base_uri": "https://localhost:8080/"
        },
        "id": "5oRz3bxZ3znP",
        "outputId": "1109c0ce-7044-4a7f-bb36-fc344fe0feeb"
      },
      "execution_count": null,
      "outputs": [
        {
          "output_type": "stream",
          "name": "stdout",
          "text": [
            "Enter a number of Row and  Column :5\n",
            "\n",
            "* \n",
            "* * \n",
            "* * * \n",
            "* * * * \n",
            "* * * * * \n"
          ]
        }
      ]
    },
    {
      "cell_type": "markdown",
      "source": [
        "# Printing Stars '*' in reversed Right Angle Triangle Shape\n",
        "---\n",
        "\n",
        "\n",
        "```\n",
        "* * * * * \n",
        "* * * * \n",
        "* * * \n",
        "* * \n",
        "* \n",
        "```\n",
        "\n"
      ],
      "metadata": {
        "id": "FXGxlL9FfUzt"
      }
    },
    {
      "cell_type": "code",
      "source": [
        "num = int(input(\"Enter a number of column :\"))\n",
        "for i in range(1,num+1):\n",
        "    for j in range(i,num+1):\n",
        "        print(\"*\",end = \" \")\n",
        "    print(end = \"\\n\")"
      ],
      "metadata": {
        "colab": {
          "base_uri": "https://localhost:8080/"
        },
        "id": "FIFy5PnYUroS",
        "outputId": "3cd6a723-e888-42fa-840e-018a12b5276e"
      },
      "execution_count": 5,
      "outputs": [
        {
          "output_type": "stream",
          "name": "stdout",
          "text": [
            "Enter a number of column :5\n",
            "* * * * * \n",
            "* * * * \n",
            "* * * \n",
            "* * \n",
            "* \n"
          ]
        }
      ]
    }
  ]
}