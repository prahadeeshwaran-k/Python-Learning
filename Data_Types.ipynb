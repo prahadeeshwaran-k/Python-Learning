{
  "nbformat": 4,
  "nbformat_minor": 0,
  "metadata": {
    "colab": {
      "name": "Data_Types.ipynb",
      "provenance": [],
      "collapsed_sections": [],
      "authorship_tag": "ABX9TyP7vBJD/rAVwKEWcWQvZOeI",
      "include_colab_link": true
    },
    "kernelspec": {
      "name": "python3",
      "display_name": "Python 3"
    },
    "language_info": {
      "name": "python"
    }
  },
  "cells": [
    {
      "cell_type": "markdown",
      "metadata": {
        "id": "view-in-github",
        "colab_type": "text"
      },
      "source": [
        "<a href=\"https://colab.research.google.com/github/prahadeeshwaran-k/Python-Learning/blob/main/Data_Types.ipynb\" target=\"_parent\"><img src=\"https://colab.research.google.com/assets/colab-badge.svg\" alt=\"Open In Colab\"/></a>"
      ]
    },
    {
      "cell_type": "markdown",
      "source": [
        "Common Data Types"
      ],
      "metadata": {
        "id": "hLMBm42M8wZX"
      }
    },
    {
      "cell_type": "code",
      "metadata": {
        "id": "O1TxQiYW0nm0"
      },
      "source": [
        "x = \"Hi\" #String\n",
        "y = 99 #Integer\n",
        "z = 99.009 #Float\n",
        "l = 3+4j #Complex\n",
        "m = False #Boolean\n",
        "n = [1,2,3,4] #list also a data holder \n",
        "p = {1,2,3,4} #sets also a data holder \n",
        "q = (1,2,3,4) #tuple also a data holder \n",
        "s = {\"key1\":\"vaules1\",\"key2\":\"vaule2\"} #dictionary also a data holder \n"
      ],
      "execution_count": 2,
      "outputs": []
    },
    {
      "cell_type": "markdown",
      "source": [
        "# Decades A specific data type "
      ],
      "metadata": {
        "id": "fzCHXioYkrlp"
      }
    },
    {
      "cell_type": "code",
      "source": [
        "x = str(\"Hi\")\n",
        "y = int(99) \n",
        "z = float(99.009)\n",
        "l = complex(3+4j) \n",
        "m = bool(False) \n",
        "n = list([1,2,3,4]) \n",
        "p = set({1,2,3,4}) \n",
        "q = tuple((1,2,3,4)) \n",
        "s = dict({\"key1\":\"vaules1\",\"key2\":\"vaule2\"})"
      ],
      "metadata": {
        "id": "ZcEE_uxRkIdz"
      },
      "execution_count": 5,
      "outputs": []
    },
    {
      "cell_type": "code",
      "source": [
        "import sys\n",
        "\n",
        "x = sys.getsizeof(\"Hi\" )\n",
        "print(x)\n",
        "\n",
        "y = sys.getsizeof(99)\n",
        "print(y)\n",
        "\n",
        "z = sys.getsizeof(99.009) \n",
        "print(z)\n",
        "\n",
        "l = sys.getsizeof(3+4j)\n",
        "print(l)\n",
        "\n",
        "m = sys.getsizeof(False) \n",
        "print(m)\n",
        "\n",
        "n = sys.getsizeof([1,2,3,4])\n",
        "print(n)\n",
        "\n",
        "p = sys.getsizeof({1,2,3,4})\n",
        "print(p)\n",
        "\n",
        "q = sys.getsizeof((1,2,3,4))\n",
        "print(q)\n",
        "\n",
        "s = sys.getsizeof({\"key1\":\"vaules1\",\"key2\":\"vaule2\"})\n",
        "print(s)\n"
      ],
      "metadata": {
        "colab": {
          "base_uri": "https://localhost:8080/"
        },
        "id": "ocqQrRfhlXUC",
        "outputId": "083ff8e7-3e1b-4c9a-da18-11b89a7da8cf"
      },
      "execution_count": 6,
      "outputs": [
        {
          "output_type": "stream",
          "name": "stdout",
          "text": [
            "51\n",
            "28\n",
            "24\n",
            "32\n",
            "24\n",
            "104\n",
            "232\n",
            "88\n",
            "248\n"
          ]
        }
      ]
    },
    {
      "cell_type": "markdown",
      "source": [
        "**Complex Data With Deceleration Data Type**"
      ],
      "metadata": {
        "id": "igEBrdqs9YzW"
      }
    },
    {
      "cell_type": "code",
      "source": [
        "rw= 12345678987654321+1\n",
        "print(rw)\n"
      ],
      "metadata": {
        "id": "CAojCDbc9kZ6"
      },
      "execution_count": null,
      "outputs": []
    },
    {
      "cell_type": "markdown",
      "source": [
        "**Float type of data Can also process large**"
      ],
      "metadata": {
        "id": "B-M616Rf91DQ"
      }
    },
    {
      "cell_type": "code",
      "source": [
        "\n",
        "ft =18.45324562513433\n",
        "print(ft)"
      ],
      "metadata": {
        "colab": {
          "base_uri": "https://localhost:8080/"
        },
        "id": "W_bX8N-s96Dk",
        "outputId": "b3655228-1531-4a7a-8614-406145791449"
      },
      "execution_count": null,
      "outputs": [
        {
          "output_type": "stream",
          "name": "stdout",
          "text": [
            "18.45324562513433\n"
          ]
        }
      ]
    },
    {
      "cell_type": "markdown",
      "source": [
        "**Empty Set** \n",
        "\n"
      ],
      "metadata": {
        "id": "WqhbVZ59-cJM"
      }
    },
    {
      "cell_type": "code",
      "source": [
        "a =[]\n",
        "print(a)\n"
      ],
      "metadata": {
        "id": "4b6Cyw8w-iI5"
      },
      "execution_count": null,
      "outputs": []
    },
    {
      "cell_type": "markdown",
      "source": [
        "**List is mutable any time can chagable and also a data container** "
      ],
      "metadata": {
        "id": "ypdck3BM-pb4"
      }
    },
    {
      "cell_type": "code",
      "source": [
        "l1 =[12,35,4,\"hello world\",True]\n",
        "print(l1)"
      ],
      "metadata": {
        "id": "a8V13D_8-5GS"
      },
      "execution_count": null,
      "outputs": []
    },
    {
      "cell_type": "markdown",
      "source": [
        "**Tuple is immutable cant be changele and also a data container**\n"
      ],
      "metadata": {
        "id": "P2LdtS2Z_C86"
      }
    },
    {
      "cell_type": "code",
      "source": [
        "t1=(1,\"we\",22,True) \n",
        "print(t1)"
      ],
      "metadata": {
        "id": "CiM2vBHk_ZeY"
      },
      "execution_count": null,
      "outputs": []
    },
    {
      "cell_type": "markdown",
      "source": [
        "**Sets is negotiate the duplicate and also a Data Container**"
      ],
      "metadata": {
        "id": "FCdGOX1v_oqT"
      }
    },
    {
      "cell_type": "code",
      "source": [
        "S1 ={1,1,1,2,2,2,3,3,3,3,4,5,6,7,8,9}\n",
        "print(S1)"
      ],
      "metadata": {
        "colab": {
          "base_uri": "https://localhost:8080/"
        },
        "id": "iiSHaYBv__lF",
        "outputId": "9e5611d1-e954-4333-beb1-d2d6dfaab499"
      },
      "execution_count": null,
      "outputs": [
        {
          "output_type": "stream",
          "name": "stdout",
          "text": [
            "{1, 2, 3, 4, 5, 6, 7, 8, 9}\n"
          ]
        }
      ]
    },
    {
      "cell_type": "markdown",
      "source": [
        "**Dictionary is mapping type of data type and data holder**"
      ],
      "metadata": {
        "id": "ZcghVwq9AR5O"
      }
    },
    {
      "cell_type": "code",
      "source": [
        "d={3:'india'} \n",
        "print(d)"
      ],
      "metadata": {
        "colab": {
          "base_uri": "https://localhost:8080/"
        },
        "id": "8vNjXv5GAZs8",
        "outputId": "1e36a495-3572-4372-8c45-a0878a74ff52"
      },
      "execution_count": null,
      "outputs": [
        {
          "output_type": "stream",
          "name": "stdout",
          "text": [
            "{3: 'india'}\n"
          ]
        }
      ]
    }
  ]
}