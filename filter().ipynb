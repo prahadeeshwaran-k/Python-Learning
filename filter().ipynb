{
  "nbformat": 4,
  "nbformat_minor": 0,
  "metadata": {
    "colab": {
      "name": "filter().ipynb",
      "provenance": [],
      "authorship_tag": "ABX9TyPi2fdPechnXxuG1yxzia5V",
      "include_colab_link": true
    },
    "kernelspec": {
      "name": "python3",
      "display_name": "Python 3"
    },
    "language_info": {
      "name": "python"
    }
  },
  "cells": [
    {
      "cell_type": "markdown",
      "metadata": {
        "id": "view-in-github",
        "colab_type": "text"
      },
      "source": [
        "<a href=\"https://colab.research.google.com/github/prahadeeshwaran-k/Python-Learning/blob/main/filter().ipynb\" target=\"_parent\"><img src=\"https://colab.research.google.com/assets/colab-badge.svg\" alt=\"Open In Colab\"/></a>"
      ]
    },
    {
      "cell_type": "markdown",
      "source": [
        "# To Find a number in a list is divisiable by three with a help filter() and lambda functions"
      ],
      "metadata": {
        "id": "Umt3CVdE4EUe"
      }
    },
    {
      "cell_type": "code",
      "source": [
        "mylist = [1,2,3,4,5,6,7,8,9,10,11,12,13,14,15,16]\n",
        "newlist = filter(lambda x:x%3 == 0,mylist)\n",
        "print(newlist)"
      ],
      "metadata": {
        "colab": {
          "base_uri": "https://localhost:8080/"
        },
        "id": "hbC08D0U4EAy",
        "outputId": "4072c544-95d9-44d7-8472-b12efb2a9d4e"
      },
      "execution_count": 4,
      "outputs": [
        {
          "output_type": "stream",
          "name": "stdout",
          "text": [
            "<filter object at 0x7f71c12bf110>\n"
          ]
        }
      ]
    },
    {
      "cell_type": "markdown",
      "source": [
        "# The filter() method filters the given sequence with the help of a function that tests each element in the sequence to be true or not."
      ],
      "metadata": {
        "id": "Sr3viUeK31c7"
      }
    },
    {
      "cell_type": "code",
      "execution_count": 9,
      "metadata": {
        "id": "sq5rH8RsBCVf",
        "colab": {
          "base_uri": "https://localhost:8080/"
        },
        "outputId": "336e5c02-235d-4104-b523-6d645c1c83e2"
      },
      "outputs": [
        {
          "output_type": "stream",
          "name": "stdout",
          "text": [
            "The filtered letters are:\n",
            "e\n",
            "a\n",
            "i\n",
            "o\n",
            "u\n"
          ]
        }
      ],
      "source": [
        "mylist = [\"q\",\"w\",\"e\",\"r\",\"h\",\"f\",\"a\",\"i\",\"d\",\"v\",\"k\",\"o\",\"u\",\"z\",\"x\"]\n",
        "\n",
        "def cheick(variables):\n",
        "    vowels = [\"a\",\"e\",\"i\",\"o\",\"u\"]\n",
        "\n",
        "    ''' if variables in vowels:\n",
        "        return True\n",
        "    else:\n",
        "        return False'''\n",
        "        \n",
        "    return True if variables in vowels else False \n",
        "\n",
        "cheicked = filter(cheick,mylist)\n",
        "print(\"The filtered letters are:\")\n",
        "for word in cheicked:\n",
        "    print(word)\n"
      ]
    },
    {
      "cell_type": "markdown",
      "source": [
        "# To find a Odd or Even function using filter() in list usin function"
      ],
      "metadata": {
        "id": "dVPn0lvw7qAv"
      }
    },
    {
      "cell_type": "code",
      "source": [
        "ages = [32,43,14,18,7,17,34,95,4,54,12,6]\n",
        "def fun(thelist):\n",
        "    if thelist > 18 :\n",
        "        return False\n",
        "    elif thelist <= 18:\n",
        "        return True\n",
        "lessages = list(filter(fun,ages))\n",
        "print(lessages)\n",
        "\n"
      ],
      "metadata": {
        "colab": {
          "base_uri": "https://localhost:8080/"
        },
        "id": "4VRCYg1d74q_",
        "outputId": "a35f9279-aba0-458f-aa5d-083637d9ab4d"
      },
      "execution_count": 2,
      "outputs": [
        {
          "output_type": "stream",
          "name": "stdout",
          "text": [
            "[14, 18, 7, 17, 4, 12, 6]\n"
          ]
        }
      ]
    },
    {
      "cell_type": "markdown",
      "source": [
        "# used with Lambda functions to separate list numbers odd and even"
      ],
      "metadata": {
        "id": "HgMshtX8Qz9X"
      }
    },
    {
      "cell_type": "code",
      "source": [
        "mylist = [1,2,3,4,5,6,7,8,9,10,11,12,13,14,15,16]\n",
        "result = filter(lambda x:x%2==0,mylist)\n",
        "print(list(result))\n",
        "result = filter(lambda x:x%2!=0,mylist)\n",
        "print(list(result))"
      ],
      "metadata": {
        "colab": {
          "base_uri": "https://localhost:8080/"
        },
        "id": "tVw_0iN4RN7g",
        "outputId": "8a0582a5-328e-4160-d37a-5ee01ddb7fbb"
      },
      "execution_count": 7,
      "outputs": [
        {
          "output_type": "stream",
          "name": "stdout",
          "text": [
            "[2, 4, 6, 8, 10, 12, 14, 16]\n",
            "[1, 3, 5, 7, 9, 11, 13, 15]\n"
          ]
        }
      ]
    }
  ]
}