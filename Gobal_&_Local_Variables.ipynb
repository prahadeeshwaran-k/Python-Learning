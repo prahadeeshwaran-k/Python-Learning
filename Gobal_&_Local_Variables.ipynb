{
  "nbformat": 4,
  "nbformat_minor": 0,
  "metadata": {
    "colab": {
      "name": "Gobal & Local Variables.ipynb",
      "provenance": [],
      "authorship_tag": "ABX9TyP/uQvaHTRUIYq1EDN9dzO0",
      "include_colab_link": true
    },
    "kernelspec": {
      "name": "python3",
      "display_name": "Python 3"
    },
    "language_info": {
      "name": "python"
    }
  },
  "cells": [
    {
      "cell_type": "markdown",
      "metadata": {
        "id": "view-in-github",
        "colab_type": "text"
      },
      "source": [
        "<a href=\"https://colab.research.google.com/github/prahadeeshwaran-k/Python-Learning/blob/main/Gobal_%26_Local_Variables.ipynb\" target=\"_parent\"><img src=\"https://colab.research.google.com/assets/colab-badge.svg\" alt=\"Open In Colab\"/></a>"
      ]
    },
    {
      "cell_type": "markdown",
      "source": [
        "**Local Variable**"
      ],
      "metadata": {
        "id": "08kZozLaGyUW"
      }
    },
    {
      "cell_type": "code",
      "execution_count": 4,
      "metadata": {
        "colab": {
          "base_uri": "https://localhost:8080/"
        },
        "id": "RGhQ_sKLDqg9",
        "outputId": "28e66a1d-b9e7-4695-de9b-fa1b1b2311a8"
      },
      "outputs": [
        {
          "output_type": "stream",
          "name": "stdout",
          "text": [
            "11\n"
          ]
        }
      ],
      "source": [
        "def add_num(n1,n2):\n",
        "    result = n1+n2\n",
        "    return result\n",
        "\n",
        "output = add_num(5,6)\n",
        "print(output)"
      ]
    },
    {
      "cell_type": "markdown",
      "source": [
        "**Gobal variable**"
      ],
      "metadata": {
        "id": "V4sXbyi3G1qY"
      }
    },
    {
      "cell_type": "code",
      "source": [
        "message = \"I am Iron Man\"\n",
        "def greet():\n",
        "    global message\n",
        "    message = \"But I am Inevitable\"\n",
        "    print(\"This is from Local Scope: \",message)\n",
        "\n",
        "greet()\n",
        "print(\"This is form Global Scope: \",message)"
      ],
      "metadata": {
        "colab": {
          "base_uri": "https://localhost:8080/"
        },
        "id": "ELFv3Y78G9Hf",
        "outputId": "09499651-fbc5-4229-9710-e91ae46dbe92"
      },
      "execution_count": 7,
      "outputs": [
        {
          "output_type": "stream",
          "name": "stdout",
          "text": [
            "This is from Local Scope:  But I am Inevitable\n",
            "This is form Global Scope:  But I am Inevitable\n"
          ]
        }
      ]
    }
  ]
}