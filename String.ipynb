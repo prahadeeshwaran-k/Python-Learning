{
  "nbformat": 4,
  "nbformat_minor": 0,
  "metadata": {
    "colab": {
      "name": "String.ipynb",
      "provenance": [],
      "authorship_tag": "ABX9TyNH4V4Sp10Bv2zRlX3gGXxt",
      "include_colab_link": true
    },
    "kernelspec": {
      "name": "python3",
      "display_name": "Python 3"
    },
    "language_info": {
      "name": "python"
    }
  },
  "cells": [
    {
      "cell_type": "markdown",
      "metadata": {
        "id": "view-in-github",
        "colab_type": "text"
      },
      "source": [
        "<a href=\"https://colab.research.google.com/github/prahadeeshwaran-k/Python-Learning/blob/main/String.ipynb\" target=\"_parent\"><img src=\"https://colab.research.google.com/assets/colab-badge.svg\" alt=\"Open In Colab\"/></a>"
      ]
    },
    {
      "cell_type": "code",
      "execution_count": null,
      "metadata": {
        "id": "LMct4qVWZ97T"
      },
      "outputs": [],
      "source": [
        "**To print a basic String**"
      ]
    },
    {
      "cell_type": "code",
      "source": [
        "print(\"hello\")\n",
        "print(\"hello\")"
      ],
      "metadata": {
        "colab": {
          "base_uri": "https://localhost:8080/"
        },
        "id": "HIyBAlpKaFGb",
        "outputId": "0f8e5bea-5c9e-4aeb-a0ba-cbbfcd989696"
      },
      "execution_count": 1,
      "outputs": [
        {
          "output_type": "stream",
          "name": "stdout",
          "text": [
            "hello\n",
            "hello\n"
          ]
        }
      ]
    },
    {
      "cell_type": "code",
      "source": [
        "a= \"hello\"\n",
        "print(a)"
      ],
      "metadata": {
        "id": "S_m1kY2CaNW_"
      },
      "execution_count": null,
      "outputs": []
    },
    {
      "cell_type": "markdown",
      "source": [
        "**Print a multi line string**"
      ],
      "metadata": {
        "id": "_JGsPPtdaTVV"
      }
    },
    {
      "cell_type": "code",
      "source": [
        "Str = '''Lorem ipsum dolor sit amet, consectetur adipiscing elit.\n",
        "Nulla cursus sed lorem eu condimentum. Integer elit mauris,\n",
        "congue ut ante eu, tincidunt congue ante'''\n",
        "print(Str)"
      ],
      "metadata": {
        "colab": {
          "base_uri": "https://localhost:8080/"
        },
        "id": "77pnNBygaUHP",
        "outputId": "0b90921e-b6c9-451c-c081-b759c44b21a4"
      },
      "execution_count": 4,
      "outputs": [
        {
          "output_type": "stream",
          "name": "stdout",
          "text": [
            "Lorem ipsum dolor sit amet, consectetur adipiscing elit.\n",
            "Nulla cursus sed lorem eu condimentum. Integer elit mauris,\n",
            "congue ut ante eu, tincidunt congue ante\n"
          ]
        }
      ]
    }
  ]
}