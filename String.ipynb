{
  "nbformat": 4,
  "nbformat_minor": 0,
  "metadata": {
    "colab": {
      "name": "String.ipynb",
      "provenance": [],
      "authorship_tag": "ABX9TyM6hhMjt+7ya1trg71ZtDsq",
      "include_colab_link": true
    },
    "kernelspec": {
      "name": "python3",
      "display_name": "Python 3"
    },
    "language_info": {
      "name": "python"
    }
  },
  "cells": [
    {
      "cell_type": "markdown",
      "metadata": {
        "id": "view-in-github",
        "colab_type": "text"
      },
      "source": [
        "<a href=\"https://colab.research.google.com/github/prahadeeshwaran-k/Python-Learning/blob/main/String.ipynb\" target=\"_parent\"><img src=\"https://colab.research.google.com/assets/colab-badge.svg\" alt=\"Open In Colab\"/></a>"
      ]
    },
    {
      "cell_type": "markdown",
      "source": [
        "**To print a basic String**"
      ],
      "metadata": {
        "id": "Ktz-AH4neXWn"
      }
    },
    {
      "cell_type": "code",
      "source": [
        "print(\"hello\")\n",
        "print(\"hello\")"
      ],
      "metadata": {
        "colab": {
          "base_uri": "https://localhost:8080/"
        },
        "id": "HIyBAlpKaFGb",
        "outputId": "0f8e5bea-5c9e-4aeb-a0ba-cbbfcd989696"
      },
      "execution_count": null,
      "outputs": [
        {
          "output_type": "stream",
          "name": "stdout",
          "text": [
            "hello\n",
            "hello\n"
          ]
        }
      ]
    },
    {
      "cell_type": "code",
      "source": [
        "a= \"hello\"\n",
        "print(a)"
      ],
      "metadata": {
        "id": "S_m1kY2CaNW_"
      },
      "execution_count": null,
      "outputs": []
    },
    {
      "cell_type": "markdown",
      "source": [
        "**Print a multi line string**"
      ],
      "metadata": {
        "id": "_JGsPPtdaTVV"
      }
    },
    {
      "cell_type": "code",
      "source": [
        "Str = '''Lorem ipsum dolor sit amet, consectetur adipiscing elit.\n",
        "Nulla cursus sed lorem eu condimentum. Integer elit mauris,\n",
        "congue ut ante eu, tincidunt congue ante'''\n",
        "print(Str)"
      ],
      "metadata": {
        "colab": {
          "base_uri": "https://localhost:8080/"
        },
        "id": "77pnNBygaUHP",
        "outputId": "0b90921e-b6c9-451c-c081-b759c44b21a4"
      },
      "execution_count": null,
      "outputs": [
        {
          "output_type": "stream",
          "name": "stdout",
          "text": [
            "Lorem ipsum dolor sit amet, consectetur adipiscing elit.\n",
            "Nulla cursus sed lorem eu condimentum. Integer elit mauris,\n",
            "congue ut ante eu, tincidunt congue ante\n"
          ]
        }
      ]
    },
    {
      "cell_type": "code",
      "source": [
        "Str = \"\"\"Lorem ipsum dolor sit amet, consectetur adipiscing elit.\n",
        "Nulla cursus sed lorem eu condimentum. Integer elit mauris,\n",
        "congue ut ante eu, tincidunt congue ante\"\"\"\n",
        "print(Str)\n",
        "print(len(Str))"
      ],
      "metadata": {
        "colab": {
          "base_uri": "https://localhost:8080/"
        },
        "id": "oPEcy4lkdXHs",
        "outputId": "65beca24-32e5-4779-9fe5-611ac6af192c"
      },
      "execution_count": null,
      "outputs": [
        {
          "output_type": "stream",
          "name": "stdout",
          "text": [
            "Lorem ipsum dolor sit amet, consectetur adipiscing elit.\n",
            "Nulla cursus sed lorem eu condimentum. Integer elit mauris,\n",
            "congue ut ante eu, tincidunt congue ante\n",
            "157\n"
          ]
        }
      ]
    },
    {
      "cell_type": "code",
      "source": [
        "Str=\"Prahadeeshawaran\"\n",
        "print(Str[1])"
      ],
      "metadata": {
        "colab": {
          "base_uri": "https://localhost:8080/"
        },
        "id": "v9PDXODTdka7",
        "outputId": "55effbe8-aec6-46de-821b-2d5a4e33c16b"
      },
      "execution_count": null,
      "outputs": [
        {
          "output_type": "stream",
          "name": "stdout",
          "text": [
            "r\n"
          ]
        }
      ]
    },
    {
      "cell_type": "markdown",
      "source": [
        "**Print a each word in string next line **"
      ],
      "metadata": {
        "id": "xzt38TM_eC1N"
      }
    },
    {
      "cell_type": "code",
      "source": [
        "for index in \"Prahadeeshawaran\":\n",
        "  print(index)"
      ],
      "metadata": {
        "colab": {
          "base_uri": "https://localhost:8080/"
        },
        "id": "gcRw7vuYeawP",
        "outputId": "bc937946-62ec-4bc9-e26c-fbb875423933"
      },
      "execution_count": null,
      "outputs": [
        {
          "output_type": "stream",
          "name": "stdout",
          "text": [
            "P\n",
            "r\n",
            "a\n",
            "h\n",
            "a\n",
            "d\n",
            "e\n",
            "e\n",
            "s\n",
            "h\n",
            "a\n",
            "w\n",
            "a\n",
            "r\n",
            "a\n",
            "n\n"
          ]
        }
      ]
    },
    {
      "cell_type": "markdown",
      "source": [
        "**membership operator**"
      ],
      "metadata": {
        "id": "xDMzvJHcfcDu"
      }
    },
    {
      "cell_type": "code",
      "source": [
        "Str=\"Lorem ipsum dolor sit amet, consectetur adipiscing elit.\"\n",
        "print(\"sit\" in Str)"
      ],
      "metadata": {
        "colab": {
          "base_uri": "https://localhost:8080/"
        },
        "id": "LFvUsV0GgFS_",
        "outputId": "f6b8d142-7e60-45ad-b4a0-2785d06acac9"
      },
      "execution_count": null,
      "outputs": [
        {
          "output_type": "stream",
          "name": "stdout",
          "text": [
            "True\n"
          ]
        }
      ]
    },
    {
      "cell_type": "code",
      "source": [
        "Str = \"Lorem ipsum dolor sit amet, consectetur adipiscing elit.\"\n",
        "if \"ipsum\" in Str:\n",
        "  print (\"Yes,its is in\")"
      ],
      "metadata": {
        "colab": {
          "base_uri": "https://localhost:8080/"
        },
        "id": "8TcZq6DifcrD",
        "outputId": "6c61b799-5029-4e89-bdf7-bb6fbac2b58f"
      },
      "execution_count": null,
      "outputs": [
        {
          "output_type": "stream",
          "name": "stdout",
          "text": [
            "Yes,its is in\n"
          ]
        }
      ]
    },
    {
      "cell_type": "code",
      "source": [
        "Str=\"Lorem ipsum dolor sit amet, consectetur adipiscing elit.\"\n",
        "print(\"guru\" not in Str)"
      ],
      "metadata": {
        "id": "aNv3SM1BgvpF",
        "outputId": "ba7224e4-0ec3-48df-956d-2067077c86c5",
        "colab": {
          "base_uri": "https://localhost:8080/"
        }
      },
      "execution_count": null,
      "outputs": [
        {
          "output_type": "stream",
          "name": "stdout",
          "text": [
            "True\n"
          ]
        }
      ]
    },
    {
      "cell_type": "code",
      "source": [
        "Str=\"Lorem ipsum dolor sit amet, consectetur adipiscing elit.\"\n",
        "if \"juser\" not in Str:\n",
        "  print(\"Yes, is not in\")"
      ],
      "metadata": {
        "colab": {
          "base_uri": "https://localhost:8080/"
        },
        "id": "F1Vyw3X3gSTJ",
        "outputId": "af187875-b0b1-4118-9580-d392c636c952"
      },
      "execution_count": null,
      "outputs": [
        {
          "output_type": "stream",
          "name": "stdout",
          "text": [
            "Yes, is not in\n"
          ]
        }
      ]
    }
  ]
}