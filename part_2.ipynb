{
  "nbformat": 4,
  "nbformat_minor": 0,
  "metadata": {
    "colab": {
      "name": "part 2.ipynb",
      "provenance": [],
      "authorship_tag": "ABX9TyNyOLNXvOJezI5CpQ2kBE0m",
      "include_colab_link": true
    },
    "kernelspec": {
      "name": "python3",
      "display_name": "Python 3"
    },
    "language_info": {
      "name": "python"
    }
  },
  "cells": [
    {
      "cell_type": "markdown",
      "metadata": {
        "id": "view-in-github",
        "colab_type": "text"
      },
      "source": [
        "<a href=\"https://colab.research.google.com/github/prahadeeshwaran-k/Python-Learning/blob/main/part_2.ipynb\" target=\"_parent\"><img src=\"https://colab.research.google.com/assets/colab-badge.svg\" alt=\"Open In Colab\"/></a>"
      ]
    },
    {
      "cell_type": "markdown",
      "source": [
        "1.Write a python program to create, append and remove lists in python"
      ],
      "metadata": {
        "id": "w_WpJ1vCISUm"
      }
    },
    {
      "cell_type": "code",
      "execution_count": 1,
      "metadata": {
        "id": "xFLCVW1jFHvp",
        "colab": {
          "base_uri": "https://localhost:8080/"
        },
        "outputId": "b2f8df6f-7bd3-4f6c-909c-cbd5627bf7c1"
      },
      "outputs": [
        {
          "output_type": "stream",
          "name": "stdout",
          "text": [
            "Enter a string: fegaf asfkgu asfghkc m\n",
            "['fegaf', 'asfkgu', 'asfghkc', 'm']\n",
            "enter str:sdjksfd\n",
            "['fegaf', 'asfkgu', 'asfghkc', 'm', 'sdjksfd']\n",
            "indexm\n",
            "['fegaf', 'asfkgu', 'asfghkc', 'sdjksfd']\n"
          ]
        }
      ],
      "source": [
        "mylist = list(map(str,input(\"Enter a string: \").split()))\n",
        "print(mylist)\n",
        "\n",
        "temp_list = input(\"enter str:\")\n",
        "mylist.append(temp_list)\n",
        "print(mylist)\n",
        "\n",
        "n = str(input(\"index\"))\n",
        "mylist.remove(n)\n",
        "print(mylist)"
      ]
    },
    {
      "cell_type": "markdown",
      "source": [
        "2.Write a program to demonstrate working with tuples in python"
      ],
      "metadata": {
        "id": "z6xJAqhqJPxz"
      }
    },
    {
      "cell_type": "code",
      "source": [
        "parts = tuple(map(str,input(\"enter car compounds: \").split()))\n",
        "print(parts)\n",
        "price = tuple(map(int,input(\"enter car compounds price: \").split()))\n",
        "print(price)\n",
        "print(f\"total num of parts {len(parts)}\")\n",
        "total = sum(price)\n",
        "print(f\"total Cost of parts {sum(price)}\")\n",
        "print(\"Search\")\n",
        "key = str(input(\"Search Key word: \"))\n",
        "if key in parts:\n",
        "    print(\"yes\")\n",
        "else:\n",
        "    print(\"no\")\n"
      ],
      "metadata": {
        "colab": {
          "base_uri": "https://localhost:8080/"
        },
        "id": "pvqm6pnDJRJD",
        "outputId": "6115287b-1105-47df-ebd0-d077e264a067"
      },
      "execution_count": 2,
      "outputs": [
        {
          "output_type": "stream",
          "name": "stdout",
          "text": [
            "enter car compounds: hiasdhk asdhkasd zshusda\n",
            "('hiasdhk', 'asdhkasd', 'zshusda')\n",
            "enter car compounds price: 67 56 54\n",
            "(67, 56, 54)\n",
            "total num of parts 3\n",
            "total Cost of parts 177\n",
            "Search\n",
            "Search Key word: fhtrnf\n",
            "no\n"
          ]
        }
      ]
    },
    {
      "cell_type": "markdown",
      "source": [
        "3.Write a program to demonstrate working with dictionaries in python"
      ],
      "metadata": {
        "id": "3wX-EUl8PuK5"
      }
    },
    {
      "cell_type": "code",
      "source": [
        "import sys\n",
        "key = list(map(str, input(\"Enter multiple values: \").split()))\n",
        "value = list(map(str, input(\"Enter multiple values: \").split()))\n",
        "x = len(key)\n",
        "y = len(value)\n",
        "if x == y:\n",
        "    dict_zip = dict(zip(key,value))\n",
        "    print(dict_zip)\n",
        "else: \n",
        "    print(f\"key{x} != value{y}\")\n",
        "print(\"List Of Operation:\\n\")\n",
        "print(\" 1.Items\\n 2.Get\\n 3.Keys\\n 4.Pop\\n 5.Values\\n 6.Update\\n 7.Pop Item\\n 8.Clear\\n 9.Exit\")\n",
        "print()\n",
        "while True:\n",
        "    ch = int(input(\"Enter your choice: \"))\n",
        "    if ch == 1:\n",
        "        print(f\"Items of the dictionary: \\n{dict_zip.items()}\\n\")\n",
        "    elif ch == 2:\n",
        "        key = input(\"Enter a key to get: \")\n",
        "        print(f\"{dict_zip.get(key)}\\n\")\n",
        "    elif ch == 3:\n",
        "        print(f\"Print key in the dictionary are \\n{dict_zip.keys()}\\n\")\n",
        "    elif ch == 4:\n",
        "        key = input(\"Enter a key to pop\")\n",
        "        dict_zip.pop(key)\n",
        "        print(f\"{dict_zip}\\n\")\n",
        "    elif ch == 5:\n",
        "        print(f\"The value in the dictronary are \\n{dict_zip.values()}\\n\")\n",
        "    elif ch == 6:\n",
        "        key = input(\"Enter a key to update \")\n",
        "        value = str(input(\"Enter a new value \"))\n",
        "        dict_zip.update({key:value})\n",
        "        print(dict_zip)\n",
        "        print()\n",
        "    elif ch == 7:\n",
        "        print(f\"Popping the list item\\n{dict_zip.popitem()}\\n\")\n",
        "    elif ch ==8:\n",
        "        print(f\"Clear the dictonary \\n{dict_zip.clear()}\\n\")\n",
        "    elif ch == 9:\n",
        "        sys.exit(\"Exit\")"
      ],
      "metadata": {
        "id": "HA5c1Jg6PvKu"
      },
      "execution_count": null,
      "outputs": []
    },
    {
      "cell_type": "markdown",
      "source": [
        "4.Write a python program to find largest of three numbers"
      ],
      "metadata": {
        "id": "KEo9SesO51uk"
      }
    },
    {
      "cell_type": "code",
      "source": [
        "numbers = list(map(int,input(\"enter a numbers:\").split()))\n",
        "print(numbers)\n",
        "print(f\"the maximum number is {max(numbers)}\")"
      ],
      "metadata": {
        "colab": {
          "base_uri": "https://localhost:8080/"
        },
        "id": "lFNlkMbI5FW_",
        "outputId": "f953e048-85f6-4804-f751-05d21d03e667"
      },
      "execution_count": null,
      "outputs": [
        {
          "output_type": "stream",
          "name": "stdout",
          "text": [
            "enter a numbers:87 798 798\n",
            "[87, 798, 798]\n",
            "the maximum number is 798\n"
          ]
        }
      ]
    },
    {
      "cell_type": "markdown",
      "source": [
        "5.Write a python program to convert temperature to and from Celsius to fahrenheit."
      ],
      "metadata": {
        "id": "pocsILg5598Q"
      }
    },
    {
      "cell_type": "code",
      "source": [
        "t=int(input(\"ENTER  Temperature: \")) \n",
        "f=((9*t)/5)+32 \n",
        "print(\"converted  CELSIUS in temperature is: \",f) \n",
        "c=((t-32)/9)*5 \n",
        "print(\"converted TEMPERATURE in temperature is: \",c) \n"
      ],
      "metadata": {
        "colab": {
          "base_uri": "https://localhost:8080/"
        },
        "id": "1UZ2i4cU56DO",
        "outputId": "c35c96a8-0b8c-4969-b375-5ab8f75b9aa9"
      },
      "execution_count": null,
      "outputs": [
        {
          "output_type": "stream",
          "name": "stdout",
          "text": [
            "ENTER  Temperature: 89\n",
            "converted  CELSIUS in temperature is:  192.2\n",
            "converted TEMPERATURE in temperature is:  31.666666666666664\n"
          ]
        }
      ]
    },
    {
      "cell_type": "markdown",
      "source": [
        "6.Identification and solving of simple real life or scientific or technical problems, and developing \n",
        "flow charts for the same. (Electricity Billing, Retail shop billing,)"
      ],
      "metadata": {
        "id": "HHHaP_Ogf1Pb"
      }
    },
    {
      "cell_type": "code",
      "source": [
        "# Retail shop billing,\n",
        "name = list(map(str,input(\"Enter a names: \").split()))\n",
        "quantity = list(map(int,input(\"Enter a Quantity: \").split()))\n",
        "price = list(map(int,input(\"Enter a Price: \").split()))\n",
        "if len(name) == len(quantity) == len(price):\n",
        "    for i  in range(len(name)):\n",
        "        print(f\"{name[i]} : {quantity[i]} = {price[i]}\")\n",
        "    print(f\"Total Quantity: {sum(quantity)}\")\n",
        "    print(f\"Total Cost: {sum(price)*sum(quantity)}\")\n",
        "else :\n",
        "    pass"
      ],
      "metadata": {
        "colab": {
          "base_uri": "https://localhost:8080/"
        },
        "id": "g_RAEx9qS04P",
        "outputId": "69aaf827-2f5d-4922-f517-a6af6cdbcd71"
      },
      "execution_count": 20,
      "outputs": [
        {
          "output_type": "stream",
          "name": "stdout",
          "text": [
            "Enter a names: ewf\n",
            "Enter a Quantity: 2\n",
            "Enter a Price: 6\n",
            "ewf : 2 = 6\n",
            "Total Quantity: 2\n",
            "Total Cost: 12\n"
          ]
        }
      ]
    },
    {
      "cell_type": "code",
      "source": [
        "#Electricity Billing\n",
        "units = int(input(\" Please enter Number of Units you Consumed : \"))\n",
        "if(units < 50):\n",
        "    amount = units * 2.60\n",
        "    surcharge = 25\n",
        "elif(units <= 100):\n",
        "    amount = 130 + ((units - 50) * 3.25)\n",
        "    surcharge = 35\n",
        "elif(units <= 200):\n",
        "    amount = 130 + 162.50 + ((units - 100) * 5.26)\n",
        "    surcharge = 45\n",
        "else:\n",
        "    amount = 130 + 162.50 + 526 + ((units - 200) * 8.45)\n",
        "    surcharge = 75\n",
        "\n",
        "total = amount + surcharge\n",
        "print(\"\\nElectricity Bill = %.2f\"  %total)"
      ],
      "metadata": {
        "id": "SVzTMTkOflNq"
      },
      "execution_count": null,
      "outputs": []
    },
    {
      "cell_type": "markdown",
      "source": [
        "7.Write a Python programming using simple statements and expressions (exchange the values of \n",
        "two variables, distance between two points)."
      ],
      "metadata": {
        "id": "TmE4IyS8hggp"
      }
    },
    {
      "cell_type": "code",
      "source": [
        "a = int(input(\"Enter a value A:\"))\n",
        "b = int(input(\"Enter a value B:\"))\n",
        "print(f\"Before A = {a} and B = {b}\")\n",
        "a,b = b,a\n",
        "print(f\"After A = {a} and B = {b}\")"
      ],
      "metadata": {
        "colab": {
          "base_uri": "https://localhost:8080/"
        },
        "id": "WlnQONGggndG",
        "outputId": "e1f7a5c4-edbf-41c9-e01d-fbde8e4f4288"
      },
      "execution_count": 21,
      "outputs": [
        {
          "output_type": "stream",
          "name": "stdout",
          "text": [
            "Enter a value A:54\n",
            "Enter a value B:75\n",
            "Before A = 54 and B = 75\n",
            "After A = 75 and B = 54\n"
          ]
        }
      ]
    },
    {
      "cell_type": "code",
      "source": [
        "#distance between two points)\n",
        "x1=int(input(\"enter x1 : \"))\n",
        "x2=int(input(\"enter x2 : \"))\n",
        "y1=int(input(\"enter y1 : \"))\n",
        "y2=int(input(\"enter y2 : \"))\n",
        "result= ((((x2 - x1 )**2) + ((y2-y1)**2) )**0.5)\n",
        "print(\"distance between\",(x1,x2),\"and\",(y1,y2),\"is : \",result)"
      ],
      "metadata": {
        "id": "jUxVW3aygfHw"
      },
      "execution_count": null,
      "outputs": []
    },
    {
      "cell_type": "markdown",
      "source": [
        "8.Write a python program to Python programming using simple statements and expressions \n",
        "(circulate the values of n variables, distance between two points"
      ],
      "metadata": {
        "id": "ZQuNG-Qeh_Rq"
      }
    },
    {
      "cell_type": "code",
      "execution_count": null,
      "metadata": {
        "id": "tgsgPdUNXFnO",
        "outputId": "6ece32eb-5ed3-4ec8-854a-23e66707f969"
      },
      "outputs": [
        {
          "name": "stdout",
          "output_type": "stream",
          "text": [
            "Circulating the elements of list  ['1', '2', '3', '4', '5']\n",
            "['1', '2', '3', '4', '5']\n",
            "['2', '3', '4', '5', '1']\n",
            "['3', '4', '5', '1', '2']\n",
            "['4', '5', '1', '2', '3']\n",
            "['5', '1', '2', '3', '4']\n"
          ]
        }
      ],
      "source": [
        "list1 = list(map(str, input(\"Enter multiple values: \").split()))\n",
        "print(\"Circulating the elements of list \", list1)\n",
        "for i in range(0,len(list1)):\n",
        " Result = list1[i:]+list1[:i]\n",
        " print(Result)"
      ]
    },
    {
      "cell_type": "markdown",
      "source": [
        "9.Write a python programming for Scientific problems using Conditionals and Iterative loops. \n",
        "(Number series, Number Patterns)"
      ],
      "metadata": {
        "id": "GZMWulJsiLIh"
      }
    },
    {
      "cell_type": "code",
      "source": [
        "#Number Patterns\n",
        "n = 5\n",
        "num = 1\n",
        "for i in range(0, n):\n",
        "    num = 1\n",
        "    for j in range(0, i+1):\n",
        "        print(num, end=\" \")\n",
        "        num = num + 1\n",
        "    print(\"\\r\")\n",
        " \n"
      ],
      "metadata": {
        "colab": {
          "base_uri": "https://localhost:8080/"
        },
        "id": "FWr5nA24iMvO",
        "outputId": "97e079d7-677d-4631-c879-01d6aae18f71"
      },
      "execution_count": 22,
      "outputs": [
        {
          "output_type": "stream",
          "name": "stdout",
          "text": [
            "1 \r\n",
            "1 2 \r\n",
            "1 2 3 \r\n",
            "1 2 3 4 \r\n",
            "1 2 3 4 5 \r\n"
          ]
        }
      ]
    },
    {
      "cell_type": "markdown",
      "source": [
        "10.Write a python programming for Scientific problems using Conditionals and Iterative \n",
        "loops. (pyramid pattern)"
      ],
      "metadata": {
        "id": "qxP6btIvjzQG"
      }
    },
    {
      "cell_type": "code",
      "source": [
        "num = int(input(\"Enter a number on column: \"))\n",
        "for i in range(1,num+1):\n",
        "    for j in range(i,num+1):\n",
        "        print(\" \",end=\" \")\n",
        "    for j in range(i):\n",
        "        print(\"*\",end=\" \")\n",
        "    for j in range(i-1):\n",
        "        print(\"*\",end=\" \")\n",
        "    print(\" \")"
      ],
      "metadata": {
        "colab": {
          "base_uri": "https://localhost:8080/"
        },
        "id": "a9YM4q_JjyuD",
        "outputId": "d4dc2fcc-9d98-4fd5-992d-1bb355cccda4"
      },
      "execution_count": 23,
      "outputs": [
        {
          "output_type": "stream",
          "name": "stdout",
          "text": [
            "Enter a number on column: 5\n",
            "          *  \n",
            "        * * *  \n",
            "      * * * * *  \n",
            "    * * * * * * *  \n",
            "  * * * * * * * * *  \n"
          ]
        }
      ]
    },
    {
      "cell_type": "markdown",
      "source": [
        "11.Write a python program to Implementing real-time/technical applications using Lists, \n",
        "Tuples(Items present in a Library)"
      ],
      "metadata": {
        "id": "hqyMB8IVkAzR"
      }
    },
    {
      "cell_type": "code",
      "source": [
        "parts = tuple(map(str,input(\"enter car compounds: \").split()))\n",
        "print(parts)\n",
        "price = tuple(map(int,input(\"enter car compounds price: \").split()))\n",
        "print(price)\n",
        "print(f\"total num of parts {len(parts)}\")\n",
        "total = sum(price)\n",
        "print(f\"total Cost of parts {sum(price)}\")\n",
        "print(\"Search\")\n",
        "key = str(input(\"Search Key word: \"))\n",
        "if key in parts:\n",
        "    print(\"yes\")\n",
        "else:\n",
        "    print(\"no\")"
      ],
      "metadata": {
        "id": "kXtV4s0MkAjb"
      },
      "execution_count": null,
      "outputs": []
    },
    {
      "cell_type": "markdown",
      "source": [
        "12.Write a python program to Implementing real-time/technical applications using Lists, Tuples, \n",
        "(Materials required for construction of a building –operations of list & tuples)."
      ],
      "metadata": {
        "id": "cjh-stNLkjnN"
      }
    },
    {
      "cell_type": "code",
      "source": [
        "print(\"Do On Own or die \")"
      ],
      "metadata": {
        "id": "lqXskbj5klbq"
      },
      "execution_count": null,
      "outputs": []
    }
  ]
}