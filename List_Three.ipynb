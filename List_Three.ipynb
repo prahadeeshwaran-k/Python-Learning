{
  "nbformat": 4,
  "nbformat_minor": 0,
  "metadata": {
    "colab": {
      "name": "List_Three.ipynb",
      "provenance": [],
      "collapsed_sections": [],
      "authorship_tag": "ABX9TyNG5nukQxOFQi/IXAaUn5VE",
      "include_colab_link": true
    },
    "kernelspec": {
      "name": "python3",
      "display_name": "Python 3"
    },
    "language_info": {
      "name": "python"
    }
  },
  "cells": [
    {
      "cell_type": "markdown",
      "metadata": {
        "id": "view-in-github",
        "colab_type": "text"
      },
      "source": [
        "<a href=\"https://colab.research.google.com/github/prahadeeshwaran-k/Python-Learning/blob/main/List_Three.ipynb\" target=\"_parent\"><img src=\"https://colab.research.google.com/assets/colab-badge.svg\" alt=\"Open In Colab\"/></a>"
      ]
    },
    {
      "cell_type": "markdown",
      "source": [
        "**Print all items in the list, one by one**"
      ],
      "metadata": {
        "id": "alyo3Db2Xew9"
      }
    },
    {
      "cell_type": "code",
      "source": [
        "mylist =[\"Alphabet Inc\",\"Amazon\",\"Berkshire Hathaway Inc\",\"Facebook\",\"Alibaba Group\"]\n",
        "for index in mylist:\n",
        "  print(index)"
      ],
      "metadata": {
        "id": "VfpY16PAW2VU"
      },
      "execution_count": null,
      "outputs": []
    },
    {
      "cell_type": "markdown",
      "source": [
        "**Print all items by referring to their index number**"
      ],
      "metadata": {
        "id": "Vqi9jFMdXl_w"
      }
    },
    {
      "cell_type": "code",
      "source": [
        "mylist =[\"Air\",\"Water\",\"Fire\",\"Earth\",]\n",
        "for index in range(len(mylist)):\n",
        "  print(mylist[index])"
      ],
      "metadata": {
        "colab": {
          "base_uri": "https://localhost:8080/"
        },
        "id": "i-8INh_hX0V8",
        "outputId": "ffa9402a-6fd5-46be-b9e6-ec4ceef9367e"
      },
      "execution_count": 2,
      "outputs": [
        {
          "output_type": "stream",
          "name": "stdout",
          "text": [
            "Air\n",
            "Water\n",
            "Fire\n",
            "Earth\n"
          ]
        }
      ]
    },
    {
      "cell_type": "markdown",
      "source": [
        "**Print all items, using a while loop to go through all the index numbers**"
      ],
      "metadata": {
        "id": "v1xzXxX3Y7gf"
      }
    },
    {
      "cell_type": "code",
      "source": [
        "mylist =[\"Air\",\"Water\",\"Fire\",\"Earth\",]\n",
        "index = 0\n",
        "while index < len(mylist):\n",
        "  print(mylist[index])\n",
        "  index += 1"
      ],
      "metadata": {
        "colab": {
          "base_uri": "https://localhost:8080/"
        },
        "id": "E4_3WxLyY5nS",
        "outputId": "e1e2e5b8-2d49-4b6c-baa9-7f589726b8d5"
      },
      "execution_count": 2,
      "outputs": [
        {
          "output_type": "stream",
          "name": "stdout",
          "text": [
            "Air\n",
            "Water\n",
            "Fire\n",
            "Earth\n"
          ]
        }
      ]
    }
  ]
}