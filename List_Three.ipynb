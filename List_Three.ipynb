{
  "nbformat": 4,
  "nbformat_minor": 0,
  "metadata": {
    "colab": {
      "name": "List_Three.ipynb",
      "provenance": [],
      "collapsed_sections": [],
      "authorship_tag": "ABX9TyOIP4PqW5STVmUfJjnvNgNS",
      "include_colab_link": true
    },
    "kernelspec": {
      "name": "python3",
      "display_name": "Python 3"
    },
    "language_info": {
      "name": "python"
    }
  },
  "cells": [
    {
      "cell_type": "markdown",
      "metadata": {
        "id": "view-in-github",
        "colab_type": "text"
      },
      "source": [
        "<a href=\"https://colab.research.google.com/github/prahadeeshwaran-k/Python-Learning/blob/main/List_Three.ipynb\" target=\"_parent\"><img src=\"https://colab.research.google.com/assets/colab-badge.svg\" alt=\"Open In Colab\"/></a>"
      ]
    },
    {
      "cell_type": "markdown",
      "source": [
        "**Print all items in the list, one by one**"
      ],
      "metadata": {
        "id": "alyo3Db2Xew9"
      }
    },
    {
      "cell_type": "code",
      "source": [
        "mylist =[\"Alphabet Inc\",\"Amazon\",\"Berkshire Hathaway Inc\",\"Facebook\",\"Alibaba Group\"]\n",
        "for index in mylist:\n",
        "  print(index)"
      ],
      "metadata": {
        "id": "VfpY16PAW2VU"
      },
      "execution_count": null,
      "outputs": []
    },
    {
      "cell_type": "markdown",
      "source": [
        "**Print all items by referring to their index number**"
      ],
      "metadata": {
        "id": "Vqi9jFMdXl_w"
      }
    },
    {
      "cell_type": "code",
      "source": [
        "mylist =[\"Air\",\"Water\",\"Fire\",\"Earth\",]\n",
        "for index in range(len(mylist)):\n",
        "  print(mylist[index])"
      ],
      "metadata": {
        "colab": {
          "base_uri": "https://localhost:8080/"
        },
        "id": "i-8INh_hX0V8",
        "outputId": "ffa9402a-6fd5-46be-b9e6-ec4ceef9367e"
      },
      "execution_count": 2,
      "outputs": [
        {
          "output_type": "stream",
          "name": "stdout",
          "text": [
            "Air\n",
            "Water\n",
            "Fire\n",
            "Earth\n"
          ]
        }
      ]
    },
    {
      "cell_type": "markdown",
      "source": [
        "**Print all items, using a while loop to go through all the index numbers**"
      ],
      "metadata": {
        "id": "v1xzXxX3Y7gf"
      }
    },
    {
      "cell_type": "code",
      "source": [
        "mylist =[\"Air\",\"Water\",\"Fire\",\"Earth\",]\n",
        "index = 0\n",
        "while index < len(mylist):\n",
        "  print(mylist[index])\n",
        "  index += 1"
      ],
      "metadata": {
        "colab": {
          "base_uri": "https://localhost:8080/"
        },
        "id": "E4_3WxLyY5nS",
        "outputId": "e1e2e5b8-2d49-4b6c-baa9-7f589726b8d5"
      },
      "execution_count": 2,
      "outputs": [
        {
          "output_type": "stream",
          "name": "stdout",
          "text": [
            "Air\n",
            "Water\n",
            "Fire\n",
            "Earth\n"
          ]
        }
      ]
    },
    {
      "cell_type": "markdown",
      "source": [
        "**Sort the list alphabetically**"
      ],
      "metadata": {
        "id": "aQrWQGvrhPIh"
      }
    },
    {
      "cell_type": "code",
      "source": [
        "mylist =[\"Air\",\"hat\",\"glue\",\"king\",\"jocker\",\"Ballon\",\"typing\",\"wheat\"]\n",
        "mylist.sort()\n",
        "print(mylist)"
      ],
      "metadata": {
        "colab": {
          "base_uri": "https://localhost:8080/"
        },
        "id": "X7REgM5yx8EN",
        "outputId": "5d28ab0b-0ede-44be-fb13-741409fb5daf"
      },
      "execution_count": 23,
      "outputs": [
        {
          "output_type": "stream",
          "name": "stdout",
          "text": [
            "['Air', 'Ballon', 'glue', 'hat', 'jocker', 'king', 'typing', 'wheat']\n"
          ]
        }
      ]
    },
    {
      "cell_type": "markdown",
      "source": [
        "**Sort the list numerically**"
      ],
      "metadata": {
        "id": "JlXz3cqLszt_"
      }
    },
    {
      "cell_type": "code",
      "source": [
        "mylist =[10,62,67,34,89,45,12,3,76,45]\n",
        "mylist.sort()\n",
        "print(mylist)"
      ],
      "metadata": {
        "colab": {
          "base_uri": "https://localhost:8080/"
        },
        "id": "e34mf3hH4F_X",
        "outputId": "40bdb36e-b91c-43e3-afe3-634972a2a4ef"
      },
      "execution_count": 24,
      "outputs": [
        {
          "output_type": "stream",
          "name": "stdout",
          "text": [
            "[3, 10, 12, 34, 45, 45, 62, 67, 76, 89]\n"
          ]
        }
      ]
    },
    {
      "cell_type": "markdown",
      "source": [
        "**Sort the list descending**"
      ],
      "metadata": {
        "id": "H-ioyZOh6d0K"
      }
    },
    {
      "cell_type": "code",
      "source": [
        "mylist =[\"Air\",\"hat\",\"glue\",\"king\",\"jocker\",\"Ballon\",\"typing\",\"wheat\"]\n",
        "mylist.sort(reverse=True)\n",
        "print(mylist)"
      ],
      "metadata": {
        "colab": {
          "base_uri": "https://localhost:8080/"
        },
        "id": "wmwdGsHf7JNu",
        "outputId": "4c37f25d-3001-474c-b5a5-c76f4aeb80a2"
      },
      "execution_count": 26,
      "outputs": [
        {
          "output_type": "stream",
          "name": "stdout",
          "text": [
            "['wheat', 'typing', 'king', 'jocker', 'hat', 'glue', 'Ballon', 'Air']\n"
          ]
        }
      ]
    },
    {
      "cell_type": "markdown",
      "source": [
        "**Sort the list Numerically descending**"
      ],
      "metadata": {
        "id": "f5lSBdcK6s-o"
      }
    },
    {
      "cell_type": "code",
      "source": [
        "mylist =[10,62,67,34,89,45,12,3,76,45]\n",
        "mylist.sort(reverse=True)\n",
        "print(mylist)"
      ],
      "metadata": {
        "colab": {
          "base_uri": "https://localhost:8080/"
        },
        "id": "vIydj0VU6fpV",
        "outputId": "c6478078-e17e-4439-b012-c17f6b5a4091"
      },
      "execution_count": 25,
      "outputs": [
        {
          "output_type": "stream",
          "name": "stdout",
          "text": [
            "[89, 76, 67, 62, 45, 45, 34, 12, 10, 3]\n"
          ]
        }
      ]
    },
    {
      "cell_type": "markdown",
      "source": [
        "**Case sensitive sorting can give an unexpected result**"
      ],
      "metadata": {
        "id": "_Bb1Tf8E-cYA"
      }
    },
    {
      "cell_type": "code",
      "source": [
        "mylist =[\"Air\",\"hat\",\"glue\",\"King\",\"jocker\",\"ballon\",\"typing\",\"Wheat\"]\n",
        "mylist.sort()\n",
        "print(mylist)"
      ],
      "metadata": {
        "colab": {
          "base_uri": "https://localhost:8080/"
        },
        "id": "ym-KE5SX-ePV",
        "outputId": "0f39e795-b1ef-4508-e59e-2625fa6ff5b1"
      },
      "execution_count": 29,
      "outputs": [
        {
          "output_type": "stream",
          "name": "stdout",
          "text": [
            "['Air', 'King', 'Wheat', 'ballon', 'glue', 'hat', 'jocker', 'typing']\n"
          ]
        }
      ]
    },
    {
      "cell_type": "markdown",
      "source": [
        "**Perform a case-insensitive sort of the list**"
      ],
      "metadata": {
        "id": "kn9Id569-3gn"
      }
    },
    {
      "cell_type": "code",
      "source": [
        "mylist =[\"Air\",\"hat\",\"glue\",\"King\",\"jocker\",\"ballon\",\"typing\",\"Wheat\"]\n",
        "mylist.sort(key = str.lower)\n",
        "print(mylist)"
      ],
      "metadata": {
        "colab": {
          "base_uri": "https://localhost:8080/"
        },
        "id": "XiU2N44e-4bP",
        "outputId": "e764abee-4dca-45a5-a3d7-0487aa7cabc9"
      },
      "execution_count": 30,
      "outputs": [
        {
          "output_type": "stream",
          "name": "stdout",
          "text": [
            "['Air', 'ballon', 'glue', 'hat', 'jocker', 'King', 'typing', 'Wheat']\n"
          ]
        }
      ]
    },
    {
      "cell_type": "markdown",
      "source": [
        "**Reverse the order of the list items**"
      ],
      "metadata": {
        "id": "iIXB4uWoACCj"
      }
    },
    {
      "cell_type": "code",
      "source": [
        "mylist =[1,2,3,4,5,6,7,8,9]\n",
        "mylist.reverse()\n",
        "print(mylist)"
      ],
      "metadata": {
        "colab": {
          "base_uri": "https://localhost:8080/"
        },
        "id": "mBF4UBCdADei",
        "outputId": "3c6d73e0-ef8e-4a40-c282-cafb28e76da0"
      },
      "execution_count": 32,
      "outputs": [
        {
          "output_type": "stream",
          "name": "stdout",
          "text": [
            "[9, 8, 7, 6, 5, 4, 3, 2, 1]\n"
          ]
        }
      ]
    },
    {
      "cell_type": "markdown",
      "source": [
        "**Make a copy of a list with the copy() method**"
      ],
      "metadata": {
        "id": "df6g1SNzApeP"
      }
    },
    {
      "cell_type": "code",
      "source": [
        "mylist =[\"Air\",\"hat\",\"glue\"]\n",
        "new_list = mylist.copy()\n",
        "new_list.append(\"dan\")\n",
        "print(new_list)"
      ],
      "metadata": {
        "colab": {
          "base_uri": "https://localhost:8080/"
        },
        "id": "VWZtTeEuAr6s",
        "outputId": "e1c31a6b-315d-4b00-d805-eab3ce46147a"
      },
      "execution_count": 37,
      "outputs": [
        {
          "output_type": "stream",
          "name": "stdout",
          "text": [
            "['Air', 'hat', 'glue', 'dan']\n"
          ]
        }
      ]
    },
    {
      "cell_type": "markdown",
      "source": [
        "**Make a copy of a list with the list() method**"
      ],
      "metadata": {
        "id": "kxDVBSGFBxBo"
      }
    },
    {
      "cell_type": "code",
      "source": [
        "mylist =[\"Air\",\"hat\",\"glue\"]\n",
        "new_list = list(mylist)\n",
        "new_list.append(\"dan\")\n",
        "print(new_list)"
      ],
      "metadata": {
        "colab": {
          "base_uri": "https://localhost:8080/"
        },
        "id": "GzTBUuq_Bykh",
        "outputId": "4a45355b-6a58-4e79-cdf7-cd7c7b658f58"
      },
      "execution_count": 38,
      "outputs": [
        {
          "output_type": "stream",
          "name": "stdout",
          "text": [
            "['Air', 'hat', 'glue', 'dan']\n"
          ]
        }
      ]
    },
    {
      "cell_type": "markdown",
      "source": [
        "**Join two list**"
      ],
      "metadata": {
        "id": "L7qD3m4LCDRQ"
      }
    },
    {
      "cell_type": "code",
      "source": [
        "list1=[1,2,3]\n",
        "list2=[4,5,6]\n",
        "print(list1 + list2)"
      ],
      "metadata": {
        "colab": {
          "base_uri": "https://localhost:8080/"
        },
        "id": "NnvW8wfkCKIH",
        "outputId": "69912485-5dcf-4d26-be2b-7e7850fd689c"
      },
      "execution_count": 39,
      "outputs": [
        {
          "output_type": "stream",
          "name": "stdout",
          "text": [
            "[1, 2, 3, 4, 5, 6]\n"
          ]
        }
      ]
    },
    {
      "cell_type": "markdown",
      "source": [
        "**Add a two lists using Append list2 into list1**"
      ],
      "metadata": {
        "id": "tQmgNh_9UFM4"
      }
    },
    {
      "cell_type": "code",
      "source": [
        "list1=[12,42,43]\n",
        "list2=[44,45,66]\n",
        "for index in list2:\n",
        "  list1.append(index)\n",
        "print(list1)"
      ],
      "metadata": {
        "colab": {
          "base_uri": "https://localhost:8080/"
        },
        "id": "FE48pMMHUM7k",
        "outputId": "533788c5-c73d-400c-f1b6-ade1727ed386"
      },
      "execution_count": 46,
      "outputs": [
        {
          "output_type": "stream",
          "name": "stdout",
          "text": [
            "[12, 42, 43, 44, 45, 66]\n"
          ]
        }
      ]
    },
    {
      "cell_type": "markdown",
      "source": [
        "**Use the extend() method to add list2 at the end of list1**"
      ],
      "metadata": {
        "id": "vCboLrmUVH-f"
      }
    },
    {
      "cell_type": "code",
      "source": [
        "list1=[12,42,43]\n",
        "list2=[44,45,66]\n",
        "list1.extend(list2)\n",
        "print(list1)"
      ],
      "metadata": {
        "colab": {
          "base_uri": "https://localhost:8080/"
        },
        "id": "8dHNwV4BVHMY",
        "outputId": "5deac568-31d2-45c3-f5c4-c2e64fe6fa02"
      },
      "execution_count": 49,
      "outputs": [
        {
          "output_type": "stream",
          "name": "stdout",
          "text": [
            "[12, 42, 43, 44, 45, 66]\n"
          ]
        }
      ]
    },
    {
      "cell_type": "markdown",
      "source": [
        "**Give a n time of variable in a list and print it**"
      ],
      "metadata": {
        "id": "NgMDBLNuVokz"
      }
    },
    {
      "cell_type": "code",
      "source": [
        "thislist = []\n",
        "no_list = int(input(print(\"No of list variable\")))\n",
        "for index in range(no_list):\n",
        "  list_input = input()\n",
        "  thislist.append(list_input)\n",
        "thislist.sort()\n",
        "print(thislist)"
      ],
      "metadata": {
        "colab": {
          "base_uri": "https://localhost:8080/"
        },
        "id": "XmiVNroThQKA",
        "outputId": "a39e0be1-9154-41bc-f5c6-a727bce11d43"
      },
      "execution_count": 21,
      "outputs": [
        {
          "output_type": "stream",
          "name": "stdout",
          "text": [
            "No of list variable\n",
            "4\n",
            "temp1\n",
            "temp2\n",
            "temp3\n",
            "temp4\n",
            "['temp1', 'temp2', 'temp3', 'temp4']\n"
          ]
        }
      ]
    }
  ]
}