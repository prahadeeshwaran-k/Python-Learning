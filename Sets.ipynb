{
  "nbformat": 4,
  "nbformat_minor": 0,
  "metadata": {
    "colab": {
      "name": "Sets.ipynb",
      "provenance": [],
      "authorship_tag": "ABX9TyMgHTkISE+4vGDM3tasoVz/",
      "include_colab_link": true
    },
    "kernelspec": {
      "name": "python3",
      "display_name": "Python 3"
    },
    "language_info": {
      "name": "python"
    }
  },
  "cells": [
    {
      "cell_type": "markdown",
      "metadata": {
        "id": "view-in-github",
        "colab_type": "text"
      },
      "source": [
        "<a href=\"https://colab.research.google.com/github/prahadeeshwaran-k/Python-Learning/blob/main/Sets.ipynb\" target=\"_parent\"><img src=\"https://colab.research.google.com/assets/colab-badge.svg\" alt=\"Open In Colab\"/></a>"
      ]
    },
    {
      "cell_type": "markdown",
      "source": [
        "**Create a Set:**"
      ],
      "metadata": {
        "id": "-EuQc7NGgOR7"
      }
    },
    {
      "cell_type": "code",
      "execution_count": 1,
      "metadata": {
        "colab": {
          "base_uri": "https://localhost:8080/"
        },
        "id": "k_-cJSyHesex",
        "outputId": "a51b8e6d-c8d9-431c-c065-0bf0569003b4"
      },
      "outputs": [
        {
          "output_type": "stream",
          "name": "stdout",
          "text": [
            "{'Banner', 'Hello', 1, 2, 3, 4, 5, 'Steav', 'OdionSon'}\n"
          ]
        }
      ],
      "source": [
        "mySets = {\"Hello\",\"Hello\",\"Steav\",\"Banner\",\"OdionSon\",1,1,2,3,4,5,5}\n",
        "print(mySets)"
      ]
    }
  ]
}