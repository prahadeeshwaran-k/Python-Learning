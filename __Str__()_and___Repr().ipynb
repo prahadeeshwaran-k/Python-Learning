{
  "nbformat": 4,
  "nbformat_minor": 0,
  "metadata": {
    "colab": {
      "name": "__Str__() and __Repr().ipynb",
      "provenance": [],
      "authorship_tag": "ABX9TyNvj/8NLqVdYDK7Z/SXoX7M",
      "include_colab_link": true
    },
    "kernelspec": {
      "name": "python3",
      "display_name": "Python 3"
    },
    "language_info": {
      "name": "python"
    }
  },
  "cells": [
    {
      "cell_type": "markdown",
      "metadata": {
        "id": "view-in-github",
        "colab_type": "text"
      },
      "source": [
        "<a href=\"https://colab.research.google.com/github/prahadeeshwaran-k/Python-Learning/blob/main/__Str__()_and___Repr().ipynb\" target=\"_parent\"><img src=\"https://colab.research.google.com/assets/colab-badge.svg\" alt=\"Open In Colab\"/></a>"
      ]
    },
    {
      "cell_type": "markdown",
      "source": [
        "# Try to print a object integer vaule to string in class"
      ],
      "metadata": {
        "id": "GF0SYlVD3EwE"
      }
    },
    {
      "cell_type": "code",
      "execution_count": null,
      "metadata": {
        "colab": {
          "base_uri": "https://localhost:8080/"
        },
        "id": "5CaJcL7ntnkt",
        "outputId": "69b72f5f-533e-4ae6-dcdc-61c198c11688"
      },
      "outputs": [
        {
          "output_type": "stream",
          "name": "stdout",
          "text": [
            "<__main__.custominteger object at 0x7f09ca8828d0>\n"
          ]
        }
      ],
      "source": [
        "class custominteger:\n",
        "    def __init__(self,integer):\n",
        "        self.integer = integer\n",
        "\n",
        "integer1 = custominteger(17)\n",
        "print(str(integer1))\n",
        "\n",
        "# it's work but not work"
      ]
    },
    {
      "cell_type": "markdown",
      "source": [
        "# By using __str__ Method "
      ],
      "metadata": {
        "id": "V_afyV6u4Cc3"
      }
    },
    {
      "cell_type": "code",
      "source": [
        "class custominteger:\n",
        "    def __init__(self,integer):\n",
        "        self.integer = integer\n",
        "    def __str__(self):\n",
        "        return f\"{self.integer}\"\n",
        "\n",
        "integer1 = custominteger(17)\n",
        "print(integer1)"
      ],
      "metadata": {
        "colab": {
          "base_uri": "https://localhost:8080/"
        },
        "id": "C_eumoYZ82KD",
        "outputId": "1befaa53-d305-4447-890e-1743956d5afd"
      },
      "execution_count": null,
      "outputs": [
        {
          "output_type": "stream",
          "name": "stdout",
          "text": [
            "17\n"
          ]
        }
      ]
    },
    {
      "cell_type": "markdown",
      "source": [
        "# By using __repr__ Method "
      ],
      "metadata": {
        "id": "RxUEoLzjUR39"
      }
    },
    {
      "cell_type": "code",
      "source": [
        "#by using using repr we get the same result\n",
        "class custominteger:\n",
        "    def __init__(self,integer):\n",
        "        self.integer = integer\n",
        "    def __repr__(self):\n",
        "        return f\"{self.integer}\"\n",
        "\n",
        "integer1 = custominteger(17)\n",
        "print(integer1)"
      ],
      "metadata": {
        "colab": {
          "base_uri": "https://localhost:8080/"
        },
        "id": "d3AdUN9CUCw5",
        "outputId": "1077ff08-0dd6-456e-b58d-d852eb56c0c9"
      },
      "execution_count": 1,
      "outputs": [
        {
          "output_type": "stream",
          "name": "stdout",
          "text": [
            "17\n"
          ]
        }
      ]
    },
    {
      "cell_type": "code",
      "source": [
        "class custominteger:\n",
        "    def __init__(self,integer):\n",
        "        self.integer = integer\n",
        "    def __repr__(self):\n",
        "        return f\"Custominteger({self.integer})\"\n",
        "\n",
        "integer1 = custominteger(17)\n",
        "print(integer1)"
      ],
      "metadata": {
        "colab": {
          "base_uri": "https://localhost:8080/"
        },
        "id": "HU4SmMZdwWQQ",
        "outputId": "0a3bfb8b-0e4c-4278-fe11-cfdacb0756b5"
      },
      "execution_count": 2,
      "outputs": [
        {
          "output_type": "stream",
          "name": "stdout",
          "text": [
            "Custominteger(17)\n"
          ]
        }
      ]
    }
  ]
}