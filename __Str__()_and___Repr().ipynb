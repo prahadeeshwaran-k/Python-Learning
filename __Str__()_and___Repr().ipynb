{
  "nbformat": 4,
  "nbformat_minor": 0,
  "metadata": {
    "colab": {
      "name": "__Str__() and __Repr().ipynb",
      "provenance": [],
      "authorship_tag": "ABX9TyMs5ysZD/V/Q3dtkPTnwkMj",
      "include_colab_link": true
    },
    "kernelspec": {
      "name": "python3",
      "display_name": "Python 3"
    },
    "language_info": {
      "name": "python"
    }
  },
  "cells": [
    {
      "cell_type": "markdown",
      "metadata": {
        "id": "view-in-github",
        "colab_type": "text"
      },
      "source": [
        "<a href=\"https://colab.research.google.com/github/prahadeeshwaran-k/Python-Learning/blob/main/__Str__()_and___Repr().ipynb\" target=\"_parent\"><img src=\"https://colab.research.google.com/assets/colab-badge.svg\" alt=\"Open In Colab\"/></a>"
      ]
    },
    {
      "cell_type": "code",
      "execution_count": null,
      "metadata": {
        "id": "5CaJcL7ntnkt"
      },
      "outputs": [],
      "source": [
        ""
      ]
    }
  ]
}