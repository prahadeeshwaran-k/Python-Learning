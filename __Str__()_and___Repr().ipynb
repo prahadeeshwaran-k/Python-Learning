{
  "nbformat": 4,
  "nbformat_minor": 0,
  "metadata": {
    "colab": {
      "name": "__Str__() and __Repr().ipynb",
      "provenance": [],
      "authorship_tag": "ABX9TyO5mGMIBBpTogUxbAPhf68n",
      "include_colab_link": true
    },
    "kernelspec": {
      "name": "python3",
      "display_name": "Python 3"
    },
    "language_info": {
      "name": "python"
    }
  },
  "cells": [
    {
      "cell_type": "markdown",
      "metadata": {
        "id": "view-in-github",
        "colab_type": "text"
      },
      "source": [
        "<a href=\"https://colab.research.google.com/github/prahadeeshwaran-k/Python-Learning/blob/main/__Str__()_and___Repr().ipynb\" target=\"_parent\"><img src=\"https://colab.research.google.com/assets/colab-badge.svg\" alt=\"Open In Colab\"/></a>"
      ]
    },
    {
      "cell_type": "markdown",
      "source": [
        "# Try to print a object integer vaule to string in class"
      ],
      "metadata": {
        "id": "GF0SYlVD3EwE"
      }
    },
    {
      "cell_type": "code",
      "execution_count": 5,
      "metadata": {
        "colab": {
          "base_uri": "https://localhost:8080/"
        },
        "id": "5CaJcL7ntnkt",
        "outputId": "69b72f5f-533e-4ae6-dcdc-61c198c11688"
      },
      "outputs": [
        {
          "output_type": "stream",
          "name": "stdout",
          "text": [
            "<__main__.custominteger object at 0x7f09ca8828d0>\n"
          ]
        }
      ],
      "source": [
        "class custominteger:\n",
        "    def __init__(self,integer):\n",
        "        self.integer = integer\n",
        "\n",
        "integer1 = custominteger(17)\n",
        "print(str(integer1))\n",
        "\n",
        "# it's work but not work"
      ]
    }
  ]
}