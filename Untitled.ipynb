{
  "nbformat": 4,
  "nbformat_minor": 0,
  "metadata": {
    "colab": {
      "name": "Untitled",
      "provenance": [],
      "authorship_tag": "ABX9TyP9eJbtysw9pELbGy+aG+mR",
      "include_colab_link": true
    },
    "kernelspec": {
      "name": "python3",
      "display_name": "Python 3"
    },
    "language_info": {
      "name": "python"
    }
  },
  "cells": [
    {
      "cell_type": "markdown",
      "metadata": {
        "id": "view-in-github",
        "colab_type": "text"
      },
      "source": [
        "<a href=\"https://colab.research.google.com/github/prahadeeshwaran-k/Python-Learning/blob/main/Untitled.ipynb\" target=\"_parent\"><img src=\"https://colab.research.google.com/assets/colab-badge.svg\" alt=\"Open In Colab\"/></a>"
      ]
    },
    {
      "cell_type": "markdown",
      "source": [
        "**To call a function, use the function name followed by parenthesis:**"
      ],
      "metadata": {
        "id": "Bnvq9cpzHRBJ"
      }
    },
    {
      "cell_type": "code",
      "source": [
        "def my_function():{\n",
        "    print(\"hello worlld form function\")\n",
        "}\n",
        "\n",
        "my_function()"
      ],
      "metadata": {
        "colab": {
          "base_uri": "https://localhost:8080/"
        },
        "id": "_JNk_BK5HVqq",
        "outputId": "61f8b376-4ce6-418f-ba70-3841d5ba264a"
      },
      "execution_count": 3,
      "outputs": [
        {
          "output_type": "stream",
          "name": "stdout",
          "text": [
            "hello worlld form function\n"
          ]
        }
      ]
    },
    {
      "cell_type": "markdown",
      "source": [
        "**Information can be passed into functions as arguments.**"
      ],
      "metadata": {
        "id": "_8ruwHsaIDSw"
      }
    },
    {
      "cell_type": "code",
      "source": [
        "def my_function(arguments1):{\n",
        "    print(\"hello \"+ arguments1)\n",
        "}\n",
        "\n",
        "my_function(\"prahadeeshwaran\")\n",
        "my_function(\"tony stark\")"
      ],
      "metadata": {
        "colab": {
          "base_uri": "https://localhost:8080/"
        },
        "id": "zXcr8GVxICm8",
        "outputId": "b76efcab-f22e-4274-8a6e-95fe5a5fb717"
      },
      "execution_count": 4,
      "outputs": [
        {
          "output_type": "stream",
          "name": "stdout",
          "text": [
            "hello prahadeeshwaran\n",
            "hello tony stark\n"
          ]
        }
      ]
    },
    {
      "cell_type": "markdown",
      "source": [
        "**This function expects 2 arguments, and gets 2 arguments:**"
      ],
      "metadata": {
        "id": "q03yHwJvIxaY"
      }
    },
    {
      "cell_type": "code",
      "source": [
        "def my_function(arguments1, arguments2):{\n",
        "    print(arguments1 + \" \" + arguments2)\n",
        "}\n",
        "\n",
        "my_function(\"tony\",\"stark\")\n",
        "my_function(\"THOR\",\"ODINSON\")"
      ],
      "metadata": {
        "colab": {
          "base_uri": "https://localhost:8080/"
        },
        "id": "kSRBZ2srIzpk",
        "outputId": "1feeb197-1521-4f31-80a1-d37aaaa4cd78"
      },
      "execution_count": 8,
      "outputs": [
        {
          "output_type": "stream",
          "name": "stdout",
          "text": [
            "tony stark\n",
            "THOR ODINSON\n"
          ]
        }
      ]
    }
  ]
}