{
  "nbformat": 4,
  "nbformat_minor": 0,
  "metadata": {
    "colab": {
      "name": "Python Data Types.ipynb",
      "provenance": [],
      "collapsed_sections": [],
      "authorship_tag": "ABX9TyO/0ojfbFnzWSW36arZ0/as",
      "include_colab_link": true
    },
    "kernelspec": {
      "name": "python3",
      "display_name": "Python 3"
    },
    "language_info": {
      "name": "python"
    }
  },
  "cells": [
    {
      "cell_type": "markdown",
      "metadata": {
        "id": "view-in-github",
        "colab_type": "text"
      },
      "source": [
        "<a href=\"https://colab.research.google.com/github/prahadeeshwaran-k/Python-Learning/blob/main/Python_Data_Types.ipynb\" target=\"_parent\"><img src=\"https://colab.research.google.com/assets/colab-badge.svg\" alt=\"Open In Colab\"/></a>"
      ]
    },
    {
      "cell_type": "markdown",
      "source": [
        "**Complex Data Without Deceleration Data Type**"
      ],
      "metadata": {
        "id": "hLMBm42M8wZX"
      }
    },
    {
      "cell_type": "code",
      "metadata": {
        "colab": {
          "base_uri": "https://localhost:8080/"
        },
        "id": "O1TxQiYW0nm0",
        "outputId": "60887fbc-a549-49d1-e61f-02066bbfc5c2"
      },
      "source": [
        "c1 = 3+4j\n",
        "print(\"Complex witn out data \", c1)\n",
        "\n",
        "\n",
        "\n",
        "# \n",
        "d={3:'india'} \n"
      ],
      "execution_count": null,
      "outputs": [
        {
          "output_type": "stream",
          "name": "stdout",
          "text": [
            "Complex witn out data  (3+4j)\n",
            "C2 (3+4j)\n",
            "12345678987654322\n",
            "18.45324562513433\n",
            "[]\n",
            "[12, 35, 4, 'hello world']\n",
            "(1, 'we', 22)\n",
            "{1, 2, 4, 5, 6, 7}\n"
          ]
        }
      ]
    },
    {
      "cell_type": "markdown",
      "source": [
        "**Complex Data With Deceleration Data Type**"
      ],
      "metadata": {
        "id": "igEBrdqs9YzW"
      }
    },
    {
      "cell_type": "code",
      "source": [
        "c2 = complex(3+4j)\n",
        "print(\"C2\", c2)"
      ],
      "metadata": {
        "id": "FGUaNXee9hV6"
      },
      "execution_count": null,
      "outputs": []
    },
    {
      "cell_type": "markdown",
      "source": [
        "**Raw data can be no limites in number of data Processing in PY**"
      ],
      "metadata": {
        "id": "efYMKoQ69mYA"
      }
    },
    {
      "cell_type": "code",
      "source": [
        "rw= 12345678987654321+1\n",
        "print(rw)\n"
      ],
      "metadata": {
        "id": "CAojCDbc9kZ6"
      },
      "execution_count": null,
      "outputs": []
    },
    {
      "cell_type": "markdown",
      "source": [
        "**Float type of data Can also process large**"
      ],
      "metadata": {
        "id": "B-M616Rf91DQ"
      }
    },
    {
      "cell_type": "code",
      "source": [
        "\n",
        "ft =18.45324562513433\n",
        "print(ft)"
      ],
      "metadata": {
        "colab": {
          "base_uri": "https://localhost:8080/"
        },
        "id": "W_bX8N-s96Dk",
        "outputId": "b3655228-1531-4a7a-8614-406145791449"
      },
      "execution_count": 3,
      "outputs": [
        {
          "output_type": "stream",
          "name": "stdout",
          "text": [
            "18.45324562513433\n"
          ]
        }
      ]
    },
    {
      "cell_type": "markdown",
      "source": [
        "**Empty Set** \n",
        "\n"
      ],
      "metadata": {
        "id": "WqhbVZ59-cJM"
      }
    },
    {
      "cell_type": "code",
      "source": [
        "a =[]\n",
        "print(a)\n"
      ],
      "metadata": {
        "id": "4b6Cyw8w-iI5"
      },
      "execution_count": null,
      "outputs": []
    },
    {
      "cell_type": "markdown",
      "source": [
        "**List is mutable any time can chagable and also a data container** "
      ],
      "metadata": {
        "id": "ypdck3BM-pb4"
      }
    },
    {
      "cell_type": "code",
      "source": [
        "l1 =[12,35,4,\"hello world\",True]\n",
        "print(l1)"
      ],
      "metadata": {
        "id": "a8V13D_8-5GS"
      },
      "execution_count": null,
      "outputs": []
    },
    {
      "cell_type": "markdown",
      "source": [
        "**Tuple is immutable cant be changele and also a data container**\n"
      ],
      "metadata": {
        "id": "P2LdtS2Z_C86"
      }
    },
    {
      "cell_type": "code",
      "source": [
        "t1=(1,\"we\",22,True) \n",
        "print(t1)"
      ],
      "metadata": {
        "id": "CiM2vBHk_ZeY"
      },
      "execution_count": null,
      "outputs": []
    },
    {
      "cell_type": "markdown",
      "source": [
        "**Sets is negotiate the duplicate and also a Data Container**"
      ],
      "metadata": {
        "id": "FCdGOX1v_oqT"
      }
    },
    {
      "cell_type": "code",
      "source": [
        "S1 ={1,1,1,2,2,2,3,3,3,3,4,5,6,7,8,9}\n",
        "print(S1)"
      ],
      "metadata": {
        "colab": {
          "base_uri": "https://localhost:8080/"
        },
        "id": "iiSHaYBv__lF",
        "outputId": "9e5611d1-e954-4333-beb1-d2d6dfaab499"
      },
      "execution_count": 4,
      "outputs": [
        {
          "output_type": "stream",
          "name": "stdout",
          "text": [
            "{1, 2, 3, 4, 5, 6, 7, 8, 9}\n"
          ]
        }
      ]
    },
    {
      "cell_type": "markdown",
      "source": [
        "**Dictionary is mapping type of data type and data holder**"
      ],
      "metadata": {
        "id": "ZcghVwq9AR5O"
      }
    },
    {
      "cell_type": "code",
      "source": [
        "d={3:'india'} \n",
        "print(d)"
      ],
      "metadata": {
        "colab": {
          "base_uri": "https://localhost:8080/"
        },
        "id": "8vNjXv5GAZs8",
        "outputId": "1e36a495-3572-4372-8c45-a0878a74ff52"
      },
      "execution_count": 5,
      "outputs": [
        {
          "output_type": "stream",
          "name": "stdout",
          "text": [
            "{3: 'india'}\n"
          ]
        }
      ]
    }
  ]
}